{
 "cells": [
  {
   "cell_type": "code",
   "execution_count": 1,
   "id": "d3e6b2e9",
   "metadata": {},
   "outputs": [],
   "source": [
    "import requests\n",
    "import pandas as pd"
   ]
  },
  {
   "cell_type": "code",
   "execution_count": 2,
   "id": "5bb18d04",
   "metadata": {},
   "outputs": [
    {
     "data": {
      "text/plain": [
       "<Response [200]>"
      ]
     },
     "execution_count": 2,
     "metadata": {},
     "output_type": "execute_result"
    }
   ],
   "source": [
    "RANK_URL = \"https://api.stock.naver.com/ranking/stock/local/total\"\n",
    "response = requests.get(RANK_URL)\n",
    "response"
   ]
  },
  {
   "cell_type": "code",
   "execution_count": 3,
   "id": "52d33a79",
   "metadata": {},
   "outputs": [],
   "source": [
    "# 필요한 데이터 걸러내는 중\n",
    "datas = response.json()['datas']\n",
    "\n",
    "data_list = []\n",
    "\n",
    "for data in datas:\n",
    "    ranking = data['ranking']\n",
    "    reuters_code=float(data['reutersCode'].replace(\",\",\"\"))\n",
    "    stock_name=data['stockName']\n",
    "    close_price=float(data['closePrice'].replace(\",\",\"\"))\n",
    "    compare_previous_close_price = float(data['compareToPreviousClosePrice'].replace(\",\",\"\"))\n",
    "    acc_trading_volume = float(data['accumulatedTradingVolume'].replace(\",\",\"\"))\n",
    "    market_value= data['marketValueHangeul']\n",
    "    local_traded_at = data['localTradedAt']\n",
    "    \n",
    "    fin_data = {\n",
    "        \"순위\" : ranking,\n",
    "        \"코드\" : reuters_code,\n",
    "        \"종목명\": stock_name,\n",
    "        \"종가\": close_price,\n",
    "        \"전일종가대비\": compare_previous_close_price,\n",
    "        \"누적거래량\": acc_trading_volume,\n",
    "        \"시가총액\": market_value,\n",
    "        \"거래시각\": local_traded_at\n",
    "    }\n",
    "    \n",
    "    data_list.append(fin_data)"
   ]
  },
  {
   "cell_type": "code",
   "execution_count": 4,
   "id": "c645e77c",
   "metadata": {},
   "outputs": [
    {
     "data": {
      "text/html": [
       "<div>\n",
       "<style scoped>\n",
       "    .dataframe tbody tr th:only-of-type {\n",
       "        vertical-align: middle;\n",
       "    }\n",
       "\n",
       "    .dataframe tbody tr th {\n",
       "        vertical-align: top;\n",
       "    }\n",
       "\n",
       "    .dataframe thead th {\n",
       "        text-align: right;\n",
       "    }\n",
       "</style>\n",
       "<table border=\"1\" class=\"dataframe\">\n",
       "  <thead>\n",
       "    <tr style=\"text-align: right;\">\n",
       "      <th></th>\n",
       "      <th>순위</th>\n",
       "      <th>코드</th>\n",
       "      <th>종목명</th>\n",
       "      <th>종가</th>\n",
       "      <th>전일종가대비</th>\n",
       "      <th>누적거래량</th>\n",
       "      <th>시가총액</th>\n",
       "      <th>거래시각</th>\n",
       "    </tr>\n",
       "  </thead>\n",
       "  <tbody>\n",
       "    <tr>\n",
       "      <th>0</th>\n",
       "      <td>1</td>\n",
       "      <td>5930.0</td>\n",
       "      <td>삼성전자</td>\n",
       "      <td>67700.0</td>\n",
       "      <td>-100.0</td>\n",
       "      <td>9020208.0</td>\n",
       "      <td>404조 1,543억원</td>\n",
       "      <td>2022-04-11T12:20:31+09:00</td>\n",
       "    </tr>\n",
       "    <tr>\n",
       "      <th>1</th>\n",
       "      <td>2</td>\n",
       "      <td>35720.0</td>\n",
       "      <td>카카오</td>\n",
       "      <td>95200.0</td>\n",
       "      <td>-2800.0</td>\n",
       "      <td>1178795.0</td>\n",
       "      <td>42조 4,849억원</td>\n",
       "      <td>2022-04-11T12:20:10+09:00</td>\n",
       "    </tr>\n",
       "    <tr>\n",
       "      <th>2</th>\n",
       "      <td>3</td>\n",
       "      <td>11700.0</td>\n",
       "      <td>한신기계</td>\n",
       "      <td>10000.0</td>\n",
       "      <td>-1900.0</td>\n",
       "      <td>10766993.0</td>\n",
       "      <td>3,245억원</td>\n",
       "      <td>2022-04-11T12:20:30+09:00</td>\n",
       "    </tr>\n",
       "    <tr>\n",
       "      <th>3</th>\n",
       "      <td>4</td>\n",
       "      <td>102280.0</td>\n",
       "      <td>쌍방울</td>\n",
       "      <td>947.0</td>\n",
       "      <td>37.0</td>\n",
       "      <td>70512339.0</td>\n",
       "      <td>2,487억원</td>\n",
       "      <td>2022-04-11T12:20:39+09:00</td>\n",
       "    </tr>\n",
       "    <tr>\n",
       "      <th>4</th>\n",
       "      <td>5</td>\n",
       "      <td>1390.0</td>\n",
       "      <td>KG케미칼</td>\n",
       "      <td>40950.0</td>\n",
       "      <td>4150.0</td>\n",
       "      <td>5029185.0</td>\n",
       "      <td>5,678억원</td>\n",
       "      <td>2022-04-11T12:20:07+09:00</td>\n",
       "    </tr>\n",
       "  </tbody>\n",
       "</table>\n",
       "</div>"
      ],
      "text/plain": [
       "   순위        코드    종목명       종가  전일종가대비       누적거래량          시가총액  \\\n",
       "0   1    5930.0   삼성전자  67700.0  -100.0   9020208.0  404조 1,543억원   \n",
       "1   2   35720.0    카카오  95200.0 -2800.0   1178795.0   42조 4,849억원   \n",
       "2   3   11700.0   한신기계  10000.0 -1900.0  10766993.0       3,245억원   \n",
       "3   4  102280.0    쌍방울    947.0    37.0  70512339.0       2,487억원   \n",
       "4   5    1390.0  KG케미칼  40950.0  4150.0   5029185.0       5,678억원   \n",
       "\n",
       "                        거래시각  \n",
       "0  2022-04-11T12:20:31+09:00  \n",
       "1  2022-04-11T12:20:10+09:00  \n",
       "2  2022-04-11T12:20:30+09:00  \n",
       "3  2022-04-11T12:20:39+09:00  \n",
       "4  2022-04-11T12:20:07+09:00  "
      ]
     },
     "execution_count": 4,
     "metadata": {},
     "output_type": "execute_result"
    }
   ],
   "source": [
    "df = pd.DataFrame(data_list)\n",
    "df.head()"
   ]
  },
  {
   "cell_type": "code",
   "execution_count": 5,
   "id": "b2bf7bc8",
   "metadata": {},
   "outputs": [
    {
     "name": "stdout",
     "output_type": "stream",
     "text": [
      "<class 'pandas.core.frame.DataFrame'>\n",
      "RangeIndex: 10 entries, 0 to 9\n",
      "Data columns (total 8 columns):\n",
      " #   Column  Non-Null Count  Dtype  \n",
      "---  ------  --------------  -----  \n",
      " 0   순위      10 non-null     int64  \n",
      " 1   코드      10 non-null     float64\n",
      " 2   종목명     10 non-null     object \n",
      " 3   종가      10 non-null     float64\n",
      " 4   전일종가대비  10 non-null     float64\n",
      " 5   누적거래량   10 non-null     float64\n",
      " 6   시가총액    10 non-null     object \n",
      " 7   거래시각    10 non-null     object \n",
      "dtypes: float64(4), int64(1), object(3)\n",
      "memory usage: 768.0+ bytes\n"
     ]
    }
   ],
   "source": [
    "df.info()"
   ]
  },
  {
   "cell_type": "code",
   "execution_count": 6,
   "id": "033559b9",
   "metadata": {},
   "outputs": [],
   "source": [
    "# float(df[\"코드\"].replace(\",\",\"\"))"
   ]
  },
  {
   "cell_type": "code",
   "execution_count": 7,
   "id": "d72911e3",
   "metadata": {},
   "outputs": [],
   "source": [
    "KOSPI_URL = \"https://m.stock.naver.com/api/index/KOSPI/price?pageSize=10&page=1\"\n",
    "KOSDAQ_URL = \"https://m.stock.naver.com/api/index/KOSDAQ/price?pageSize=10&page=1\""
   ]
  },
  {
   "cell_type": "code",
   "execution_count": 8,
   "id": "fea93ce2",
   "metadata": {},
   "outputs": [
    {
     "data": {
      "text/html": [
       "<div>\n",
       "<style scoped>\n",
       "    .dataframe tbody tr th:only-of-type {\n",
       "        vertical-align: middle;\n",
       "    }\n",
       "\n",
       "    .dataframe tbody tr th {\n",
       "        vertical-align: top;\n",
       "    }\n",
       "\n",
       "    .dataframe thead th {\n",
       "        text-align: right;\n",
       "    }\n",
       "</style>\n",
       "<table border=\"1\" class=\"dataframe\">\n",
       "  <thead>\n",
       "    <tr style=\"text-align: right;\">\n",
       "      <th></th>\n",
       "      <th>localTradedAt</th>\n",
       "      <th>closePrice</th>\n",
       "      <th>compareToPreviousClosePrice</th>\n",
       "      <th>compareToPreviousPrice</th>\n",
       "      <th>fluctuationsRatio</th>\n",
       "      <th>openPrice</th>\n",
       "      <th>highPrice</th>\n",
       "      <th>lowPrice</th>\n",
       "    </tr>\n",
       "  </thead>\n",
       "  <tbody>\n",
       "    <tr>\n",
       "      <th>0</th>\n",
       "      <td>2022-04-11</td>\n",
       "      <td>2,687.66</td>\n",
       "      <td>-12.73</td>\n",
       "      <td>{'code': '5', 'text': '하락', 'name': 'FALLING'}</td>\n",
       "      <td>-0.47</td>\n",
       "      <td>2,687.54</td>\n",
       "      <td>2,711.02</td>\n",
       "      <td>2,683.96</td>\n",
       "    </tr>\n",
       "    <tr>\n",
       "      <th>1</th>\n",
       "      <td>2022-04-08</td>\n",
       "      <td>2,700.39</td>\n",
       "      <td>4.53</td>\n",
       "      <td>{'code': '2', 'text': '상승', 'name': 'RISING'}</td>\n",
       "      <td>0.17</td>\n",
       "      <td>2,706.64</td>\n",
       "      <td>2,712.00</td>\n",
       "      <td>2,685.52</td>\n",
       "    </tr>\n",
       "    <tr>\n",
       "      <th>2</th>\n",
       "      <td>2022-04-07</td>\n",
       "      <td>2,695.86</td>\n",
       "      <td>-39.17</td>\n",
       "      <td>{'code': '5', 'text': '하락', 'name': 'FALLING'}</td>\n",
       "      <td>-1.43</td>\n",
       "      <td>2,714.70</td>\n",
       "      <td>2,718.50</td>\n",
       "      <td>2,693.36</td>\n",
       "    </tr>\n",
       "    <tr>\n",
       "      <th>3</th>\n",
       "      <td>2022-04-06</td>\n",
       "      <td>2,735.03</td>\n",
       "      <td>-24.17</td>\n",
       "      <td>{'code': '5', 'text': '하락', 'name': 'FALLING'}</td>\n",
       "      <td>-0.88</td>\n",
       "      <td>2,739.07</td>\n",
       "      <td>2,747.85</td>\n",
       "      <td>2,730.66</td>\n",
       "    </tr>\n",
       "    <tr>\n",
       "      <th>4</th>\n",
       "      <td>2022-04-05</td>\n",
       "      <td>2,759.20</td>\n",
       "      <td>1.30</td>\n",
       "      <td>{'code': '2', 'text': '상승', 'name': 'RISING'}</td>\n",
       "      <td>0.05</td>\n",
       "      <td>2,765.50</td>\n",
       "      <td>2,769.18</td>\n",
       "      <td>2,750.50</td>\n",
       "    </tr>\n",
       "  </tbody>\n",
       "</table>\n",
       "</div>"
      ],
      "text/plain": [
       "  localTradedAt closePrice compareToPreviousClosePrice  \\\n",
       "0    2022-04-11   2,687.66                      -12.73   \n",
       "1    2022-04-08   2,700.39                        4.53   \n",
       "2    2022-04-07   2,695.86                      -39.17   \n",
       "3    2022-04-06   2,735.03                      -24.17   \n",
       "4    2022-04-05   2,759.20                        1.30   \n",
       "\n",
       "                           compareToPreviousPrice fluctuationsRatio openPrice  \\\n",
       "0  {'code': '5', 'text': '하락', 'name': 'FALLING'}             -0.47  2,687.54   \n",
       "1   {'code': '2', 'text': '상승', 'name': 'RISING'}              0.17  2,706.64   \n",
       "2  {'code': '5', 'text': '하락', 'name': 'FALLING'}             -1.43  2,714.70   \n",
       "3  {'code': '5', 'text': '하락', 'name': 'FALLING'}             -0.88  2,739.07   \n",
       "4   {'code': '2', 'text': '상승', 'name': 'RISING'}              0.05  2,765.50   \n",
       "\n",
       "  highPrice  lowPrice  \n",
       "0  2,711.02  2,683.96  \n",
       "1  2,712.00  2,685.52  \n",
       "2  2,718.50  2,693.36  \n",
       "3  2,747.85  2,730.66  \n",
       "4  2,769.18  2,750.50  "
      ]
     },
     "execution_count": 8,
     "metadata": {},
     "output_type": "execute_result"
    }
   ],
   "source": [
    "kospi_data = requests.get(KOSPI_URL).json()\n",
    "df_kospi = pd.DataFrame(kospi_data)\n",
    "df_kospi.head()"
   ]
  },
  {
   "cell_type": "code",
   "execution_count": 9,
   "id": "63c0c94d",
   "metadata": {},
   "outputs": [
    {
     "data": {
      "text/html": [
       "<div>\n",
       "<style scoped>\n",
       "    .dataframe tbody tr th:only-of-type {\n",
       "        vertical-align: middle;\n",
       "    }\n",
       "\n",
       "    .dataframe tbody tr th {\n",
       "        vertical-align: top;\n",
       "    }\n",
       "\n",
       "    .dataframe thead th {\n",
       "        text-align: right;\n",
       "    }\n",
       "</style>\n",
       "<table border=\"1\" class=\"dataframe\">\n",
       "  <thead>\n",
       "    <tr style=\"text-align: right;\">\n",
       "      <th></th>\n",
       "      <th>localTradedAt</th>\n",
       "      <th>closePrice</th>\n",
       "      <th>compareToPreviousClosePrice</th>\n",
       "      <th>compareToPreviousPrice</th>\n",
       "      <th>fluctuationsRatio</th>\n",
       "      <th>openPrice</th>\n",
       "      <th>highPrice</th>\n",
       "      <th>lowPrice</th>\n",
       "    </tr>\n",
       "  </thead>\n",
       "  <tbody>\n",
       "    <tr>\n",
       "      <th>0</th>\n",
       "      <td>2022-04-11</td>\n",
       "      <td>925.15</td>\n",
       "      <td>-9.58</td>\n",
       "      <td>{'code': '5', 'text': '하락', 'name': 'FALLING'}</td>\n",
       "      <td>-1.02</td>\n",
       "      <td>932.48</td>\n",
       "      <td>934.61</td>\n",
       "      <td>924.12</td>\n",
       "    </tr>\n",
       "    <tr>\n",
       "      <th>1</th>\n",
       "      <td>2022-04-08</td>\n",
       "      <td>934.73</td>\n",
       "      <td>6.78</td>\n",
       "      <td>{'code': '2', 'text': '상승', 'name': 'RISING'}</td>\n",
       "      <td>0.73</td>\n",
       "      <td>931.98</td>\n",
       "      <td>935.68</td>\n",
       "      <td>924.73</td>\n",
       "    </tr>\n",
       "    <tr>\n",
       "      <th>2</th>\n",
       "      <td>2022-04-07</td>\n",
       "      <td>927.95</td>\n",
       "      <td>-15.18</td>\n",
       "      <td>{'code': '5', 'text': '하락', 'name': 'FALLING'}</td>\n",
       "      <td>-1.61</td>\n",
       "      <td>936.92</td>\n",
       "      <td>936.92</td>\n",
       "      <td>925.91</td>\n",
       "    </tr>\n",
       "    <tr>\n",
       "      <th>3</th>\n",
       "      <td>2022-04-06</td>\n",
       "      <td>943.13</td>\n",
       "      <td>-9.34</td>\n",
       "      <td>{'code': '5', 'text': '하락', 'name': 'FALLING'}</td>\n",
       "      <td>-0.98</td>\n",
       "      <td>944.27</td>\n",
       "      <td>947.41</td>\n",
       "      <td>939.82</td>\n",
       "    </tr>\n",
       "    <tr>\n",
       "      <th>4</th>\n",
       "      <td>2022-04-05</td>\n",
       "      <td>952.47</td>\n",
       "      <td>5.15</td>\n",
       "      <td>{'code': '2', 'text': '상승', 'name': 'RISING'}</td>\n",
       "      <td>0.54</td>\n",
       "      <td>950.89</td>\n",
       "      <td>953.06</td>\n",
       "      <td>949.46</td>\n",
       "    </tr>\n",
       "  </tbody>\n",
       "</table>\n",
       "</div>"
      ],
      "text/plain": [
       "  localTradedAt closePrice compareToPreviousClosePrice  \\\n",
       "0    2022-04-11     925.15                       -9.58   \n",
       "1    2022-04-08     934.73                        6.78   \n",
       "2    2022-04-07     927.95                      -15.18   \n",
       "3    2022-04-06     943.13                       -9.34   \n",
       "4    2022-04-05     952.47                        5.15   \n",
       "\n",
       "                           compareToPreviousPrice fluctuationsRatio openPrice  \\\n",
       "0  {'code': '5', 'text': '하락', 'name': 'FALLING'}             -1.02    932.48   \n",
       "1   {'code': '2', 'text': '상승', 'name': 'RISING'}              0.73    931.98   \n",
       "2  {'code': '5', 'text': '하락', 'name': 'FALLING'}             -1.61    936.92   \n",
       "3  {'code': '5', 'text': '하락', 'name': 'FALLING'}             -0.98    944.27   \n",
       "4   {'code': '2', 'text': '상승', 'name': 'RISING'}              0.54    950.89   \n",
       "\n",
       "  highPrice lowPrice  \n",
       "0    934.61   924.12  \n",
       "1    935.68   924.73  \n",
       "2    936.92   925.91  \n",
       "3    947.41   939.82  \n",
       "4    953.06   949.46  "
      ]
     },
     "execution_count": 9,
     "metadata": {},
     "output_type": "execute_result"
    }
   ],
   "source": [
    "kosdaq_data = requests.get(KOSDAQ_URL).json()\n",
    "df_kosdaq = pd.DataFrame(kosdaq_data)\n",
    "df_kosdaq.head()"
   ]
  },
  {
   "cell_type": "code",
   "execution_count": 13,
   "id": "a40fab73",
   "metadata": {},
   "outputs": [
    {
     "ename": "TypeError",
     "evalue": "unhashable type: 'slice'",
     "output_type": "error",
     "traceback": [
      "\u001b[0;31m---------------------------------------------------------------------------\u001b[0m",
      "\u001b[0;31mTypeError\u001b[0m                                 Traceback (most recent call last)",
      "\u001b[0;32m/var/folders/l6/zf_y8js55058y519pbd3k9480000gn/T/ipykernel_20567/2813848589.py\u001b[0m in \u001b[0;36m<module>\u001b[0;34m\u001b[0m\n\u001b[0;32m----> 1\u001b[0;31m \u001b[0mdatas\u001b[0m \u001b[0;34m=\u001b[0m \u001b[0mresponse\u001b[0m\u001b[0;34m.\u001b[0m\u001b[0mjson\u001b[0m\u001b[0;34m(\u001b[0m\u001b[0;34m)\u001b[0m\u001b[0;34m[\u001b[0m\u001b[0;34m:\u001b[0m\u001b[0;34m]\u001b[0m\u001b[0;31m# 여기는 키값 넣을 딕셔너리에 키값이 따로 없으니까 이렇게 안해도 됨..\u001b[0m\u001b[0;34m\u001b[0m\u001b[0;34m\u001b[0m\u001b[0m\n\u001b[0m\u001b[1;32m      2\u001b[0m \u001b[0;34m\u001b[0m\u001b[0m\n\u001b[1;32m      3\u001b[0m \u001b[0mkospi_list\u001b[0m \u001b[0;34m=\u001b[0m\u001b[0;34m[\u001b[0m\u001b[0;34m]\u001b[0m\u001b[0;34m\u001b[0m\u001b[0;34m\u001b[0m\u001b[0m\n\u001b[1;32m      4\u001b[0m \u001b[0;34m\u001b[0m\u001b[0m\n\u001b[1;32m      5\u001b[0m \u001b[0;32mfor\u001b[0m \u001b[0mdata\u001b[0m \u001b[0;32min\u001b[0m \u001b[0mdatas\u001b[0m\u001b[0;34m:\u001b[0m\u001b[0;34m\u001b[0m\u001b[0;34m\u001b[0m\u001b[0m\n",
      "\u001b[0;31mTypeError\u001b[0m: unhashable type: 'slice'"
     ]
    }
   ],
   "source": [
    "datas = response.json()[:]# 여기는 키값 넣을 딕셔너리에 키값이 따로 없으니까 이렇게 안해도 됨..\n",
    "\n",
    "kospi_list =[]\n",
    "\n",
    "for data in datas:\n",
    "    local_traded_at = data['localTradedAt']\n",
    "    close_price= data['closePrice']\n",
    "    compare_previous_close_price = data['compareToPreviousClosePrice']\n",
    "    fluctuations_ratio = data['fluctuationsRatio']\n",
    "    open_price = data['openPrice']\n",
    "    high_price = data['highPrice']\n",
    "    low_price = data['lowPrice']\n",
    "    \n",
    "    finance_data = {\n",
    "        \"거래일\" : localTradedAt,\n",
    "        \"종가\" : closePrice,\n",
    "        \"전일대비\": compareToPreviousClosePrice,\n",
    "        \"변동비율\": fluctuationsRatio,\n",
    "        \"시가\": openPrice,\n",
    "        \"고가\": highPrice,\n",
    "        \"저가\": lowPrice\n",
    "    }\n",
    "    \n",
    "    kospi_list.append(finance_data)"
   ]
  },
  {
   "cell_type": "code",
   "execution_count": 14,
   "id": "f66621dc",
   "metadata": {},
   "outputs": [],
   "source": [
    "import matplotlib.pyplot as plt\n",
    "import seaborn as sns"
   ]
  },
  {
   "cell_type": "code",
   "execution_count": 15,
   "id": "daa4420f",
   "metadata": {},
   "outputs": [],
   "source": [
    "sns.set()"
   ]
  },
  {
   "cell_type": "code",
   "execution_count": 16,
   "id": "57d0f0e9",
   "metadata": {},
   "outputs": [
    {
     "data": {
      "image/png": "[encoded data removed]",
      "text/plain": [
       "<Figure size 1440x720 with 1 Axes>"
      ]
     },
     "metadata": {},
     "output_type": "display_data"
    }
   ],
   "source": [
    "# 일자의 종가 등락 확인\n",
    "plt.figure(figsize=(20, 10))\n",
    "\n",
    "plt.plot(df_kospi[\"localTradedAt\"], df_kospi[\"closePrice\"], \"r*:\", label=\"kospi\")\n",
    "plt.plot(df_kosdaq[\"localTradedAt\"], df_kosdaq[\"closePrice\"], \"bo:\", label=\"kosdaq\")\n",
    "\n",
    "plt.show()"
   ]
  },
  {
   "cell_type": "code",
   "execution_count": 17,
   "id": "93211818",
   "metadata": {},
   "outputs": [],
   "source": [
    "import numpy as np\n",
    "\n",
    "df_kospi['closePrice']= df_kospi['closePrice'].str.replace(\",\",\"\")\n",
    "df_kospi['closePrice']= df_kospi['closePrice'].astype(np.float32)"
   ]
  },
  {
   "cell_type": "code",
   "execution_count": 18,
   "id": "6ec75a08",
   "metadata": {},
   "outputs": [],
   "source": [
    "df_kosdaq['closePrice']= df_kosdaq['closePrice'].str.replace(\",\",\"\")\n",
    "df_kosdaq['closePrice']= df_kosdaq['closePrice'].astype(np.float32)"
   ]
  },
  {
   "cell_type": "markdown",
   "id": "e62c0a1f",
   "metadata": {},
   "source": [
    "데이터의 정규화와 표준화\n",
    "* 정규화 Normalization\n",
    "    - 모든 데이터를 일정한 수치로 맞춰주는 과정\n",
    "    - 0~1로 데이터를 스케일링\n",
    "* 표준화 Standard\n",
    "    - 데이터의 평균을 0으로 맞추고, 표준편차를 1로 맞추는 과정\n",
    "    - 이상치에 대한 보정\n",
    "    - 데이터의 분포를 일정하게 맞춰줄 수 있다."
   ]
  },
  {
   "cell_type": "code",
   "execution_count": 19,
   "id": "82882db9",
   "metadata": {},
   "outputs": [],
   "source": [
    "from sklearn.preprocessing import MinMaxScaler, StandardScaler"
   ]
  },
  {
   "cell_type": "code",
   "execution_count": 20,
   "id": "edb694dd",
   "metadata": {
    "scrolled": true
   },
   "outputs": [
    {
     "data": {
      "text/plain": [
       "0    2687.659912\n",
       "1    2700.389893\n",
       "2    2695.860107\n",
       "3    2735.030029\n",
       "4    2759.199951\n",
       "5    2757.899902\n",
       "6    2739.850098\n",
       "7    2757.649902\n",
       "8    2746.739990\n",
       "9    2741.070068\n",
       "Name: closePrice, dtype: float32"
      ]
     },
     "execution_count": 20,
     "metadata": {},
     "output_type": "execute_result"
    }
   ],
   "source": [
    "scaler = MinMaxScaler()\n",
    "df_close_price = df_kospi['closePrice']\n",
    "df_close_price"
   ]
  },
  {
   "cell_type": "code",
   "execution_count": 21,
   "id": "db4f4baa",
   "metadata": {},
   "outputs": [
    {
     "data": {
      "text/plain": [
       "array([[0.        ],\n",
       "       [0.17794037],\n",
       "       [0.11462402],\n",
       "       [0.6621475 ],\n",
       "       [1.        ],\n",
       "       [0.9818268 ],\n",
       "       [0.7295227 ],\n",
       "       [0.9783325 ],\n",
       "       [0.82583237],\n",
       "       [0.7465744 ]], dtype=float32)"
      ]
     },
     "execution_count": 21,
     "metadata": {},
     "output_type": "execute_result"
    }
   ],
   "source": [
    "close_price_scaled = scaler.fit_transform(df_close_price.values.reshape(-1, 1))\n",
    "close_price_scaled"
   ]
  },
  {
   "cell_type": "markdown",
   "id": "d794e1e4",
   "metadata": {},
   "source": [
    "함수로 되어 있는 'minmax_scale' 사용"
   ]
  },
  {
   "cell_type": "code",
   "execution_count": 22,
   "id": "b0ea28e2",
   "metadata": {},
   "outputs": [],
   "source": [
    "from sklearn import preprocessing\n",
    "scaled_kospi_cp = preprocessing.minmax_scale(df_kospi[\"closePrice\"])\n",
    "scaled_kosdaq_cp = preprocessing.minmax_scale(df_kosdaq[\"closePrice\"])"
   ]
  },
  {
   "cell_type": "code",
   "execution_count": 23,
   "id": "fab426a6",
   "metadata": {},
   "outputs": [
    {
     "data": {
      "text/plain": [
       "(array([0.        , 0.17794037, 0.11462402, 0.6621475 , 1.        ,\n",
       "        0.9818268 , 0.7295227 , 0.9783325 , 0.82583237, 0.7465744 ],\n",
       "       dtype=float32),\n",
       " array([0.        , 0.35065842, 0.10248947, 0.65812683, 1.        ,\n",
       "        0.81149673, 0.5644226 , 0.7093735 , 0.50951767, 0.4641304 ],\n",
       "       dtype=float32))"
      ]
     },
     "execution_count": 23,
     "metadata": {},
     "output_type": "execute_result"
    }
   ],
   "source": [
    "scaled_kospi_cp, scaled_kosdaq_cp"
   ]
  },
  {
   "cell_type": "code",
   "execution_count": 24,
   "id": "fdba78fb",
   "metadata": {
    "scrolled": true
   },
   "outputs": [
    {
     "data": {
      "image/png": "[encoded data removed]",
      "text/plain": [
       "<Figure size 1440x504 with 1 Axes>"
      ]
     },
     "metadata": {},
     "output_type": "display_data"
    }
   ],
   "source": [
    "trade_dates = df_kospi[\"localTradedAt\"][::-1]\n",
    "\n",
    "plt.figure(figsize=(20, 7))\n",
    "plt.plot(trade_dates, scaled_kospi_cp, \"r*:\", label='KOSPI')\n",
    "plt.plot(trade_dates, scaled_kosdaq_cp, \"bo:\", label=\"KOSDAQ\")\n",
    "plt.legend()\n",
    "plt.show()"
   ]
  },
  {
   "cell_type": "code",
   "execution_count": 25,
   "id": "11fd6840",
   "metadata": {},
   "outputs": [
    {
     "data": {
      "text/html": [
       "<div>\n",
       "<style scoped>\n",
       "    .dataframe tbody tr th:only-of-type {\n",
       "        vertical-align: middle;\n",
       "    }\n",
       "\n",
       "    .dataframe tbody tr th {\n",
       "        vertical-align: top;\n",
       "    }\n",
       "\n",
       "    .dataframe thead th {\n",
       "        text-align: right;\n",
       "    }\n",
       "</style>\n",
       "<table border=\"1\" class=\"dataframe\">\n",
       "  <thead>\n",
       "    <tr style=\"text-align: right;\">\n",
       "      <th></th>\n",
       "      <th>localTradedAt</th>\n",
       "      <th>closePrice</th>\n",
       "      <th>compareToPreviousClosePrice</th>\n",
       "      <th>compareToPreviousPrice</th>\n",
       "      <th>fluctuationsRatio</th>\n",
       "      <th>openPrice</th>\n",
       "      <th>highPrice</th>\n",
       "      <th>lowPrice</th>\n",
       "    </tr>\n",
       "  </thead>\n",
       "  <tbody>\n",
       "    <tr>\n",
       "      <th>0</th>\n",
       "      <td>2022-04-11</td>\n",
       "      <td>2687.659912</td>\n",
       "      <td>-12.73</td>\n",
       "      <td>{'code': '5', 'text': '하락', 'name': 'FALLING'}</td>\n",
       "      <td>-0.47</td>\n",
       "      <td>2,687.54</td>\n",
       "      <td>2,711.02</td>\n",
       "      <td>2,683.96</td>\n",
       "    </tr>\n",
       "    <tr>\n",
       "      <th>1</th>\n",
       "      <td>2022-04-08</td>\n",
       "      <td>2700.389893</td>\n",
       "      <td>4.53</td>\n",
       "      <td>{'code': '2', 'text': '상승', 'name': 'RISING'}</td>\n",
       "      <td>0.17</td>\n",
       "      <td>2,706.64</td>\n",
       "      <td>2,712.00</td>\n",
       "      <td>2,685.52</td>\n",
       "    </tr>\n",
       "    <tr>\n",
       "      <th>2</th>\n",
       "      <td>2022-04-07</td>\n",
       "      <td>2695.860107</td>\n",
       "      <td>-39.17</td>\n",
       "      <td>{'code': '5', 'text': '하락', 'name': 'FALLING'}</td>\n",
       "      <td>-1.43</td>\n",
       "      <td>2,714.70</td>\n",
       "      <td>2,718.50</td>\n",
       "      <td>2,693.36</td>\n",
       "    </tr>\n",
       "    <tr>\n",
       "      <th>3</th>\n",
       "      <td>2022-04-06</td>\n",
       "      <td>2735.030029</td>\n",
       "      <td>-24.17</td>\n",
       "      <td>{'code': '5', 'text': '하락', 'name': 'FALLING'}</td>\n",
       "      <td>-0.88</td>\n",
       "      <td>2,739.07</td>\n",
       "      <td>2,747.85</td>\n",
       "      <td>2,730.66</td>\n",
       "    </tr>\n",
       "    <tr>\n",
       "      <th>4</th>\n",
       "      <td>2022-04-05</td>\n",
       "      <td>2759.199951</td>\n",
       "      <td>1.30</td>\n",
       "      <td>{'code': '2', 'text': '상승', 'name': 'RISING'}</td>\n",
       "      <td>0.05</td>\n",
       "      <td>2,765.50</td>\n",
       "      <td>2,769.18</td>\n",
       "      <td>2,750.50</td>\n",
       "    </tr>\n",
       "  </tbody>\n",
       "</table>\n",
       "</div>"
      ],
      "text/plain": [
       "  localTradedAt   closePrice compareToPreviousClosePrice  \\\n",
       "0    2022-04-11  2687.659912                      -12.73   \n",
       "1    2022-04-08  2700.389893                        4.53   \n",
       "2    2022-04-07  2695.860107                      -39.17   \n",
       "3    2022-04-06  2735.030029                      -24.17   \n",
       "4    2022-04-05  2759.199951                        1.30   \n",
       "\n",
       "                           compareToPreviousPrice fluctuationsRatio openPrice  \\\n",
       "0  {'code': '5', 'text': '하락', 'name': 'FALLING'}             -0.47  2,687.54   \n",
       "1   {'code': '2', 'text': '상승', 'name': 'RISING'}              0.17  2,706.64   \n",
       "2  {'code': '5', 'text': '하락', 'name': 'FALLING'}             -1.43  2,714.70   \n",
       "3  {'code': '5', 'text': '하락', 'name': 'FALLING'}             -0.88  2,739.07   \n",
       "4   {'code': '2', 'text': '상승', 'name': 'RISING'}              0.05  2,765.50   \n",
       "\n",
       "  highPrice  lowPrice  \n",
       "0  2,711.02  2,683.96  \n",
       "1  2,712.00  2,685.52  \n",
       "2  2,718.50  2,693.36  \n",
       "3  2,747.85  2,730.66  \n",
       "4  2,769.18  2,750.50  "
      ]
     },
     "execution_count": 25,
     "metadata": {},
     "output_type": "execute_result"
    }
   ],
   "source": [
    "df_kospi.head()"
   ]
  },
  {
   "cell_type": "code",
   "execution_count": 26,
   "id": "9a75500f",
   "metadata": {
    "scrolled": true
   },
   "outputs": [
    {
     "data": {
      "text/html": [
       "<div>\n",
       "<style scoped>\n",
       "    .dataframe tbody tr th:only-of-type {\n",
       "        vertical-align: middle;\n",
       "    }\n",
       "\n",
       "    .dataframe tbody tr th {\n",
       "        vertical-align: top;\n",
       "    }\n",
       "\n",
       "    .dataframe thead th {\n",
       "        text-align: right;\n",
       "    }\n",
       "</style>\n",
       "<table border=\"1\" class=\"dataframe\">\n",
       "  <thead>\n",
       "    <tr style=\"text-align: right;\">\n",
       "      <th></th>\n",
       "      <th>stockExchangeType</th>\n",
       "      <th>localTradedAt</th>\n",
       "      <th>worldIndexSymbol</th>\n",
       "      <th>openPrice</th>\n",
       "      <th>highPrice</th>\n",
       "      <th>lowPrice</th>\n",
       "      <th>closePrice</th>\n",
       "      <th>compareToPreviousClosePrice</th>\n",
       "      <th>fluctuationsRatio</th>\n",
       "      <th>compareToPreviousPrice</th>\n",
       "    </tr>\n",
       "  </thead>\n",
       "  <tbody>\n",
       "    <tr>\n",
       "      <th>0</th>\n",
       "      <td>{'code': 'NYS', 'zoneId': 'EST5EDT', 'nationTy...</td>\n",
       "      <td>2022-04-08T18:50:36-04:00</td>\n",
       "      <td>.DJI</td>\n",
       "      <td>34,569.24</td>\n",
       "      <td>34,908.46</td>\n",
       "      <td>34,470.19</td>\n",
       "      <td>34,721.12</td>\n",
       "      <td>137.55</td>\n",
       "      <td>0.40</td>\n",
       "      <td>{'code': '2', 'text': '상승', 'name': 'RISING'}</td>\n",
       "    </tr>\n",
       "    <tr>\n",
       "      <th>1</th>\n",
       "      <td>{'code': 'NYS', 'zoneId': 'EST5EDT', 'nationTy...</td>\n",
       "      <td>2022-04-07T17:01:19-04:00</td>\n",
       "      <td>.DJI</td>\n",
       "      <td>34,439.24</td>\n",
       "      <td>34,705.83</td>\n",
       "      <td>34,190.95</td>\n",
       "      <td>34,583.57</td>\n",
       "      <td>87.06</td>\n",
       "      <td>0.25</td>\n",
       "      <td>{'code': '2', 'text': '상승', 'name': 'RISING'}</td>\n",
       "    </tr>\n",
       "    <tr>\n",
       "      <th>2</th>\n",
       "      <td>{'code': 'NYS', 'zoneId': 'EST5EDT', 'nationTy...</td>\n",
       "      <td>2022-04-06T16:54:48-04:00</td>\n",
       "      <td>.DJI</td>\n",
       "      <td>34,520.34</td>\n",
       "      <td>34,609.84</td>\n",
       "      <td>34,277.17</td>\n",
       "      <td>34,496.51</td>\n",
       "      <td>-144.67</td>\n",
       "      <td>-0.42</td>\n",
       "      <td>{'code': '5', 'text': '하락', 'name': 'FALLING'}</td>\n",
       "    </tr>\n",
       "    <tr>\n",
       "      <th>3</th>\n",
       "      <td>{'code': 'NYS', 'zoneId': 'EST5EDT', 'nationTy...</td>\n",
       "      <td>2022-04-05T18:07:06-04:00</td>\n",
       "      <td>.DJI</td>\n",
       "      <td>34,876.33</td>\n",
       "      <td>35,112.21</td>\n",
       "      <td>34,566.04</td>\n",
       "      <td>34,641.18</td>\n",
       "      <td>-280.70</td>\n",
       "      <td>-0.80</td>\n",
       "      <td>{'code': '5', 'text': '하락', 'name': 'FALLING'}</td>\n",
       "    </tr>\n",
       "    <tr>\n",
       "      <th>4</th>\n",
       "      <td>{'code': 'NYS', 'zoneId': 'EST5EDT', 'nationTy...</td>\n",
       "      <td>2022-04-04T17:07:02-04:00</td>\n",
       "      <td>.DJI</td>\n",
       "      <td>34,799.98</td>\n",
       "      <td>34,940.78</td>\n",
       "      <td>34,615.38</td>\n",
       "      <td>34,921.88</td>\n",
       "      <td>103.61</td>\n",
       "      <td>0.30</td>\n",
       "      <td>{'code': '2', 'text': '상승', 'name': 'RISING'}</td>\n",
       "    </tr>\n",
       "  </tbody>\n",
       "</table>\n",
       "</div>"
      ],
      "text/plain": [
       "                                   stockExchangeType  \\\n",
       "0  {'code': 'NYS', 'zoneId': 'EST5EDT', 'nationTy...   \n",
       "1  {'code': 'NYS', 'zoneId': 'EST5EDT', 'nationTy...   \n",
       "2  {'code': 'NYS', 'zoneId': 'EST5EDT', 'nationTy...   \n",
       "3  {'code': 'NYS', 'zoneId': 'EST5EDT', 'nationTy...   \n",
       "4  {'code': 'NYS', 'zoneId': 'EST5EDT', 'nationTy...   \n",
       "\n",
       "               localTradedAt worldIndexSymbol  openPrice  highPrice  \\\n",
       "0  2022-04-08T18:50:36-04:00             .DJI  34,569.24  34,908.46   \n",
       "1  2022-04-07T17:01:19-04:00             .DJI  34,439.24  34,705.83   \n",
       "2  2022-04-06T16:54:48-04:00             .DJI  34,520.34  34,609.84   \n",
       "3  2022-04-05T18:07:06-04:00             .DJI  34,876.33  35,112.21   \n",
       "4  2022-04-04T17:07:02-04:00             .DJI  34,799.98  34,940.78   \n",
       "\n",
       "    lowPrice closePrice  compareToPreviousClosePrice  fluctuationsRatio  \\\n",
       "0  34,470.19  34,721.12                       137.55               0.40   \n",
       "1  34,190.95  34,583.57                        87.06               0.25   \n",
       "2  34,277.17  34,496.51                      -144.67              -0.42   \n",
       "3  34,566.04  34,641.18                      -280.70              -0.80   \n",
       "4  34,615.38  34,921.88                       103.61               0.30   \n",
       "\n",
       "                           compareToPreviousPrice  \n",
       "0   {'code': '2', 'text': '상승', 'name': 'RISING'}  \n",
       "1   {'code': '2', 'text': '상승', 'name': 'RISING'}  \n",
       "2  {'code': '5', 'text': '하락', 'name': 'FALLING'}  \n",
       "3  {'code': '5', 'text': '하락', 'name': 'FALLING'}  \n",
       "4   {'code': '2', 'text': '상승', 'name': 'RISING'}  "
      ]
     },
     "execution_count": 26,
     "metadata": {},
     "output_type": "execute_result"
    }
   ],
   "source": [
    "DOW_URL = \"https://api.stock.naver.com/index/.DJI/price?page=1&pageSize=10\"\n",
    "df_dow = pd.read_json(DOW_URL)\n",
    "df_dow.head()"
   ]
  },
  {
   "cell_type": "markdown",
   "id": "8e590df7",
   "metadata": {},
   "source": [
    "pandas to_datetime 메소드를 이용해 날짜 형식의 문자열을 날짜 객체로 변환"
   ]
  },
  {
   "cell_type": "code",
   "execution_count": 27,
   "id": "19f19fb6",
   "metadata": {
    "scrolled": true
   },
   "outputs": [
    {
     "data": {
      "text/html": [
       "<div>\n",
       "<style scoped>\n",
       "    .dataframe tbody tr th:only-of-type {\n",
       "        vertical-align: middle;\n",
       "    }\n",
       "\n",
       "    .dataframe tbody tr th {\n",
       "        vertical-align: top;\n",
       "    }\n",
       "\n",
       "    .dataframe thead th {\n",
       "        text-align: right;\n",
       "    }\n",
       "</style>\n",
       "<table border=\"1\" class=\"dataframe\">\n",
       "  <thead>\n",
       "    <tr style=\"text-align: right;\">\n",
       "      <th></th>\n",
       "      <th>stockExchangeType</th>\n",
       "      <th>localTradedAt</th>\n",
       "      <th>worldIndexSymbol</th>\n",
       "      <th>openPrice</th>\n",
       "      <th>highPrice</th>\n",
       "      <th>lowPrice</th>\n",
       "      <th>closePrice</th>\n",
       "      <th>compareToPreviousClosePrice</th>\n",
       "      <th>fluctuationsRatio</th>\n",
       "      <th>compareToPreviousPrice</th>\n",
       "      <th>tradeDatetime</th>\n",
       "    </tr>\n",
       "  </thead>\n",
       "  <tbody>\n",
       "    <tr>\n",
       "      <th>0</th>\n",
       "      <td>{'code': 'NYS', 'zoneId': 'EST5EDT', 'nationTy...</td>\n",
       "      <td>2022-04-08T18:50:36-04:00</td>\n",
       "      <td>.DJI</td>\n",
       "      <td>34,569.24</td>\n",
       "      <td>34,908.46</td>\n",
       "      <td>34,470.19</td>\n",
       "      <td>34,721.12</td>\n",
       "      <td>137.55</td>\n",
       "      <td>0.40</td>\n",
       "      <td>{'code': '2', 'text': '상승', 'name': 'RISING'}</td>\n",
       "      <td>2022-04-08 18:50:36-04:00</td>\n",
       "    </tr>\n",
       "    <tr>\n",
       "      <th>1</th>\n",
       "      <td>{'code': 'NYS', 'zoneId': 'EST5EDT', 'nationTy...</td>\n",
       "      <td>2022-04-07T17:01:19-04:00</td>\n",
       "      <td>.DJI</td>\n",
       "      <td>34,439.24</td>\n",
       "      <td>34,705.83</td>\n",
       "      <td>34,190.95</td>\n",
       "      <td>34,583.57</td>\n",
       "      <td>87.06</td>\n",
       "      <td>0.25</td>\n",
       "      <td>{'code': '2', 'text': '상승', 'name': 'RISING'}</td>\n",
       "      <td>2022-04-07 17:01:19-04:00</td>\n",
       "    </tr>\n",
       "    <tr>\n",
       "      <th>2</th>\n",
       "      <td>{'code': 'NYS', 'zoneId': 'EST5EDT', 'nationTy...</td>\n",
       "      <td>2022-04-06T16:54:48-04:00</td>\n",
       "      <td>.DJI</td>\n",
       "      <td>34,520.34</td>\n",
       "      <td>34,609.84</td>\n",
       "      <td>34,277.17</td>\n",
       "      <td>34,496.51</td>\n",
       "      <td>-144.67</td>\n",
       "      <td>-0.42</td>\n",
       "      <td>{'code': '5', 'text': '하락', 'name': 'FALLING'}</td>\n",
       "      <td>2022-04-06 16:54:48-04:00</td>\n",
       "    </tr>\n",
       "    <tr>\n",
       "      <th>3</th>\n",
       "      <td>{'code': 'NYS', 'zoneId': 'EST5EDT', 'nationTy...</td>\n",
       "      <td>2022-04-05T18:07:06-04:00</td>\n",
       "      <td>.DJI</td>\n",
       "      <td>34,876.33</td>\n",
       "      <td>35,112.21</td>\n",
       "      <td>34,566.04</td>\n",
       "      <td>34,641.18</td>\n",
       "      <td>-280.70</td>\n",
       "      <td>-0.80</td>\n",
       "      <td>{'code': '5', 'text': '하락', 'name': 'FALLING'}</td>\n",
       "      <td>2022-04-05 18:07:06-04:00</td>\n",
       "    </tr>\n",
       "    <tr>\n",
       "      <th>4</th>\n",
       "      <td>{'code': 'NYS', 'zoneId': 'EST5EDT', 'nationTy...</td>\n",
       "      <td>2022-04-04T17:07:02-04:00</td>\n",
       "      <td>.DJI</td>\n",
       "      <td>34,799.98</td>\n",
       "      <td>34,940.78</td>\n",
       "      <td>34,615.38</td>\n",
       "      <td>34,921.88</td>\n",
       "      <td>103.61</td>\n",
       "      <td>0.30</td>\n",
       "      <td>{'code': '2', 'text': '상승', 'name': 'RISING'}</td>\n",
       "      <td>2022-04-04 17:07:02-04:00</td>\n",
       "    </tr>\n",
       "  </tbody>\n",
       "</table>\n",
       "</div>"
      ],
      "text/plain": [
       "                                   stockExchangeType  \\\n",
       "0  {'code': 'NYS', 'zoneId': 'EST5EDT', 'nationTy...   \n",
       "1  {'code': 'NYS', 'zoneId': 'EST5EDT', 'nationTy...   \n",
       "2  {'code': 'NYS', 'zoneId': 'EST5EDT', 'nationTy...   \n",
       "3  {'code': 'NYS', 'zoneId': 'EST5EDT', 'nationTy...   \n",
       "4  {'code': 'NYS', 'zoneId': 'EST5EDT', 'nationTy...   \n",
       "\n",
       "               localTradedAt worldIndexSymbol  openPrice  highPrice  \\\n",
       "0  2022-04-08T18:50:36-04:00             .DJI  34,569.24  34,908.46   \n",
       "1  2022-04-07T17:01:19-04:00             .DJI  34,439.24  34,705.83   \n",
       "2  2022-04-06T16:54:48-04:00             .DJI  34,520.34  34,609.84   \n",
       "3  2022-04-05T18:07:06-04:00             .DJI  34,876.33  35,112.21   \n",
       "4  2022-04-04T17:07:02-04:00             .DJI  34,799.98  34,940.78   \n",
       "\n",
       "    lowPrice closePrice  compareToPreviousClosePrice  fluctuationsRatio  \\\n",
       "0  34,470.19  34,721.12                       137.55               0.40   \n",
       "1  34,190.95  34,583.57                        87.06               0.25   \n",
       "2  34,277.17  34,496.51                      -144.67              -0.42   \n",
       "3  34,566.04  34,641.18                      -280.70              -0.80   \n",
       "4  34,615.38  34,921.88                       103.61               0.30   \n",
       "\n",
       "                           compareToPreviousPrice             tradeDatetime  \n",
       "0   {'code': '2', 'text': '상승', 'name': 'RISING'} 2022-04-08 18:50:36-04:00  \n",
       "1   {'code': '2', 'text': '상승', 'name': 'RISING'} 2022-04-07 17:01:19-04:00  \n",
       "2  {'code': '5', 'text': '하락', 'name': 'FALLING'} 2022-04-06 16:54:48-04:00  \n",
       "3  {'code': '5', 'text': '하락', 'name': 'FALLING'} 2022-04-05 18:07:06-04:00  \n",
       "4   {'code': '2', 'text': '상승', 'name': 'RISING'} 2022-04-04 17:07:02-04:00  "
      ]
     },
     "execution_count": 27,
     "metadata": {},
     "output_type": "execute_result"
    }
   ],
   "source": [
    "df_dow[\"tradeDatetime\"] = pd.to_datetime(df_dow[\"localTradedAt\"])\n",
    "df_dow.head()"
   ]
  },
  {
   "cell_type": "code",
   "execution_count": 28,
   "id": "aec3d58a",
   "metadata": {},
   "outputs": [
    {
     "data": {
      "text/plain": [
       "0    2022-04-08\n",
       "1    2022-04-07\n",
       "2    2022-04-06\n",
       "3    2022-04-05\n",
       "4    2022-04-04\n",
       "5    2022-04-01\n",
       "6    2022-03-31\n",
       "7    2022-03-30\n",
       "8    2022-03-29\n",
       "9    2022-03-28\n",
       "Name: tradeDatetime, dtype: object"
      ]
     },
     "execution_count": 28,
     "metadata": {},
     "output_type": "execute_result"
    }
   ],
   "source": [
    "df_dow[\"tradeDatetime\"].dt.date"
   ]
  },
  {
   "cell_type": "code",
   "execution_count": 29,
   "id": "b8d43a63",
   "metadata": {},
   "outputs": [],
   "source": [
    "df_dow[\"tradeDatetime\"] = df_dow[\"tradeDatetime\"].dt.date\n"
   ]
  },
  {
   "cell_type": "code",
   "execution_count": null,
   "id": "48f67f36",
   "metadata": {},
   "outputs": [],
   "source": [
    "dow의 종가 (closePrice)를 kospi, kosdaq과 같이 시각화"
   ]
  },
  {
   "cell_type": "code",
   "execution_count": 30,
   "id": "245af82e",
   "metadata": {},
   "outputs": [
    {
     "name": "stdout",
     "output_type": "stream",
     "text": [
      "<class 'pandas.core.frame.DataFrame'>\n",
      "RangeIndex: 10 entries, 0 to 9\n",
      "Data columns (total 11 columns):\n",
      " #   Column                       Non-Null Count  Dtype  \n",
      "---  ------                       --------------  -----  \n",
      " 0   stockExchangeType            10 non-null     object \n",
      " 1   localTradedAt                10 non-null     object \n",
      " 2   worldIndexSymbol             10 non-null     object \n",
      " 3   openPrice                    10 non-null     object \n",
      " 4   highPrice                    10 non-null     object \n",
      " 5   lowPrice                     10 non-null     object \n",
      " 6   closePrice                   10 non-null     object \n",
      " 7   compareToPreviousClosePrice  10 non-null     float64\n",
      " 8   fluctuationsRatio            10 non-null     float64\n",
      " 9   compareToPreviousPrice       10 non-null     object \n",
      " 10  tradeDatetime                10 non-null     object \n",
      "dtypes: float64(2), object(9)\n",
      "memory usage: 1008.0+ bytes\n"
     ]
    }
   ],
   "source": [
    "# closeDatetime\n",
    "df_dow[\"closePrice\"] = df_dow[\"closePrice\"].str.replace(\",\", \"\")\n",
    "df_dow.info()"
   ]
  },
  {
   "cell_type": "code",
   "execution_count": 31,
   "id": "06c34fc5",
   "metadata": {},
   "outputs": [
    {
     "ename": "SyntaxError",
     "evalue": "invalid syntax (2392624602.py, line 8)",
     "output_type": "error",
     "traceback": [
      "\u001b[0;36m  File \u001b[0;32m\"/var/folders/l6/zf_y8js55058y519pbd3k9480000gn/T/ipykernel_20567/2392624602.py\"\u001b[0;36m, line \u001b[0;32m8\u001b[0m\n\u001b[0;31m    plt.plot(dow_trade_dates, df_dow[\"closePrice\", \"go:\", label=\"DOW\")\u001b[0m\n\u001b[0m                                                               ^\u001b[0m\n\u001b[0;31mSyntaxError\u001b[0m\u001b[0;31m:\u001b[0m invalid syntax\n"
     ]
    }
   ],
   "source": [
    "trade_dates = df_kospi[\"localTradedAt\"][::-1]\n",
    "dow_trade_dates = df_dow[\"tradeDatetime\"][::-1]\n",
    "scaled_dow_price = preprocessing\n",
    "\n",
    "plt.figure(figsize=(20, 7))\n",
    "plt.plot(trade_dates, scaled_kospi_cp, \"r*:\", label='KOSPI')\n",
    "plt.plot(trade_dates, scaled_kosdaq_cp, \"bo:\", label=\"KOSDAQ\")\n",
    "plt.plot(dow_trade_dates, df_dow[\"closePrice\", \"go:\", label=\"DOW\")\n",
    "\n",
    "plt.legend()\n",
    "plt.show()"
   ]
  },
  {
   "cell_type": "code",
   "execution_count": 32,
   "id": "bea91f4e",
   "metadata": {},
   "outputs": [
    {
     "data": {
      "image/png": "[encoded data removed]",
      "text/plain": [
       "<Figure size 1440x720 with 1 Axes>"
      ]
     },
     "metadata": {},
     "output_type": "display_data"
    }
   ],
   "source": [
    "plt.figure(figsize=(20, 10))\n",
    "\n",
    "plt.plot(df_dow[\"localTradedAt\"], df_dow[\"closePrice\"], \"ro:\", label=\"dow\")\n",
    "plt.plot(df_kospi[\"localTradedAt\"], df_kospi[\"closePrice\"], \"r*:\", label=\"kospi\")\n",
    "plt.plot(df_kosdaq[\"localTradedAt\"], df_kosdaq[\"closePrice\"], \"bo:\", label=\"kosdaq\")\n",
    "\n",
    "plt.show()"
   ]
  },
  {
   "cell_type": "code",
   "execution_count": null,
   "id": "8108a448",
   "metadata": {},
   "outputs": [],
   "source": []
  }
 ],
 "metadata": {
  "kernelspec": {
   "display_name": "Python 3 (ipykernel)",
   "language": "python",
   "name": "python3"
  },
  "language_info": {
   "codemirror_mode": {
    "name": "ipython",
    "version": 3
   },
   "file_extension": ".py",
   "mimetype": "text/x-python",
   "name": "python",
   "nbconvert_exporter": "python",
   "pygments_lexer": "ipython3",
   "version": "3.8.12"
  }
 },
 "nbformat": 4,
 "nbformat_minor": 5
}
