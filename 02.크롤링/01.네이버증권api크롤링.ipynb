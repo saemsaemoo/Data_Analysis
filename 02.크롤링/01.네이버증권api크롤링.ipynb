{
  "cells": [
    {
      "cell_type": "code",
      "execution_count": 1,
      "metadata": {
        "id": "ebDDvT_r-8jb"
      },
      "outputs": [],
      "source": [
        "import requests\n",
        "import pandas as pd"
      ]
    },
    {
      "cell_type": "code",
      "execution_count": 2,
      "metadata": {
        "colab": {
          "base_uri": "https://localhost:8080/"
        },
        "id": "97AEvIGc-9Qj",
        "outputId": "d6dfd01c-1089-4dd8-a516-3b563f0aa11d"
      },
      "outputs": [
        {
          "data": {
            "text/plain": [
              "<Response [200]>"
            ]
          },
          "execution_count": 2,
          "metadata": {},
          "output_type": "execute_result"
        }
      ],
      "source": [
        "RANK_URL = \"https://api.stock.naver.com/ranking/stock/local/total\"\n",
        "response = requests.get(RANK_URL)\n",
        "response"
      ]
    },
    {
      "cell_type": "code",
      "execution_count": 3,
      "metadata": {
        "id": "2JM4pbYb-9OE"
      },
      "outputs": [],
      "source": [
        "datas = response.json()['datas']\n",
        "\n",
        "data_list = []\n",
        "\n",
        "for data in datas:\n",
        "    ranking = data['ranking']\n",
        "    reuters_code=data['reutersCode']\n",
        "    stock_name=data['stockName']\n",
        "    close_price= float(data['closePrice'].replace(\",\", \"\"))\n",
        "    compare_previous_close_price = float(data['compareToPreviousClosePrice'].replace(\",\", \"\"))\n",
        "    acc_trading_volume = data['accumulatedTradingVolume']\n",
        "    market_value= data['marketValueHangeul']\n",
        "    local_traded_at = data['localTradedAt']\n",
        "    \n",
        "    fin_data = {\n",
        "        \"순위\" : ranking,\n",
        "        \"코드\" : reuters_code,\n",
        "        \"종목명\": stock_name,\n",
        "        \"종가\": close_price,\n",
        "        \"전일종가대비\": compare_previous_close_price,\n",
        "        \"누적거래량\": acc_trading_volume,\n",
        "        \"시가총액\": market_value,\n",
        "        \"거래시각\": local_traded_at\n",
        "    }\n",
        "    \n",
        "    data_list.append(fin_data)"
      ]
    },
    {
      "cell_type": "code",
      "execution_count": 4,
      "metadata": {
        "colab": {
          "base_uri": "https://localhost:8080/",
          "height": 206
        },
        "id": "3135Mtk7-9Lv",
        "outputId": "7e36b249-039b-4ca5-fe7a-60006516b586"
      },
      "outputs": [
        {
          "data": {
            "text/html": [
              "<div>\n",
              "<style scoped>\n",
              "    .dataframe tbody tr th:only-of-type {\n",
              "        vertical-align: middle;\n",
              "    }\n",
              "\n",
              "    .dataframe tbody tr th {\n",
              "        vertical-align: top;\n",
              "    }\n",
              "\n",
              "    .dataframe thead th {\n",
              "        text-align: right;\n",
              "    }\n",
              "</style>\n",
              "<table border=\"1\" class=\"dataframe\">\n",
              "  <thead>\n",
              "    <tr style=\"text-align: right;\">\n",
              "      <th></th>\n",
              "      <th>순위</th>\n",
              "      <th>코드</th>\n",
              "      <th>종목명</th>\n",
              "      <th>종가</th>\n",
              "      <th>전일종가대비</th>\n",
              "      <th>누적거래량</th>\n",
              "      <th>시가총액</th>\n",
              "      <th>거래시각</th>\n",
              "    </tr>\n",
              "  </thead>\n",
              "  <tbody>\n",
              "    <tr>\n",
              "      <th>0</th>\n",
              "      <td>1</td>\n",
              "      <td>373220</td>\n",
              "      <td>LG에너지솔루션</td>\n",
              "      <td>450000.0</td>\n",
              "      <td>-55000.0</td>\n",
              "      <td>4,505,743</td>\n",
              "      <td>105조 3,000억원</td>\n",
              "      <td>2022-01-28T16:11:44+09:00</td>\n",
              "    </tr>\n",
              "    <tr>\n",
              "      <th>1</th>\n",
              "      <td>2</td>\n",
              "      <td>012450</td>\n",
              "      <td>한화에어로스페이스</td>\n",
              "      <td>47800.0</td>\n",
              "      <td>950.0</td>\n",
              "      <td>498,925</td>\n",
              "      <td>2조 4,201억원</td>\n",
              "      <td>2022-01-28T16:12:00+09:00</td>\n",
              "    </tr>\n",
              "    <tr>\n",
              "      <th>2</th>\n",
              "      <td>3</td>\n",
              "      <td>005930</td>\n",
              "      <td>삼성전자</td>\n",
              "      <td>73300.0</td>\n",
              "      <td>2000.0</td>\n",
              "      <td>21,051,150</td>\n",
              "      <td>437조 5,851억원</td>\n",
              "      <td>2022-01-28T16:11:46+09:00</td>\n",
              "    </tr>\n",
              "    <tr>\n",
              "      <th>3</th>\n",
              "      <td>4</td>\n",
              "      <td>205470</td>\n",
              "      <td>휴마시스</td>\n",
              "      <td>28400.0</td>\n",
              "      <td>6550.0</td>\n",
              "      <td>39,844,784</td>\n",
              "      <td>9,720억원</td>\n",
              "      <td>2022-01-28T16:11:46+09:00</td>\n",
              "    </tr>\n",
              "    <tr>\n",
              "      <th>4</th>\n",
              "      <td>5</td>\n",
              "      <td>035720</td>\n",
              "      <td>카카오</td>\n",
              "      <td>85000.0</td>\n",
              "      <td>2400.0</td>\n",
              "      <td>2,943,023</td>\n",
              "      <td>37조 9,020억원</td>\n",
              "      <td>2022-01-28T16:12:01+09:00</td>\n",
              "    </tr>\n",
              "  </tbody>\n",
              "</table>\n",
              "</div>"
            ],
            "text/plain": [
              "   순위      코드        종목명        종가   전일종가대비       누적거래량          시가총액  \\\n",
              "0   1  373220   LG에너지솔루션  450000.0 -55000.0   4,505,743  105조 3,000억원   \n",
              "1   2  012450  한화에어로스페이스   47800.0    950.0     498,925    2조 4,201억원   \n",
              "2   3  005930       삼성전자   73300.0   2000.0  21,051,150  437조 5,851억원   \n",
              "3   4  205470       휴마시스   28400.0   6550.0  39,844,784       9,720억원   \n",
              "4   5  035720        카카오   85000.0   2400.0   2,943,023   37조 9,020억원   \n",
              "\n",
              "                        거래시각  \n",
              "0  2022-01-28T16:11:44+09:00  \n",
              "1  2022-01-28T16:12:00+09:00  \n",
              "2  2022-01-28T16:11:46+09:00  \n",
              "3  2022-01-28T16:11:46+09:00  \n",
              "4  2022-01-28T16:12:01+09:00  "
            ]
          },
          "execution_count": 4,
          "metadata": {},
          "output_type": "execute_result"
        }
      ],
      "source": [
        "df = pd.DataFrame(data_list)\n",
        "df.head()"
      ]
    },
    {
      "cell_type": "code",
      "execution_count": 5,
      "metadata": {
        "colab": {
          "base_uri": "https://localhost:8080/"
        },
        "id": "YrxwTpaa_Blt",
        "outputId": "3e8d6adb-2064-488b-ffde-efdd07f1ac1c"
      },
      "outputs": [
        {
          "name": "stdout",
          "output_type": "stream",
          "text": [
            "<class 'pandas.core.frame.DataFrame'>\n",
            "RangeIndex: 10 entries, 0 to 9\n",
            "Data columns (total 8 columns):\n",
            " #   Column  Non-Null Count  Dtype  \n",
            "---  ------  --------------  -----  \n",
            " 0   순위      10 non-null     int64  \n",
            " 1   코드      10 non-null     object \n",
            " 2   종목명     10 non-null     object \n",
            " 3   종가      10 non-null     float64\n",
            " 4   전일종가대비  10 non-null     float64\n",
            " 5   누적거래량   10 non-null     object \n",
            " 6   시가총액    10 non-null     object \n",
            " 7   거래시각    10 non-null     object \n",
            "dtypes: float64(2), int64(1), object(5)\n",
            "memory usage: 768.0+ bytes\n"
          ]
        }
      ],
      "source": [
        "df.info()"
      ]
    },
    {
      "cell_type": "code",
      "execution_count": 6,
      "metadata": {
        "colab": {
          "base_uri": "https://localhost:8080/",
          "height": 363
        },
        "id": "a71w5FE__BjX",
        "outputId": "e8c35fda-e079-44b9-cfd3-d1e5411b8787"
      },
      "outputs": [
        {
          "data": {
            "text/html": [
              "<div>\n",
              "<style scoped>\n",
              "    .dataframe tbody tr th:only-of-type {\n",
              "        vertical-align: middle;\n",
              "    }\n",
              "\n",
              "    .dataframe tbody tr th {\n",
              "        vertical-align: top;\n",
              "    }\n",
              "\n",
              "    .dataframe thead th {\n",
              "        text-align: right;\n",
              "    }\n",
              "</style>\n",
              "<table border=\"1\" class=\"dataframe\">\n",
              "  <thead>\n",
              "    <tr style=\"text-align: right;\">\n",
              "      <th></th>\n",
              "      <th>localTradedAt</th>\n",
              "      <th>closePrice</th>\n",
              "      <th>compareToPreviousClosePrice</th>\n",
              "      <th>compareToPreviousPrice</th>\n",
              "      <th>fluctuationsRatio</th>\n",
              "      <th>openPrice</th>\n",
              "      <th>highPrice</th>\n",
              "      <th>lowPrice</th>\n",
              "    </tr>\n",
              "  </thead>\n",
              "  <tbody>\n",
              "    <tr>\n",
              "      <th>0</th>\n",
              "      <td>2022-01-28</td>\n",
              "      <td>2,663.34</td>\n",
              "      <td>48.85</td>\n",
              "      <td>{'code': '2', 'text': '상승', 'name': 'RISING'}</td>\n",
              "      <td>1.87</td>\n",
              "      <td>2,617.87</td>\n",
              "      <td>2,668.59</td>\n",
              "      <td>2,591.53</td>\n",
              "    </tr>\n",
              "    <tr>\n",
              "      <th>1</th>\n",
              "      <td>2022-01-27</td>\n",
              "      <td>2,614.49</td>\n",
              "      <td>-94.75</td>\n",
              "      <td>{'code': '5', 'text': '하락', 'name': 'FALLING'}</td>\n",
              "      <td>-3.50</td>\n",
              "      <td>2,709.24</td>\n",
              "      <td>2,722.86</td>\n",
              "      <td>2,614.49</td>\n",
              "    </tr>\n",
              "    <tr>\n",
              "      <th>2</th>\n",
              "      <td>2022-01-26</td>\n",
              "      <td>2,709.24</td>\n",
              "      <td>-11.15</td>\n",
              "      <td>{'code': '5', 'text': '하락', 'name': 'FALLING'}</td>\n",
              "      <td>-0.41</td>\n",
              "      <td>2,729.75</td>\n",
              "      <td>2,744.14</td>\n",
              "      <td>2,708.10</td>\n",
              "    </tr>\n",
              "    <tr>\n",
              "      <th>3</th>\n",
              "      <td>2022-01-25</td>\n",
              "      <td>2,720.39</td>\n",
              "      <td>-71.61</td>\n",
              "      <td>{'code': '5', 'text': '하락', 'name': 'FALLING'}</td>\n",
              "      <td>-2.56</td>\n",
              "      <td>2,786.41</td>\n",
              "      <td>2,789.62</td>\n",
              "      <td>2,703.99</td>\n",
              "    </tr>\n",
              "    <tr>\n",
              "      <th>4</th>\n",
              "      <td>2022-01-24</td>\n",
              "      <td>2,792.00</td>\n",
              "      <td>-42.29</td>\n",
              "      <td>{'code': '5', 'text': '하락', 'name': 'FALLING'}</td>\n",
              "      <td>-1.49</td>\n",
              "      <td>2,823.76</td>\n",
              "      <td>2,828.11</td>\n",
              "      <td>2,780.68</td>\n",
              "    </tr>\n",
              "    <tr>\n",
              "      <th>5</th>\n",
              "      <td>2022-01-21</td>\n",
              "      <td>2,834.29</td>\n",
              "      <td>-28.39</td>\n",
              "      <td>{'code': '5', 'text': '하락', 'name': 'FALLING'}</td>\n",
              "      <td>-0.99</td>\n",
              "      <td>2,837.49</td>\n",
              "      <td>2,847.95</td>\n",
              "      <td>2,817.11</td>\n",
              "    </tr>\n",
              "    <tr>\n",
              "      <th>6</th>\n",
              "      <td>2022-01-20</td>\n",
              "      <td>2,862.68</td>\n",
              "      <td>20.40</td>\n",
              "      <td>{'code': '2', 'text': '상승', 'name': 'RISING'}</td>\n",
              "      <td>0.72</td>\n",
              "      <td>2,842.28</td>\n",
              "      <td>2,862.70</td>\n",
              "      <td>2,830.97</td>\n",
              "    </tr>\n",
              "    <tr>\n",
              "      <th>7</th>\n",
              "      <td>2022-01-19</td>\n",
              "      <td>2,842.28</td>\n",
              "      <td>-21.96</td>\n",
              "      <td>{'code': '5', 'text': '하락', 'name': 'FALLING'}</td>\n",
              "      <td>-0.77</td>\n",
              "      <td>2,840.34</td>\n",
              "      <td>2,871.79</td>\n",
              "      <td>2,832.18</td>\n",
              "    </tr>\n",
              "    <tr>\n",
              "      <th>8</th>\n",
              "      <td>2022-01-18</td>\n",
              "      <td>2,864.24</td>\n",
              "      <td>-25.86</td>\n",
              "      <td>{'code': '5', 'text': '하락', 'name': 'FALLING'}</td>\n",
              "      <td>-0.89</td>\n",
              "      <td>2,898.98</td>\n",
              "      <td>2,902.79</td>\n",
              "      <td>2,857.26</td>\n",
              "    </tr>\n",
              "    <tr>\n",
              "      <th>9</th>\n",
              "      <td>2022-01-17</td>\n",
              "      <td>2,890.10</td>\n",
              "      <td>-31.82</td>\n",
              "      <td>{'code': '5', 'text': '하락', 'name': 'FALLING'}</td>\n",
              "      <td>-1.09</td>\n",
              "      <td>2,918.55</td>\n",
              "      <td>2,919.67</td>\n",
              "      <td>2,875.98</td>\n",
              "    </tr>\n",
              "  </tbody>\n",
              "</table>\n",
              "</div>"
            ],
            "text/plain": [
              "  localTradedAt closePrice compareToPreviousClosePrice  \\\n",
              "0    2022-01-28   2,663.34                       48.85   \n",
              "1    2022-01-27   2,614.49                      -94.75   \n",
              "2    2022-01-26   2,709.24                      -11.15   \n",
              "3    2022-01-25   2,720.39                      -71.61   \n",
              "4    2022-01-24   2,792.00                      -42.29   \n",
              "5    2022-01-21   2,834.29                      -28.39   \n",
              "6    2022-01-20   2,862.68                       20.40   \n",
              "7    2022-01-19   2,842.28                      -21.96   \n",
              "8    2022-01-18   2,864.24                      -25.86   \n",
              "9    2022-01-17   2,890.10                      -31.82   \n",
              "\n",
              "                           compareToPreviousPrice fluctuationsRatio openPrice  \\\n",
              "0   {'code': '2', 'text': '상승', 'name': 'RISING'}              1.87  2,617.87   \n",
              "1  {'code': '5', 'text': '하락', 'name': 'FALLING'}             -3.50  2,709.24   \n",
              "2  {'code': '5', 'text': '하락', 'name': 'FALLING'}             -0.41  2,729.75   \n",
              "3  {'code': '5', 'text': '하락', 'name': 'FALLING'}             -2.56  2,786.41   \n",
              "4  {'code': '5', 'text': '하락', 'name': 'FALLING'}             -1.49  2,823.76   \n",
              "5  {'code': '5', 'text': '하락', 'name': 'FALLING'}             -0.99  2,837.49   \n",
              "6   {'code': '2', 'text': '상승', 'name': 'RISING'}              0.72  2,842.28   \n",
              "7  {'code': '5', 'text': '하락', 'name': 'FALLING'}             -0.77  2,840.34   \n",
              "8  {'code': '5', 'text': '하락', 'name': 'FALLING'}             -0.89  2,898.98   \n",
              "9  {'code': '5', 'text': '하락', 'name': 'FALLING'}             -1.09  2,918.55   \n",
              "\n",
              "  highPrice  lowPrice  \n",
              "0  2,668.59  2,591.53  \n",
              "1  2,722.86  2,614.49  \n",
              "2  2,744.14  2,708.10  \n",
              "3  2,789.62  2,703.99  \n",
              "4  2,828.11  2,780.68  \n",
              "5  2,847.95  2,817.11  \n",
              "6  2,862.70  2,830.97  \n",
              "7  2,871.79  2,832.18  \n",
              "8  2,902.79  2,857.26  \n",
              "9  2,919.67  2,875.98  "
            ]
          },
          "execution_count": 6,
          "metadata": {},
          "output_type": "execute_result"
        }
      ],
      "source": [
        "KOSPI_URL = \"https://m.stock.naver.com/api/index/KOSPI/price?pageSize=10&page=1\"\n",
        "KOSDAQ_URL = \"https://m.stock.naver.com/api/index/KOSDAQ/price?pageSize=10&page=1\"\n",
        "\n",
        "# 정석\n",
        "kospi_data = requests.get(KOSPI_URL).json()\n",
        "df_kospi = pd.DataFrame(kospi_data)\n",
        "df_kospi"
      ]
    },
    {
      "cell_type": "code",
      "execution_count": 7,
      "metadata": {
        "colab": {
          "base_uri": "https://localhost:8080/"
        },
        "id": "ojhq1b9p_BhH",
        "outputId": "9dfb47ab-2b35-48bb-f258-0242c22fff35"
      },
      "outputs": [
        {
          "name": "stdout",
          "output_type": "stream",
          "text": [
            "<class 'pandas.core.frame.DataFrame'>\n",
            "RangeIndex: 10 entries, 0 to 9\n",
            "Data columns (total 8 columns):\n",
            " #   Column                       Non-Null Count  Dtype  \n",
            "---  ------                       --------------  -----  \n",
            " 0   localTradedAt                10 non-null     object \n",
            " 1   closePrice                   10 non-null     float64\n",
            " 2   compareToPreviousClosePrice  10 non-null     float64\n",
            " 3   compareToPreviousPrice       10 non-null     object \n",
            " 4   fluctuationsRatio            10 non-null     float64\n",
            " 5   openPrice                    10 non-null     float64\n",
            " 6   highPrice                    10 non-null     float64\n",
            " 7   lowPrice                     10 non-null     float64\n",
            "dtypes: float64(6), object(2)\n",
            "memory usage: 768.0+ bytes\n"
          ]
        }
      ],
      "source": [
        "df_kosdaq = pd.read_json(KOSDAQ_URL)\n",
        "df_kosdaq.info()"
      ]
    },
    {
      "cell_type": "code",
      "execution_count": 8,
      "metadata": {
        "id": "Voo20jOj_Bbp"
      },
      "outputs": [],
      "source": [
        "import matplotlib.pyplot as plt\n",
        "import seaborn as sns"
      ]
    },
    {
      "cell_type": "code",
      "execution_count": 9,
      "metadata": {
        "id": "YkHMDl9K-9Is"
      },
      "outputs": [],
      "source": [
        "# seaborn 테마를 matplotlib에서 사용하게 할 수 있다.\n",
        "sns.set()"
      ]
    },
    {
      "cell_type": "code",
      "execution_count": 10,
      "metadata": {
        "colab": {
          "base_uri": "https://localhost:8080/",
          "height": 594
        },
        "id": "6H2zGlJl-9GH",
        "outputId": "1a313130-a619-4aa9-c63e-304c6ae01c17"
      },
      "outputs": [
        {
          "data": {
            "image/png": "[encoded data removed]",
            "text/plain": [
              "<Figure size 1440x720 with 1 Axes>"
            ]
          },
          "metadata": {},
          "output_type": "display_data"
        }
      ],
      "source": [
        "# 일자의 종가 등락 확인\n",
        "plt.figure(figsize=(20, 10))\n",
        "\n",
        "plt.plot(df_kospi[\"localTradedAt\"].sort_values(), df_kospi[\"closePrice\"], \"r*:\", label=\"kospi\")\n",
        "plt.plot(df_kosdaq[\"localTradedAt\"].sort_values(), df_kosdaq[\"closePrice\"], \"bo:\",label=\"kosdaq\")\n",
        "\n",
        "plt.show()"
      ]
    },
    {
      "cell_type": "code",
      "execution_count": 11,
      "metadata": {
        "id": "2KHkE4Ud-9EC"
      },
      "outputs": [],
      "source": [
        "import numpy as np\n",
        "\n",
        "df_kospi['closePrice'] = df_kospi['closePrice'].astype(str).str.replace(\",\", \"\")\n",
        "df_kospi['closePrice'] = df_kospi['closePrice'].astype(np.float32)\n",
        "\n",
        "df_kosdaq['closePrice'] = df_kosdaq['closePrice'].astype(str).str.replace(\",\", \"\")\n",
        "df_kosdaq['closePrice'] = df_kosdaq['closePrice'].astype(np.float32)"
      ]
    },
    {
      "cell_type": "markdown",
      "metadata": {
        "id": "SUK2KCTY_ka9"
      },
      "source": [
        "### **데이터의 정규화와 표준화**\n",
        "* 정규화 Normalization\n",
        "    - 모든 데이터를 일정한 수치로 맞춰주는 과정\n",
        "    - 0 ~ 1 로 데이터를 스케일링\n",
        "* 표준화 Standard\n",
        "    - 데이터의 평균을 0으로 맞추고, 표준편차를 1로 맞추는 과정\n",
        "    - 이상치에 대한 보정\n",
        "    - 데이터의 분포를 일정하게 맞춰줄 수 있다."
      ]
    },
    {
      "cell_type": "code",
      "execution_count": 12,
      "metadata": {
        "colab": {
          "base_uri": "https://localhost:8080/",
          "height": 594
        },
        "id": "5WPt3v_N_PtJ",
        "outputId": "95d19e25-232a-4a80-9862-58f0bfe5a0ed"
      },
      "outputs": [
        {
          "data": {
            "image/png": "[encoded data removed]",
            "text/plain": [
              "<Figure size 1440x720 with 1 Axes>"
            ]
          },
          "metadata": {},
          "output_type": "display_data"
        }
      ],
      "source": [
        "# 일자의 종가 등락 확인\n",
        "plt.figure(figsize=(20, 10))\n",
        "\n",
        "plt.plot(df_kospi[\"localTradedAt\"].sort_values(), df_kospi[\"closePrice\"], \"r*:\", label=\"kospi\")\n",
        "plt.plot(df_kosdaq[\"localTradedAt\"].sort_values(), df_kosdaq[\"closePrice\"], \"bo:\",label=\"kosdaq\")\n",
        "plt.legend()\n",
        "plt.show()"
      ]
    },
    {
      "cell_type": "code",
      "execution_count": 17,
      "metadata": {},
      "outputs": [
        {
          "name": "stdout",
          "output_type": "stream",
          "text": [
            "Collecting package metadata (current_repodata.json): done\n",
            "Solving environment: done\n",
            "\n",
            "## Package Plan ##\n",
            "\n",
            "  environment location: /Users/kimhansaem/miniconda3\n",
            "\n",
            "  added / updated specs:\n",
            "    - scikit-learn\n",
            "\n",
            "\n",
            "The following packages will be downloaded:\n",
            "\n",
            "    package                    |            build\n",
            "    ---------------------------|-----------------\n",
            "    scikit-learn-1.0.2         |   py38h9197a36_1         5.1 MB\n",
            "    ------------------------------------------------------------\n",
            "                                           Total:         5.1 MB\n",
            "\n",
            "The following NEW packages will be INSTALLED:\n",
            "\n",
            "  joblib             pkgs/main/noarch::joblib-1.1.0-pyhd3eb1b0_0\n",
            "  scikit-learn       pkgs/main/osx-arm64::scikit-learn-1.0.2-py38h9197a36_1\n",
            "  threadpoolctl      pkgs/main/noarch::threadpoolctl-2.2.0-pyh0d69192_0\n",
            "\n",
            "\n",
            "\n",
            "Downloading and Extracting Packages\n",
            "scikit-learn-1.0.2   | 5.1 MB    | ##################################### | 100% \n",
            "Preparing transaction: done\n",
            "Verifying transaction: done\n",
            "Executing transaction: done\n",
            "\n",
            "Note: you may need to restart the kernel to use updated packages.\n"
          ]
        }
      ],
      "source": [
        "conda install scikit-learn"
      ]
    },
    {
      "cell_type": "code",
      "execution_count": 18,
      "metadata": {
        "id": "O_zrVWXO_TVP"
      },
      "outputs": [],
      "source": [
        "from sklearn.preprocessing import MinMaxScaler, StandardScaler"
      ]
    },
    {
      "cell_type": "code",
      "execution_count": 19,
      "metadata": {
        "colab": {
          "base_uri": "https://localhost:8080/"
        },
        "id": "fnXFgLHK_TTC",
        "outputId": "c5a8ef8c-f1d5-4153-f5a1-62c30aa94e6d"
      },
      "outputs": [
        {
          "data": {
            "text/plain": [
              "0    2663.340088\n",
              "1    2614.489990\n",
              "2    2709.239990\n",
              "3    2720.389893\n",
              "4    2792.000000\n",
              "5    2834.290039\n",
              "6    2862.679932\n",
              "7    2842.280029\n",
              "8    2864.239990\n",
              "9    2890.100098\n",
              "Name: closePrice, dtype: float32"
            ]
          },
          "execution_count": 19,
          "metadata": {},
          "output_type": "execute_result"
        }
      ],
      "source": [
        "scaler = MinMaxScaler()\n",
        "df_close_price = df_kospi['closePrice']\n",
        "df_close_price"
      ]
    },
    {
      "cell_type": "code",
      "execution_count": 20,
      "metadata": {
        "colab": {
          "base_uri": "https://localhost:8080/"
        },
        "id": "2k26ZZHC_V_u",
        "outputId": "51a8375c-84c4-4f79-c009-cd041702b2de"
      },
      "outputs": [
        {
          "data": {
            "text/plain": [
              "array([[0.17724323],\n",
              "       [0.        ],\n",
              "       [0.34378242],\n",
              "       [0.38423824],\n",
              "       [0.64406204],\n",
              "       [0.7975035 ],\n",
              "       [0.9005108 ],\n",
              "       [0.82649326],\n",
              "       [0.90617085],\n",
              "       [1.        ]], dtype=float32)"
            ]
          },
          "execution_count": 20,
          "metadata": {},
          "output_type": "execute_result"
        }
      ],
      "source": [
        "close_price_scaled = scaler.fit_transform(df_close_price.values.reshape(-1, 1))\n",
        "close_price_scaled"
      ]
    },
    {
      "cell_type": "code",
      "execution_count": 21,
      "metadata": {
        "id": "iGHwPEvh_V9U"
      },
      "outputs": [],
      "source": [
        "from sklearn import preprocessing\n",
        "scaled_kospi_cp = preprocessing.minmax_scale(df_kospi[\"closePrice\"])\n",
        "scaled_kosdaq_cp = preprocessing.minmax_scale(df_kosdaq[\"closePrice\"])"
      ]
    },
    {
      "cell_type": "code",
      "execution_count": 22,
      "metadata": {
        "colab": {
          "base_uri": "https://localhost:8080/"
        },
        "id": "z_6rGa-4_V60",
        "outputId": "a8f1818b-a4ea-4dbc-ba5b-94b5f19f0f3b"
      },
      "outputs": [
        {
          "data": {
            "text/plain": [
              "(array([0.17724323, 0.        , 0.34378242, 0.38423824, 0.64406204,\n",
              "        0.7975035 , 0.9005108 , 0.82649326, 0.90617085, 1.        ],\n",
              "       dtype=float32),\n",
              " array([0.21595001, 0.        , 0.30017424, 0.36731577, 0.60445833,\n",
              "        0.85521173, 1.0000005 , 0.7734542 , 0.86516905, 0.9926925 ],\n",
              "       dtype=float32))"
            ]
          },
          "execution_count": 22,
          "metadata": {},
          "output_type": "execute_result"
        }
      ],
      "source": [
        "scaled_kospi_cp, scaled_kosdaq_cp"
      ]
    },
    {
      "cell_type": "code",
      "execution_count": 23,
      "metadata": {
        "colab": {
          "base_uri": "https://localhost:8080/",
          "height": 431
        },
        "id": "Z34MbHo2_V4Y",
        "outputId": "e2945f82-fad1-48a0-8362-7f5e95e9e5be"
      },
      "outputs": [
        {
          "data": {
            "image/png": "[encoded data removed]",
            "text/plain": [
              "<Figure size 1440x504 with 1 Axes>"
            ]
          },
          "metadata": {},
          "output_type": "display_data"
        }
      ],
      "source": [
        "trade_dates = df_kospi[\"localTradedAt\"][::-1]\n",
        "\n",
        "plt.figure(figsize=(20, 7))\n",
        "plt.plot(trade_dates, scaled_kospi_cp, \"r*:\", label='KOSPI')\n",
        "plt.plot(trade_dates, scaled_kosdaq_cp, \"bo:\", label=\"KOSDAQ\")\n",
        "plt.legend()\n",
        "plt.show()"
      ]
    },
    {
      "cell_type": "code",
      "execution_count": 24,
      "metadata": {
        "colab": {
          "base_uri": "https://localhost:8080/",
          "height": 363
        },
        "id": "V3I4d_P1_V2C",
        "outputId": "a2a81676-e655-4014-99c2-66e73ddb4cb7"
      },
      "outputs": [
        {
          "data": {
            "text/html": [
              "<div>\n",
              "<style scoped>\n",
              "    .dataframe tbody tr th:only-of-type {\n",
              "        vertical-align: middle;\n",
              "    }\n",
              "\n",
              "    .dataframe tbody tr th {\n",
              "        vertical-align: top;\n",
              "    }\n",
              "\n",
              "    .dataframe thead th {\n",
              "        text-align: right;\n",
              "    }\n",
              "</style>\n",
              "<table border=\"1\" class=\"dataframe\">\n",
              "  <thead>\n",
              "    <tr style=\"text-align: right;\">\n",
              "      <th></th>\n",
              "      <th>localTradedAt</th>\n",
              "      <th>closePrice</th>\n",
              "      <th>compareToPreviousClosePrice</th>\n",
              "      <th>compareToPreviousPrice</th>\n",
              "      <th>fluctuationsRatio</th>\n",
              "      <th>openPrice</th>\n",
              "      <th>highPrice</th>\n",
              "      <th>lowPrice</th>\n",
              "    </tr>\n",
              "  </thead>\n",
              "  <tbody>\n",
              "    <tr>\n",
              "      <th>0</th>\n",
              "      <td>2022-01-28</td>\n",
              "      <td>2663.340088</td>\n",
              "      <td>48.85</td>\n",
              "      <td>{'code': '2', 'text': '상승', 'name': 'RISING'}</td>\n",
              "      <td>1.87</td>\n",
              "      <td>2,617.87</td>\n",
              "      <td>2,668.59</td>\n",
              "      <td>2,591.53</td>\n",
              "    </tr>\n",
              "    <tr>\n",
              "      <th>1</th>\n",
              "      <td>2022-01-27</td>\n",
              "      <td>2614.489990</td>\n",
              "      <td>-94.75</td>\n",
              "      <td>{'code': '5', 'text': '하락', 'name': 'FALLING'}</td>\n",
              "      <td>-3.50</td>\n",
              "      <td>2,709.24</td>\n",
              "      <td>2,722.86</td>\n",
              "      <td>2,614.49</td>\n",
              "    </tr>\n",
              "    <tr>\n",
              "      <th>2</th>\n",
              "      <td>2022-01-26</td>\n",
              "      <td>2709.239990</td>\n",
              "      <td>-11.15</td>\n",
              "      <td>{'code': '5', 'text': '하락', 'name': 'FALLING'}</td>\n",
              "      <td>-0.41</td>\n",
              "      <td>2,729.75</td>\n",
              "      <td>2,744.14</td>\n",
              "      <td>2,708.10</td>\n",
              "    </tr>\n",
              "    <tr>\n",
              "      <th>3</th>\n",
              "      <td>2022-01-25</td>\n",
              "      <td>2720.389893</td>\n",
              "      <td>-71.61</td>\n",
              "      <td>{'code': '5', 'text': '하락', 'name': 'FALLING'}</td>\n",
              "      <td>-2.56</td>\n",
              "      <td>2,786.41</td>\n",
              "      <td>2,789.62</td>\n",
              "      <td>2,703.99</td>\n",
              "    </tr>\n",
              "    <tr>\n",
              "      <th>4</th>\n",
              "      <td>2022-01-24</td>\n",
              "      <td>2792.000000</td>\n",
              "      <td>-42.29</td>\n",
              "      <td>{'code': '5', 'text': '하락', 'name': 'FALLING'}</td>\n",
              "      <td>-1.49</td>\n",
              "      <td>2,823.76</td>\n",
              "      <td>2,828.11</td>\n",
              "      <td>2,780.68</td>\n",
              "    </tr>\n",
              "    <tr>\n",
              "      <th>5</th>\n",
              "      <td>2022-01-21</td>\n",
              "      <td>2834.290039</td>\n",
              "      <td>-28.39</td>\n",
              "      <td>{'code': '5', 'text': '하락', 'name': 'FALLING'}</td>\n",
              "      <td>-0.99</td>\n",
              "      <td>2,837.49</td>\n",
              "      <td>2,847.95</td>\n",
              "      <td>2,817.11</td>\n",
              "    </tr>\n",
              "    <tr>\n",
              "      <th>6</th>\n",
              "      <td>2022-01-20</td>\n",
              "      <td>2862.679932</td>\n",
              "      <td>20.40</td>\n",
              "      <td>{'code': '2', 'text': '상승', 'name': 'RISING'}</td>\n",
              "      <td>0.72</td>\n",
              "      <td>2,842.28</td>\n",
              "      <td>2,862.70</td>\n",
              "      <td>2,830.97</td>\n",
              "    </tr>\n",
              "    <tr>\n",
              "      <th>7</th>\n",
              "      <td>2022-01-19</td>\n",
              "      <td>2842.280029</td>\n",
              "      <td>-21.96</td>\n",
              "      <td>{'code': '5', 'text': '하락', 'name': 'FALLING'}</td>\n",
              "      <td>-0.77</td>\n",
              "      <td>2,840.34</td>\n",
              "      <td>2,871.79</td>\n",
              "      <td>2,832.18</td>\n",
              "    </tr>\n",
              "    <tr>\n",
              "      <th>8</th>\n",
              "      <td>2022-01-18</td>\n",
              "      <td>2864.239990</td>\n",
              "      <td>-25.86</td>\n",
              "      <td>{'code': '5', 'text': '하락', 'name': 'FALLING'}</td>\n",
              "      <td>-0.89</td>\n",
              "      <td>2,898.98</td>\n",
              "      <td>2,902.79</td>\n",
              "      <td>2,857.26</td>\n",
              "    </tr>\n",
              "    <tr>\n",
              "      <th>9</th>\n",
              "      <td>2022-01-17</td>\n",
              "      <td>2890.100098</td>\n",
              "      <td>-31.82</td>\n",
              "      <td>{'code': '5', 'text': '하락', 'name': 'FALLING'}</td>\n",
              "      <td>-1.09</td>\n",
              "      <td>2,918.55</td>\n",
              "      <td>2,919.67</td>\n",
              "      <td>2,875.98</td>\n",
              "    </tr>\n",
              "  </tbody>\n",
              "</table>\n",
              "</div>"
            ],
            "text/plain": [
              "  localTradedAt   closePrice compareToPreviousClosePrice  \\\n",
              "0    2022-01-28  2663.340088                       48.85   \n",
              "1    2022-01-27  2614.489990                      -94.75   \n",
              "2    2022-01-26  2709.239990                      -11.15   \n",
              "3    2022-01-25  2720.389893                      -71.61   \n",
              "4    2022-01-24  2792.000000                      -42.29   \n",
              "5    2022-01-21  2834.290039                      -28.39   \n",
              "6    2022-01-20  2862.679932                       20.40   \n",
              "7    2022-01-19  2842.280029                      -21.96   \n",
              "8    2022-01-18  2864.239990                      -25.86   \n",
              "9    2022-01-17  2890.100098                      -31.82   \n",
              "\n",
              "                           compareToPreviousPrice fluctuationsRatio openPrice  \\\n",
              "0   {'code': '2', 'text': '상승', 'name': 'RISING'}              1.87  2,617.87   \n",
              "1  {'code': '5', 'text': '하락', 'name': 'FALLING'}             -3.50  2,709.24   \n",
              "2  {'code': '5', 'text': '하락', 'name': 'FALLING'}             -0.41  2,729.75   \n",
              "3  {'code': '5', 'text': '하락', 'name': 'FALLING'}             -2.56  2,786.41   \n",
              "4  {'code': '5', 'text': '하락', 'name': 'FALLING'}             -1.49  2,823.76   \n",
              "5  {'code': '5', 'text': '하락', 'name': 'FALLING'}             -0.99  2,837.49   \n",
              "6   {'code': '2', 'text': '상승', 'name': 'RISING'}              0.72  2,842.28   \n",
              "7  {'code': '5', 'text': '하락', 'name': 'FALLING'}             -0.77  2,840.34   \n",
              "8  {'code': '5', 'text': '하락', 'name': 'FALLING'}             -0.89  2,898.98   \n",
              "9  {'code': '5', 'text': '하락', 'name': 'FALLING'}             -1.09  2,918.55   \n",
              "\n",
              "  highPrice  lowPrice  \n",
              "0  2,668.59  2,591.53  \n",
              "1  2,722.86  2,614.49  \n",
              "2  2,744.14  2,708.10  \n",
              "3  2,789.62  2,703.99  \n",
              "4  2,828.11  2,780.68  \n",
              "5  2,847.95  2,817.11  \n",
              "6  2,862.70  2,830.97  \n",
              "7  2,871.79  2,832.18  \n",
              "8  2,902.79  2,857.26  \n",
              "9  2,919.67  2,875.98  "
            ]
          },
          "execution_count": 24,
          "metadata": {},
          "output_type": "execute_result"
        }
      ],
      "source": [
        "df_kospi"
      ]
    },
    {
      "cell_type": "code",
      "execution_count": 25,
      "metadata": {
        "colab": {
          "base_uri": "https://localhost:8080/",
          "height": 337
        },
        "id": "w2EIBVE4_Vzt",
        "outputId": "1a70197a-046c-47ed-9219-aabd7813a16d"
      },
      "outputs": [
        {
          "data": {
            "text/html": [
              "<div>\n",
              "<style scoped>\n",
              "    .dataframe tbody tr th:only-of-type {\n",
              "        vertical-align: middle;\n",
              "    }\n",
              "\n",
              "    .dataframe tbody tr th {\n",
              "        vertical-align: top;\n",
              "    }\n",
              "\n",
              "    .dataframe thead th {\n",
              "        text-align: right;\n",
              "    }\n",
              "</style>\n",
              "<table border=\"1\" class=\"dataframe\">\n",
              "  <thead>\n",
              "    <tr style=\"text-align: right;\">\n",
              "      <th></th>\n",
              "      <th>stockExchangeType</th>\n",
              "      <th>localTradedAt</th>\n",
              "      <th>worldIndexSymbol</th>\n",
              "      <th>openPrice</th>\n",
              "      <th>highPrice</th>\n",
              "      <th>lowPrice</th>\n",
              "      <th>closePrice</th>\n",
              "      <th>compareToPreviousClosePrice</th>\n",
              "      <th>fluctuationsRatio</th>\n",
              "      <th>compareToPreviousPrice</th>\n",
              "    </tr>\n",
              "  </thead>\n",
              "  <tbody>\n",
              "    <tr>\n",
              "      <th>0</th>\n",
              "      <td>{'code': 'NYS', 'zoneId': 'EST5EDT', 'nationTy...</td>\n",
              "      <td>2022-01-31T17:02:43-05:00</td>\n",
              "      <td>.DJI</td>\n",
              "      <td>34,691.17</td>\n",
              "      <td>35,148.14</td>\n",
              "      <td>34,496.10</td>\n",
              "      <td>35,131.86</td>\n",
              "      <td>406.39</td>\n",
              "      <td>1.17</td>\n",
              "      <td>{'code': '2', 'text': '상승', 'name': 'RISING'}</td>\n",
              "    </tr>\n",
              "    <tr>\n",
              "      <th>1</th>\n",
              "      <td>{'code': 'NYS', 'zoneId': 'EST5EDT', 'nationTy...</td>\n",
              "      <td>2022-01-28T16:54:31-05:00</td>\n",
              "      <td>.DJI</td>\n",
              "      <td>34,135.24</td>\n",
              "      <td>34,731.77</td>\n",
              "      <td>33,807.51</td>\n",
              "      <td>34,725.47</td>\n",
              "      <td>564.69</td>\n",
              "      <td>1.65</td>\n",
              "      <td>{'code': '2', 'text': '상승', 'name': 'RISING'}</td>\n",
              "    </tr>\n",
              "    <tr>\n",
              "      <th>2</th>\n",
              "      <td>{'code': 'NYS', 'zoneId': 'EST5EDT', 'nationTy...</td>\n",
              "      <td>2022-01-27T17:00:07-05:00</td>\n",
              "      <td>.DJI</td>\n",
              "      <td>34,261.75</td>\n",
              "      <td>34,773.32</td>\n",
              "      <td>34,007.78</td>\n",
              "      <td>34,160.78</td>\n",
              "      <td>-7.31</td>\n",
              "      <td>-0.02</td>\n",
              "      <td>{'code': '5', 'text': '하락', 'name': 'FALLING'}</td>\n",
              "    </tr>\n",
              "    <tr>\n",
              "      <th>3</th>\n",
              "      <td>{'code': 'NYS', 'zoneId': 'EST5EDT', 'nationTy...</td>\n",
              "      <td>2022-01-26T17:12:12-05:00</td>\n",
              "      <td>.DJI</td>\n",
              "      <td>34,520.82</td>\n",
              "      <td>34,815.67</td>\n",
              "      <td>33,876.48</td>\n",
              "      <td>34,168.09</td>\n",
              "      <td>-129.64</td>\n",
              "      <td>-0.38</td>\n",
              "      <td>{'code': '5', 'text': '하락', 'name': 'FALLING'}</td>\n",
              "    </tr>\n",
              "    <tr>\n",
              "      <th>4</th>\n",
              "      <td>{'code': 'NYS', 'zoneId': 'EST5EDT', 'nationTy...</td>\n",
              "      <td>2022-01-25T17:04:20-05:00</td>\n",
              "      <td>.DJI</td>\n",
              "      <td>34,186.64</td>\n",
              "      <td>34,591.04</td>\n",
              "      <td>33,545.52</td>\n",
              "      <td>34,297.73</td>\n",
              "      <td>-66.77</td>\n",
              "      <td>-0.19</td>\n",
              "      <td>{'code': '5', 'text': '하락', 'name': 'FALLING'}</td>\n",
              "    </tr>\n",
              "  </tbody>\n",
              "</table>\n",
              "</div>"
            ],
            "text/plain": [
              "                                   stockExchangeType  \\\n",
              "0  {'code': 'NYS', 'zoneId': 'EST5EDT', 'nationTy...   \n",
              "1  {'code': 'NYS', 'zoneId': 'EST5EDT', 'nationTy...   \n",
              "2  {'code': 'NYS', 'zoneId': 'EST5EDT', 'nationTy...   \n",
              "3  {'code': 'NYS', 'zoneId': 'EST5EDT', 'nationTy...   \n",
              "4  {'code': 'NYS', 'zoneId': 'EST5EDT', 'nationTy...   \n",
              "\n",
              "               localTradedAt worldIndexSymbol  openPrice  highPrice  \\\n",
              "0  2022-01-31T17:02:43-05:00             .DJI  34,691.17  35,148.14   \n",
              "1  2022-01-28T16:54:31-05:00             .DJI  34,135.24  34,731.77   \n",
              "2  2022-01-27T17:00:07-05:00             .DJI  34,261.75  34,773.32   \n",
              "3  2022-01-26T17:12:12-05:00             .DJI  34,520.82  34,815.67   \n",
              "4  2022-01-25T17:04:20-05:00             .DJI  34,186.64  34,591.04   \n",
              "\n",
              "    lowPrice closePrice  compareToPreviousClosePrice  fluctuationsRatio  \\\n",
              "0  34,496.10  35,131.86                       406.39               1.17   \n",
              "1  33,807.51  34,725.47                       564.69               1.65   \n",
              "2  34,007.78  34,160.78                        -7.31              -0.02   \n",
              "3  33,876.48  34,168.09                      -129.64              -0.38   \n",
              "4  33,545.52  34,297.73                       -66.77              -0.19   \n",
              "\n",
              "                           compareToPreviousPrice  \n",
              "0   {'code': '2', 'text': '상승', 'name': 'RISING'}  \n",
              "1   {'code': '2', 'text': '상승', 'name': 'RISING'}  \n",
              "2  {'code': '5', 'text': '하락', 'name': 'FALLING'}  \n",
              "3  {'code': '5', 'text': '하락', 'name': 'FALLING'}  \n",
              "4  {'code': '5', 'text': '하락', 'name': 'FALLING'}  "
            ]
          },
          "execution_count": 25,
          "metadata": {},
          "output_type": "execute_result"
        }
      ],
      "source": [
        "DOW_URL = \"https://api.stock.naver.com/index/.DJI/price?page=1&pageSize=10\"\n",
        "df_dow = pd.read_json(DOW_URL)\n",
        "df_dow.head()"
      ]
    },
    {
      "cell_type": "code",
      "execution_count": 26,
      "metadata": {
        "colab": {
          "base_uri": "https://localhost:8080/",
          "height": 363
        },
        "id": "sRpqfv5i_eCq",
        "outputId": "a605f213-fc96-4e8f-f940-38f417e376bb"
      },
      "outputs": [
        {
          "data": {
            "text/html": [
              "<div>\n",
              "<style scoped>\n",
              "    .dataframe tbody tr th:only-of-type {\n",
              "        vertical-align: middle;\n",
              "    }\n",
              "\n",
              "    .dataframe tbody tr th {\n",
              "        vertical-align: top;\n",
              "    }\n",
              "\n",
              "    .dataframe thead th {\n",
              "        text-align: right;\n",
              "    }\n",
              "</style>\n",
              "<table border=\"1\" class=\"dataframe\">\n",
              "  <thead>\n",
              "    <tr style=\"text-align: right;\">\n",
              "      <th></th>\n",
              "      <th>localTradedAt</th>\n",
              "      <th>tradeDatetime</th>\n",
              "    </tr>\n",
              "  </thead>\n",
              "  <tbody>\n",
              "    <tr>\n",
              "      <th>0</th>\n",
              "      <td>2022-01-31T17:02:43-05:00</td>\n",
              "      <td>2022-01-31 17:02:43-05:00</td>\n",
              "    </tr>\n",
              "    <tr>\n",
              "      <th>1</th>\n",
              "      <td>2022-01-28T16:54:31-05:00</td>\n",
              "      <td>2022-01-28 16:54:31-05:00</td>\n",
              "    </tr>\n",
              "    <tr>\n",
              "      <th>2</th>\n",
              "      <td>2022-01-27T17:00:07-05:00</td>\n",
              "      <td>2022-01-27 17:00:07-05:00</td>\n",
              "    </tr>\n",
              "    <tr>\n",
              "      <th>3</th>\n",
              "      <td>2022-01-26T17:12:12-05:00</td>\n",
              "      <td>2022-01-26 17:12:12-05:00</td>\n",
              "    </tr>\n",
              "    <tr>\n",
              "      <th>4</th>\n",
              "      <td>2022-01-25T17:04:20-05:00</td>\n",
              "      <td>2022-01-25 17:04:20-05:00</td>\n",
              "    </tr>\n",
              "    <tr>\n",
              "      <th>5</th>\n",
              "      <td>2022-01-24T17:04:34-05:00</td>\n",
              "      <td>2022-01-24 17:04:34-05:00</td>\n",
              "    </tr>\n",
              "    <tr>\n",
              "      <th>6</th>\n",
              "      <td>2022-01-21T16:52:58-05:00</td>\n",
              "      <td>2022-01-21 16:52:58-05:00</td>\n",
              "    </tr>\n",
              "    <tr>\n",
              "      <th>7</th>\n",
              "      <td>2022-01-20T16:55:12-05:00</td>\n",
              "      <td>2022-01-20 16:55:12-05:00</td>\n",
              "    </tr>\n",
              "    <tr>\n",
              "      <th>8</th>\n",
              "      <td>2022-01-19T16:58:19-05:00</td>\n",
              "      <td>2022-01-19 16:58:19-05:00</td>\n",
              "    </tr>\n",
              "    <tr>\n",
              "      <th>9</th>\n",
              "      <td>2022-01-18T16:56:21-05:00</td>\n",
              "      <td>2022-01-18 16:56:21-05:00</td>\n",
              "    </tr>\n",
              "  </tbody>\n",
              "</table>\n",
              "</div>"
            ],
            "text/plain": [
              "               localTradedAt             tradeDatetime\n",
              "0  2022-01-31T17:02:43-05:00 2022-01-31 17:02:43-05:00\n",
              "1  2022-01-28T16:54:31-05:00 2022-01-28 16:54:31-05:00\n",
              "2  2022-01-27T17:00:07-05:00 2022-01-27 17:00:07-05:00\n",
              "3  2022-01-26T17:12:12-05:00 2022-01-26 17:12:12-05:00\n",
              "4  2022-01-25T17:04:20-05:00 2022-01-25 17:04:20-05:00\n",
              "5  2022-01-24T17:04:34-05:00 2022-01-24 17:04:34-05:00\n",
              "6  2022-01-21T16:52:58-05:00 2022-01-21 16:52:58-05:00\n",
              "7  2022-01-20T16:55:12-05:00 2022-01-20 16:55:12-05:00\n",
              "8  2022-01-19T16:58:19-05:00 2022-01-19 16:58:19-05:00\n",
              "9  2022-01-18T16:56:21-05:00 2022-01-18 16:56:21-05:00"
            ]
          },
          "execution_count": 26,
          "metadata": {},
          "output_type": "execute_result"
        }
      ],
      "source": [
        "df_dow[\"tradeDatetime\"] = pd.to_datetime(df_dow[\"localTradedAt\"])\n",
        "df_dow[[\"localTradedAt\", \"tradeDatetime\"]]"
      ]
    },
    {
      "cell_type": "code",
      "execution_count": 27,
      "metadata": {
        "colab": {
          "base_uri": "https://localhost:8080/"
        },
        "id": "dQcMcySk_eAN",
        "outputId": "30c55880-0799-40e4-f777-6b84378add86"
      },
      "outputs": [
        {
          "data": {
            "text/plain": [
              "0    2022-01-31\n",
              "1    2022-01-28\n",
              "2    2022-01-27\n",
              "3    2022-01-26\n",
              "4    2022-01-25\n",
              "5    2022-01-24\n",
              "6    2022-01-21\n",
              "7    2022-01-20\n",
              "8    2022-01-19\n",
              "9    2022-01-18\n",
              "Name: tradeDate, dtype: object"
            ]
          },
          "execution_count": 27,
          "metadata": {},
          "output_type": "execute_result"
        }
      ],
      "source": [
        "df_dow[\"tradeDate\"] = df_dow[\"tradeDatetime\"].dt.date\n",
        "df_dow[\"tradeDate\"]"
      ]
    }
  ],
  "metadata": {
    "colab": {
      "collapsed_sections": [],
      "name": "01.네이버증권api크롤링.ipynb",
      "provenance": []
    },
    "kernelspec": {
      "display_name": "Python 3",
      "name": "python3"
    },
    "language_info": {
      "codemirror_mode": {
        "name": "ipython",
        "version": 3
      },
      "file_extension": ".py",
      "mimetype": "text/x-python",
      "name": "python",
      "nbconvert_exporter": "python",
      "pygments_lexer": "ipython3",
      "version": "3.8.11"
    }
  },
  "nbformat": 4,
  "nbformat_minor": 0
}
