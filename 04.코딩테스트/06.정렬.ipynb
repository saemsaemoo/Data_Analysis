{
 "cells": [
  {
   "cell_type": "markdown",
   "metadata": {},
   "source": [
    "## **Chapter 6. 정렬**"
   ]
  },
  {
   "cell_type": "markdown",
   "metadata": {},
   "source": [
    "#### **Q 6-1 선택정렬**"
   ]
  },
  {
   "cell_type": "markdown",
   "metadata": {},
   "source": [
    "- 선택정렬: 데이터가 무작위로 여러 개 있을 때, 가장 작은 데이터를 선택해 맨 앞에 있는 데이터와 바꾸고, 그다음 작은 데이터를 선택해 앞에서 두 번째 데이터와 바꾸는 과정을 반복 -> 매번 가장 작은 것을  선택한다... 선택 정렬\n",
    "- 선택 정렬은 가장 작은 데이터를 앞으로 보내는 과정을 N-1번 반복하면 정렬이 완료된다"
   ]
  },
  {
   "cell_type": "code",
   "execution_count": 14,
   "metadata": {},
   "outputs": [
    {
     "name": "stdout",
     "output_type": "stream",
     "text": [
      "[0, 1, 2, 3, 4, 5, 6, 7, 8, 9]\n"
     ]
    }
   ],
   "source": [
    "array = [7,5,9,0,3,1,6,2,4,8]\n",
    "\n",
    "for i in range(len(array)):\n",
    "    min_index = i # 가장 작은 인덱스:: 0\n",
    "    for j in range(i+1, len(array)): # (1,10) 범위 내에서\n",
    "        if array[min_index] > array[j]: # 만약 array[0]:7이 뒤에 있는 원소(j)보다 크다면\n",
    "            min_index = j # min_index는 j가 되고 이 값을 맨 앞 원소값과 바꾼다\n",
    "    array[i], array[min_index] = array[min_index], array[i] # 맨앞 원소와 가장 작은 원소를 스와프 (0과 7을)\n",
    "print(array)"
   ]
  },
  {
   "cell_type": "code",
   "execution_count": 15,
   "metadata": {},
   "outputs": [
    {
     "name": "stdout",
     "output_type": "stream",
     "text": [
      "10\n",
      "range(0, 10) 10\n",
      "9\n",
      "9\n",
      "9\n"
     ]
    }
   ],
   "source": [
    "print(len(array))\n",
    "print(range(i+1), len(array))\n",
    "print(min_index)\n",
    "print(array[min_index])\n",
    "print(array[j])"
   ]
  },
  {
   "cell_type": "markdown",
   "metadata": {},
   "source": [
    "#### **Q 6-2 스와프 소스코드**"
   ]
  },
  {
   "cell_type": "code",
   "execution_count": 12,
   "metadata": {},
   "outputs": [
    {
     "name": "stdout",
     "output_type": "stream",
     "text": [
      "[7, 5]\n"
     ]
    }
   ],
   "source": [
    "# 인덱스 0과 1의 원소끼리 교환\n",
    "array=[5,7]\n",
    "array[0], array[1] = array[1], array[0]\n",
    "print(array)"
   ]
  },
  {
   "cell_type": "markdown",
   "metadata": {},
   "source": [
    "#### **Q 6-3 삽입정렬**"
   ]
  },
  {
   "cell_type": "markdown",
   "metadata": {},
   "source": [
    "- 데이터를 하나씩 확인하며, 각 데이터를 적절한 위치에 삽입하면 어떨까?\n",
    "- 정렬되어 있는 데이터 리스트에서 적절한 위치를 찾은 뒤에 그 위치에 삽입된다.\n",
    "- 삽입정렬은 첫번째 데이터는 이미 정렬되어 있다고 판단하므로 두번째 데이터부터 시작한다.\n",
    "- 5 7 9 '0' 이런 순서로 되어있을 때 0은 5 앞, 7 앞, 9 앞, 9 뒤 4가지 선택지가 있고 7 앞으로 들어가게 된다\n",
    "- 0 5 7 9 이렇게 정렬되고, 정렬이 이루어진 원소는 항상 오름차순을 유지한다.\n",
    "- 삽입될 데이터보다 작은 데이터를 만나면 그 위치에서 멈추면 된다. 0 5 7 9 '3'일 때, 앞으로 가다가 0 만났을 때 멈추면 됨!\n"
   ]
  },
  {
   "cell_type": "code",
   "execution_count": 20,
   "metadata": {},
   "outputs": [
    {
     "name": "stdout",
     "output_type": "stream",
     "text": [
      "[0, 1, 2, 3, 4, 5, 6, 7, 8, 9]\n"
     ]
    }
   ],
   "source": [
    "array = [7,5,9,0,3,1,6,2,4,8]\n",
    "\n",
    "for i in range(1, len(array)): # range(1,10)\n",
    "    for j in range(i, 0, -1): # 인덱스 i부터 0까지 감소하면서 반복 range(시작, 끝, 간격)\n",
    "        if array[j] < array[j-1]: # 내 왼쪽에 있는 애보다 내 원소 값이 더 작으면\n",
    "            array[j], array[j-1] = array[j-1], array[j] # 둘이 자리를 바꾸면서 계속 왼쪽으로 한 칸씩 이동\n",
    "        else: # 나보다 작은 애를 만나면 그 위치에서 멈춤 05793 -> 0 앞에 멈춰서 03579\n",
    "            break\n",
    "print(array)"
   ]
  },
  {
   "cell_type": "markdown",
   "metadata": {},
   "source": [
    "#### **Q 6-4 퀵정렬**"
   ]
  },
  {
   "cell_type": "markdown",
   "metadata": {},
   "source": [
    "- 대부분의 프로그래밍 언어에서 정렬 라이브러리의 근간이 되는 알고리즘\n",
    "- 기준 데이터를 설정하고 그 기준보다 큰 데이터와 작은 데이터의 위치를 바꾸면 어떨까?\n",
    "- 즉, 기준을 설정한 다음 큰 수와 작은 수를 교환한 후 리스트를 반으로 나눠서 동작한다.\n",
    "- 큰 숫자와 작은 숫자를 교환할 때, 교환하기 위한 기준을 '피벗'이라고 한다.\n",
    "- 책에서는 호어(Hoare Partition) 방식을 기준으로 퀵 정렬을 설명함.\n",
    "- 특정한 리스트에서 피벗을 설정하고 정렬한 다음, 왼쪽 오른쪽 리스트를 각각 나눠서 재정렬한다."
   ]
  },
  {
   "cell_type": "code",
   "execution_count": 23,
   "metadata": {},
   "outputs": [
    {
     "name": "stdout",
     "output_type": "stream",
     "text": [
      "[0, 1, 2, 3, 4, 5, 6, 7, 8, 9]\n"
     ]
    }
   ],
   "source": [
    "array = [5, 7, 9, 0, 3, 1, 6, 2, 4, 8]\n",
    "\n",
    "def quick_sort(array, start, end):\n",
    "    if start >= end: # 원소가 1개인 경우 종료\n",
    "        return\n",
    "    pivot = start # 첫번째 원소를 피벗으로 둔다.\n",
    "    left = start + 1 # 시작점에서부터 오른쪽으로 이동\n",
    "    right = end # 끝점에서 왼쪽으로 이동\n",
    "    while left <= right: # 둘이 엇갈리지 않는 동안 계속 진행\n",
    "        while left <= end and array[left] <= array[pivot]:\n",
    "            left += 1 # 피벗보다 작다면 오른쪽으로 한칸씩 이동한다 (피벗보다 큰 데이터 찾을 때까지 반복)\n",
    "        while right > start and array[right] >= array[pivot]:\n",
    "            right -= 1 # 피벗보다 크다면 왼쪽으로 한칸씩 이동한다 (피벗보다 작은 데이터 찾을 때까지 반복)\n",
    "        if left > right: # 만약 엇갈리는 경우에는 피벗과 작은 데이터를 교체해야 함\n",
    "            array[right], array[pivot] = array[pivot], array[right]\n",
    "        else: # 만약 엇갈리지 않았다면 array[left]작은 데이터와 array[right]큰 데이터를 교체\n",
    "            array[left], array[right] = array[right], array[left]\n",
    "    \n",
    "    # 분할한 이후 왼쪽 오른쪽 각각 정렬하기\n",
    "    quick_sort(array, start, right-1)\n",
    "    quick_sort(array, right+1, end)\n",
    "\n",
    "quick_sort(array, 0, len(array)-1)\n",
    "print(array)"
   ]
  },
  {
   "cell_type": "markdown",
   "metadata": {},
   "source": [
    "#### **Q 6-5 파이썬의 장점을 살린 퀵정렬 코드**"
   ]
  },
  {
   "cell_type": "code",
   "execution_count": 24,
   "metadata": {},
   "outputs": [
    {
     "name": "stdout",
     "output_type": "stream",
     "text": [
      "[0, 1, 2, 3, 4, 5, 6, 7, 8, 9]\n"
     ]
    }
   ],
   "source": [
    "# 간단한 버전\n",
    "array = [5, 7, 9, 0, 3, 1, 6, 2, 4, 8]\n",
    "\n",
    "def quick_sort(array):\n",
    "    if len(array) <= 1:\n",
    "        return array\n",
    "    \n",
    "    pivot = array[0]\n",
    "    tail = array[1:]\n",
    "\n",
    "    left_side = [x for x in tail if x <= pivot] # 피벗 중심으로 분할된 왼쪽 부분\n",
    "    right_side = [ x for x in tail if x > pivot] # 피벗 중심으로 분할된 오른쪽 부분\n",
    "    \n",
    "    #각각 자기들끼리 정렬한 다음 전체 리스트를 합침\n",
    "    return quick_sort(left_side) + [pivot] + quick_sort(right_side)\n",
    "print(quick_sort(array))"
   ]
  },
  {
   "cell_type": "markdown",
   "metadata": {},
   "source": [
    "#### **Q 6-6 계수정렬**"
   ]
  },
  {
   "cell_type": "markdown",
   "metadata": {},
   "source": []
  },
  {
   "cell_type": "code",
   "execution_count": null,
   "metadata": {},
   "outputs": [],
   "source": []
  }
 ],
 "metadata": {
  "interpreter": {
   "hash": "31f2aee4e71d21fbe5cf8b01ff0e069b9275f58929596ceb00d14d90e3e16cd6"
  },
  "kernelspec": {
   "display_name": "Python 3.8.2 64-bit",
   "language": "python",
   "name": "python3"
  },
  "language_info": {
   "codemirror_mode": {
    "name": "ipython",
    "version": 3
   },
   "file_extension": ".py",
   "mimetype": "text/x-python",
   "name": "python",
   "nbconvert_exporter": "python",
   "pygments_lexer": "ipython3",
   "version": "3.8.2"
  },
  "orig_nbformat": 4
 },
 "nbformat": 4,
 "nbformat_minor": 2
}
