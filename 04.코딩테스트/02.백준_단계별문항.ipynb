{
 "cells": [
  {
   "cell_type": "markdown",
   "metadata": {},
   "source": [
    "#### **두 수 비교하기**"
   ]
  },
  {
   "cell_type": "code",
   "execution_count": 1,
   "metadata": {},
   "outputs": [
    {
     "name": "stdout",
     "output_type": "stream",
     "text": [
      "<\n"
     ]
    }
   ],
   "source": [
    "A, B = map(int, input().split())\n",
    "if A > B:\n",
    "    print(\">\")\n",
    "elif A < B:\n",
    "    print(\"<\")\n",
    "else:\n",
    "    print(\"==\")"
   ]
  },
  {
   "cell_type": "markdown",
   "metadata": {},
   "source": [
    "#### **시험성적**"
   ]
  },
  {
   "cell_type": "code",
   "execution_count": 3,
   "metadata": {},
   "outputs": [
    {
     "name": "stdout",
     "output_type": "stream",
     "text": [
      "C\n"
     ]
    }
   ],
   "source": [
    "score = int(input())\n",
    "\n",
    "if score >= 90:\n",
    "    print(\"A\")\n",
    "elif score >= 80:\n",
    "    print(\"B\")\n",
    "elif score >= 70:\n",
    "    print(\"C\")\n",
    "elif score >= 60:\n",
    "    print(\"D\")\n",
    "else:\n",
    "    print(\"F\")"
   ]
  },
  {
   "cell_type": "markdown",
   "metadata": {},
   "source": [
    "#### **윤년**"
   ]
  },
  {
   "cell_type": "code",
   "execution_count": 5,
   "metadata": {},
   "outputs": [
    {
     "name": "stdout",
     "output_type": "stream",
     "text": [
      "0\n"
     ]
    }
   ],
   "source": [
    "# 윤년이면 1, 아니면 0을 출력\n",
    "# 윤년: 4의 배수이면서, 100의 배수가 아닐 때 또는 400의 배수일 때\n",
    "year = int(input())\n",
    "\n",
    "if (year%4 == 0 and year%100 != 0) or (year%4 == 0 and year%400 == 0):\n",
    "    print(\"1\")\n",
    "else:\n",
    "    print(\"0\") "
   ]
  },
  {
   "cell_type": "markdown",
   "metadata": {},
   "source": [
    "#### **사분면 고르기**"
   ]
  },
  {
   "cell_type": "code",
   "execution_count": 6,
   "metadata": {},
   "outputs": [
    {
     "name": "stdout",
     "output_type": "stream",
     "text": [
      "1\n"
     ]
    }
   ],
   "source": [
    "x = int(input())\n",
    "y= int(input())\n",
    "if x > 0 and y > 0:\n",
    "    print(\"1\")\n",
    "elif x < 0 and y > 0:\n",
    "    print(\"2\")\n",
    "elif x < 0 and y < 0:\n",
    "    print(\"3\")\n",
    "elif x > 0 and y < 0:\n",
    "    print(\"4\")"
   ]
  },
  {
   "cell_type": "markdown",
   "metadata": {},
   "source": [
    "#### **주사위 시계**"
   ]
  },
  {
   "cell_type": "code",
   "execution_count": 8,
   "metadata": {},
   "outputs": [
    {
     "name": "stdout",
     "output_type": "stream",
     "text": [
      "400\n"
     ]
    }
   ],
   "source": [
    "a,b,c = map(int, input().split())\n",
    "\n",
    "if a==b==c:\n",
    "    print(10000+a*1000)\n",
    "elif a==b or a==c:\n",
    "    print(1000+a*100)\n",
    "elif b==c:\n",
    "    print(1000+b*100)\n",
    "else:\n",
    "    print(max(a,b,c)*100)"
   ]
  },
  {
   "cell_type": "markdown",
   "metadata": {},
   "source": [
    "#### **크로아티아 알파벳**"
   ]
  },
  {
   "cell_type": "code",
   "execution_count": 10,
   "metadata": {},
   "outputs": [
    {
     "name": "stdout",
     "output_type": "stream",
     "text": [
      "4\n"
     ]
    }
   ],
   "source": [
    "letter = input()\n",
    "apb = ['c=', 'c-', 'dz=' ,'d-','lj','nj', 's=', 'z=']\n",
    "for i in apb:\n",
    "    letter = letter.replace(i,'z')\n",
    "print(len(letter))"
   ]
  },
  {
   "cell_type": "markdown",
   "metadata": {},
   "source": [
    "#### **그룹단어 체커**"
   ]
  },
  {
   "cell_type": "code",
   "execution_count": 16,
   "metadata": {},
   "outputs": [
    {
     "name": "stdout",
     "output_type": "stream",
     "text": [
      "3\n"
     ]
    }
   ],
   "source": [
    "n = int(input())\n",
    "cnt =n\n",
    "\n",
    "group_word = 0\n",
    "for i in range(0,n):\n",
    "    word = input()\n",
    "    for j in range(0,len(word)-1): # 인덱스 범위니까 -1\n",
    "        if word[j] == word[j+1]: # 두 문자가 같다면 걍 넘어가고\n",
    "            pass\n",
    "        elif word[j] in word[j+1:]: # 이 문자가 뒤에서 다시 또 나오면 빼줘\n",
    "            cnt -= 1\n",
    "            break\n",
    "print(cnt)"
   ]
  },
  {
   "cell_type": "markdown",
   "metadata": {},
   "source": [
    "#### **손익분기점**"
   ]
  },
  {
   "cell_type": "code",
   "execution_count": 17,
   "metadata": {},
   "outputs": [
    {
     "name": "stdout",
     "output_type": "stream",
     "text": [
      "2\n"
     ]
    }
   ],
   "source": [
    "A, B, C = map(int, input().split())\n",
    "if B >=  C:\n",
    "    print(-1)\n",
    "else:\n",
    "    print(A//(C-B)+1)"
   ]
  },
  {
   "cell_type": "markdown",
   "metadata": {},
   "source": [
    "#### **팩토리얼**"
   ]
  },
  {
   "cell_type": "code",
   "execution_count": 18,
   "metadata": {},
   "outputs": [
    {
     "name": "stdout",
     "output_type": "stream",
     "text": [
      "3628800\n"
     ]
    }
   ],
   "source": [
    "n = int(input())\n",
    "\n",
    "result =1\n",
    "if n >0:\n",
    "    for i in range(1, n+1):\n",
    "        result *= i\n",
    "print(result)"
   ]
  },
  {
   "cell_type": "code",
   "execution_count": 19,
   "metadata": {},
   "outputs": [
    {
     "name": "stdout",
     "output_type": "stream",
     "text": [
      "3628800\n"
     ]
    }
   ],
   "source": [
    "n = int(input())\n",
    "\n",
    "def factorial(n):\n",
    "    result = 1\n",
    "    if n > 0:\n",
    "        result = n*factorial(n-1)\n",
    "# 만약 4를 넣으면 4*[factorial(3)]=[3*factorial(2)]=> 4*3*factorial(2)...\n",
    "    return result\n",
    "print(factorial(n))"
   ]
  },
  {
   "cell_type": "markdown",
   "metadata": {},
   "source": [
    "#### **피보나치 수열**\n",
    "- fn = fn-1 + fn-2 (n>=2)"
   ]
  },
  {
   "cell_type": "code",
   "execution_count": 26,
   "metadata": {},
   "outputs": [
    {
     "name": "stdout",
     "output_type": "stream",
     "text": [
      "55\n"
     ]
    }
   ],
   "source": [
    "n= int(input())\n",
    "def fibo(n):\n",
    "\tif n <= 1:\n",
    "\t\treturn n\n",
    "\treturn fibo(n-1)+fibo(n-2)\n",
    "print(fibo(n))"
   ]
  },
  {
   "cell_type": "markdown",
   "metadata": {},
   "source": [
    "#### **하노이의 탑**"
   ]
  },
  {
   "cell_type": "code",
   "execution_count": null,
   "metadata": {},
   "outputs": [],
   "source": [
    "def hannoi_tower(n,start,end):\n",
    "    if n == 1:\n",
    "        print(start, end)\n",
    "    "
   ]
  }
 ],
 "metadata": {
  "interpreter": {
   "hash": "04e5506d0a4e9b5ba2132a3aa07250344199659efb36c7056053abdf16c05720"
  },
  "kernelspec": {
   "display_name": "Python 3.8.12 ('base')",
   "language": "python",
   "name": "python3"
  },
  "language_info": {
   "codemirror_mode": {
    "name": "ipython",
    "version": 3
   },
   "file_extension": ".py",
   "mimetype": "text/x-python",
   "name": "python",
   "nbconvert_exporter": "python",
   "pygments_lexer": "ipython3",
   "version": "3.8.12"
  },
  "orig_nbformat": 4
 },
 "nbformat": 4,
 "nbformat_minor": 2
}
