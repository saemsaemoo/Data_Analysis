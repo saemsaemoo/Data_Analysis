{
 "cells": [
  {
   "cell_type": "markdown",
   "metadata": {},
   "source": [
    "## **Chapter 3. 그리디**"
   ]
  },
  {
   "cell_type": "markdown",
   "metadata": {},
   "source": [
    "#### **예제 3-1) 거스름돈으로 줄 동전의 개수는?**"
   ]
  },
  {
   "cell_type": "code",
   "execution_count": 3,
   "metadata": {},
   "outputs": [
    {
     "name": "stdout",
     "output_type": "stream",
     "text": [
      "6\n"
     ]
    }
   ],
   "source": [
    "n = 1260\n",
    "count = 0\n",
    "coin_types = [500, 100, 50,10]\n",
    "\n",
    "for coin in coin_types:\n",
    "    count += n // coin # 나눴을 때 몫의 개수만큼 동전 지급\n",
    "    # 예를 들어서 500원으로 줬으면 1260/500 = 2니까 500원짜리 2개 주고\n",
    "    n %= coin # 그 나머지인 260원이 다시 coin이 돼서 for문이 계속 돌아간다.\n",
    "\n",
    "print(count)"
   ]
  },
  {
   "cell_type": "markdown",
   "metadata": {},
   "source": [
    "#### 복습"
   ]
  },
  {
   "cell_type": "code",
   "execution_count": 15,
   "metadata": {},
   "outputs": [
    {
     "name": "stdout",
     "output_type": "stream",
     "text": [
      "6\n"
     ]
    }
   ],
   "source": [
    "n = int(input())\n",
    "count= 0\n",
    "coin_types=[10,50,100,500]\n",
    "coin_types.sort(reverse=True)\n",
    "for coin in coin_types:\n",
    "    count += n//coin\n",
    "    n %= coin\n",
    "print(count)"
   ]
  },
  {
   "cell_type": "markdown",
   "metadata": {},
   "source": [
    "- input() : 항상 문자형으로 인식됨.. 정수 쓰고 싶으면 int() 처리해줘야 함\n",
    "- sorted 함수: 딕셔너리를 리스트 타입으로 반환\n",
    "- set함수: 리스트에 중복된 숫자 삭제\n",
    "- int:정수 str: 문자\n",
    "- sorted(정렬할데이터)\n",
    "- sorted(정렬할데이터, key파라미터, reverse=True 면 내림차순, 안쓰면 오름차순) \n"
   ]
  },
  {
   "cell_type": "markdown",
   "metadata": {},
   "source": [
    "#### **동전**"
   ]
  },
  {
   "cell_type": "code",
   "execution_count": 10,
   "metadata": {},
   "outputs": [
    {
     "name": "stdout",
     "output_type": "stream",
     "text": [
      "6\n"
     ]
    }
   ],
   "source": [
    "n, k = map(int, input().split()) # n은 코인 개수, k는 금액\n",
    "coin_types = []\n",
    "for i in range(n):\n",
    "    coin_types.append(int(input()))\n",
    "coin_types.sort(reverse=True) # 내림차순으로 바꿔줘야한다! 안그럼 1로 나누고 끝남.\n",
    "count = 0\n",
    "for coin in coin_types:\n",
    "    count += k//coin # 몫의 개수만큼 동전 지급하고\n",
    "    k %= coin # 나머지는 다시 coin이 돼서 또 몫으로 나누는거 반복..\n",
    "print(count)\n"
   ]
  },
  {
   "cell_type": "code",
   "execution_count": 17,
   "metadata": {},
   "outputs": [
    {
     "name": "stdout",
     "output_type": "stream",
     "text": [
      "1\n"
     ]
    }
   ],
   "source": [
    "N, K = map(int, input().split())\n",
    "coin_types = []\n",
    "count=0\n",
    "for i in range(N):\n",
    "    coin_types.append(int(input()))\n",
    "coin_types.sort(reverse=True)\n",
    "for coin in coin_types:\n",
    "    count += K//coin\n",
    "    K %= coin\n",
    "print(count)"
   ]
  },
  {
   "cell_type": "code",
   "execution_count": 11,
   "metadata": {},
   "outputs": [
    {
     "name": "stdout",
     "output_type": "stream",
     "text": [
      "[50000, 10000, 5000, 1000, 500, 100, 50, 10, 5, 1]\n"
     ]
    }
   ],
   "source": [
    "print(coin_types)"
   ]
  },
  {
   "cell_type": "markdown",
   "metadata": {},
   "source": [
    "#### **회의실 배정**"
   ]
  },
  {
   "cell_type": "code",
   "execution_count": 14,
   "metadata": {},
   "outputs": [
    {
     "name": "stdout",
     "output_type": "stream",
     "text": [
      "4\n"
     ]
    }
   ],
   "source": [
    "# N개의 회의에 대해 회의실 사용표를 만들려고 한다.\n",
    "# (1,4)(2,3)(2,4)(5,7)(8,11)(12,14) \n",
    "N = int(input())\n",
    "time = []\n",
    "for i in range(N):\n",
    "    start, end = map(int, input().split())\n",
    "    time.append([start, end])\n",
    "\n",
    "time = sorted(time, key=lambda a: a[0]) # 시작시간을 오름차순으로 정렬 (1,4)(2,3)(2,4)(5,7)(8,11)(12,14)\n",
    "time = sorted(time, key=lambda a: a[1]) # 끝나는 시간으로 오름차순 \n",
    "\n",
    "last = 0 # 회의 마지막시간 저장\n",
    "count = 0 # 회의 개수\n",
    "\n",
    "for i, j in time:\n",
    "    if i >= last: # (1,4)면 i인 1은 0보다 크니까 count+=1 j는 4가 된다.\n",
    "        count +=1 # (2,3)이면 i는 2인데 이건 4보다 작으니까 count 안됨. (5,7)은 i가 5니까 4보다 커서 count되고, j는 7이 됨\n",
    "        last = j\n",
    "\n",
    "print(count)"
   ]
  },
  {
   "cell_type": "markdown",
   "metadata": {},
   "source": [
    "#### **Q 2 큰수의 법칙 (이코테 p92)**"
   ]
  },
  {
   "cell_type": "code",
   "execution_count": 6,
   "metadata": {},
   "outputs": [
    {
     "name": "stdout",
     "output_type": "stream",
     "text": [
      "46\n"
     ]
    }
   ],
   "source": [
    "N, M, K = map(int, input().split()) #N: 배열의 크기/ 8개 길이 3숫자 반복가능이면 제일 큰 수가 2*3=6만큼 더해짐\n",
    "data = list(map(int, input().split()))\n",
    "data.sort(reverse=True) # 내림차순으로 정렬\n",
    "\n",
    "first = data[0] # 제일 큰 수\n",
    "second = data[1] # 두번째로 큰 수\n",
    "\n",
    "\n",
    "count = int(M / (K+1)) * K #  k개 반복되고 두번째로 큰 수가 한번 더해지니까 수열길이는 K+1\n",
    "count += M % (K+1) # 나눠떨어지지 않는 경우 나머지만큼 큰 수 더해주기\n",
    "\n",
    "result = 0\n",
    "result += (count)*first + (M-count)*second\n",
    "\n",
    "print(result)"
   ]
  },
  {
   "cell_type": "code",
   "execution_count": 4,
   "metadata": {},
   "outputs": [
    {
     "name": "stdout",
     "output_type": "stream",
     "text": [
      "46\n"
     ]
    }
   ],
   "source": [
    "# for문으로 만드는 법\n",
    "N, M, K = map(int, input().split()) # 5 8 3\n",
    "data = list(map(int, input().split()))\n",
    "data.sort(reverse=True) # 내림차순으로 정렬\n",
    "first = data[0]\n",
    "second = data[1]\n",
    "result = 0\n",
    "while True:\n",
    "    for i in range(K): # 제일 큰 수 K번 더하기\n",
    "        if M == 0: # M=0이 될 때까지 첫번째 수를 더하고 0되면 탈출\n",
    "            break\n",
    "        result += first\n",
    "        M -= 1\n",
    "    if M == 0:\n",
    "        break\n",
    "    result += second\n",
    "    M -= 1\n",
    "\n",
    "print(result)"
   ]
  },
  {
   "cell_type": "code",
   "execution_count": null,
   "metadata": {},
   "outputs": [],
   "source": []
  }
 ],
 "metadata": {
  "interpreter": {
   "hash": "04e5506d0a4e9b5ba2132a3aa07250344199659efb36c7056053abdf16c05720"
  },
  "kernelspec": {
   "display_name": "Python 3.8.12 ('base')",
   "language": "python",
   "name": "python3"
  },
  "language_info": {
   "codemirror_mode": {
    "name": "ipython",
    "version": 3
   },
   "file_extension": ".py",
   "mimetype": "text/x-python",
   "name": "python",
   "nbconvert_exporter": "python",
   "pygments_lexer": "ipython3",
   "version": "3.8.12"
  },
  "orig_nbformat": 4
 },
 "nbformat": 4,
 "nbformat_minor": 2
}
