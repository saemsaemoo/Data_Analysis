{
 "cells": [
  {
   "cell_type": "markdown",
   "metadata": {},
   "source": [
    "#### 일욜까지 정리"
   ]
  },
  {
   "cell_type": "markdown",
   "metadata": {},
   "source": [
    "- drop\n",
    "- replace\n",
    "- astype\n",
    "- list로 변경\n",
    "company_names = company_name_df['column_index'].values.tolist()\n",
    "- dictionary로 변경\n",
    "- 새로운 컬럼 추가\n",
    "cd[\"분기\"] ='2017_01'\n",
    "- isin 함수\n",
    "df_700 = code_df[code_df['corp_name'].isin(company_names)]\n",
    "- 숫자로 변경\n",
    "df_541['corp_code'] = df_541['corp_code'].apply(lambda x : x.strip())\n",
    "- 중복 제거/ Dupicates (유튜브 트렌딩 파일)\n",
    "df_541.nunique()\n",
    "- 조건에 해당하는 컬럼만 가져오기\n",
    "df_False = df_copy[(df_copy['status'] == False)]\n",
    "- merge / concat\n",
    "- 컬럼 drop보다 빠르게 컬럼 추리기\n",
    "(필요한 컬럼만 보기)\n",
    "df_false = df_False[[\"corp_code\",\"corp_name\",\"stock_code\"]]\n",
    "- 엑셀로 or csv 파일로 저장\n",
    "df_false.to_excel\n",
    "- ??\n",
    "df_541 = df_541.reset_index(drop=True)\n",
    "- 팀플 lol or 학생성적 자료 추가"
   ]
  },
  {
   "cell_type": "code",
   "execution_count": null,
   "metadata": {},
   "outputs": [],
   "source": [
    "rename\n",
    "drop\n",
    "duplicates\n",
    "merge\n",
    "ascending:"
   ]
  },
  {
   "cell_type": "code",
   "execution_count": null,
   "metadata": {},
   "outputs": [],
   "source": [
    "set_index"
   ]
  }
 ],
 "metadata": {
  "language_info": {
   "name": "python"
  },
  "orig_nbformat": 4
 },
 "nbformat": 4,
 "nbformat_minor": 2
}
