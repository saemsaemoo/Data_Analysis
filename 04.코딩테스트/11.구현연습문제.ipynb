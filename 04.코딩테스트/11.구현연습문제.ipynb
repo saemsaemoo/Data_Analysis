{
 "cells": [
  {
   "cell_type": "markdown",
   "metadata": {},
   "source": [
    "#### **Q1 럭키 스트레이트 (이코테 p321)**"
   ]
  },
  {
   "cell_type": "code",
   "execution_count": 5,
   "metadata": {},
   "outputs": [
    {
     "name": "stdout",
     "output_type": "stream",
     "text": [
      "READY\n"
     ]
    }
   ],
   "source": [
    "n = input()\n",
    "length = len(n) # 점수값의 자릿수\n",
    "summary = 0\n",
    "\n",
    "#왼쪽의 자릿수 합 구하기\n",
    "for i in range(length//2):\n",
    "    summary += int(n[i])\n",
    "\n",
    "#왼쪽의 자릿수 합 빼기\n",
    "for i in range(length//2, length):\n",
    "    summary -= int(n[i])\n",
    "\n",
    "#왼쪽과 오른쪽의 자릿수 합이 같은지 확인 (둘이 같으면 + - 했을 때 0으로 상쇄되니까)\n",
    "if summary == 0:\n",
    "    print(\"LUCKY\")\n",
    "else:\n",
    "    print(\"READY\")"
   ]
  },
  {
   "cell_type": "code",
   "execution_count": 18,
   "metadata": {},
   "outputs": [
    {
     "name": "stdout",
     "output_type": "stream",
     "text": [
      "LUCKY\n"
     ]
    }
   ],
   "source": [
    "# 내가 생각한대로 다시 풀이\n",
    "n = input()\n",
    "length = len(n) # 점수값의 자릿수\n",
    "left = 0\n",
    "right = 0\n",
    "\n",
    "# 왼쪽의 합 구하기\n",
    "for i in range(length//2):\n",
    "    left += int(n[i])\n",
    "\n",
    "# 오른쪽의 합 구하기\n",
    "for i in range(length//2, length):\n",
    "    right += int(n[i])\n",
    "\n",
    "if left == right:\n",
    "    print(\"LUCKY\")\n",
    "else:\n",
    "    print(\"READY\")"
   ]
  },
  {
   "cell_type": "code",
   "execution_count": 13,
   "metadata": {},
   "outputs": [
    {
     "name": "stdout",
     "output_type": "stream",
     "text": [
      "range(0, 3)\n",
      "3\n",
      "6\n",
      "3\n"
     ]
    }
   ],
   "source": [
    "print(range(length//2))\n",
    "print(length//2)\n",
    "print(length)\n",
    "print(int(n[3])) # 각 자리의 숫자를 의미 (123345니까 0이면 1 / 2면 3)"
   ]
  },
  {
   "cell_type": "code",
   "execution_count": 2,
   "metadata": {},
   "outputs": [
    {
     "data": {
      "text/plain": [
       "45"
      ]
     },
     "execution_count": 2,
     "metadata": {},
     "output_type": "execute_result"
    }
   ],
   "source": [
    "sum(range(1,10))"
   ]
  },
  {
   "cell_type": "markdown",
   "metadata": {},
   "source": [
    "#### **Q2 수 이어쓰기 (백준)**\n",
    "https://www.acmicpc.net/problem/1748"
   ]
  },
  {
   "cell_type": "code",
   "execution_count": 14,
   "metadata": {},
   "outputs": [
    {
     "name": "stdout",
     "output_type": "stream",
     "text": [
      "31\n"
     ]
    }
   ],
   "source": [
    "# 한자릿수: 9개/ 두자릿수는:90개/ 세자릿수는/900개 ...9x10**(자릿수-1) ...1이면 9 2면 90...\n",
    "# input 20했을 때의 결과\n",
    "n = input()\n",
    "n_len = len(n)-1 # 제곱수로 들어갈 부분\n",
    "\n",
    "num = 0\n",
    "for i in range(n_len):\n",
    "    num += 9 * (10 ** i) * (i + 1) # 한자릿수일때 9 더하고, 두자릿수면 180... 더하는 식\n",
    "\n",
    "num += ((int(n) - (10 ** n_len) + 1) * (n_len + 1 )) # 본인 자릿수 더하는 식\n",
    "print(num)"
   ]
  },
  {
   "cell_type": "code",
   "execution_count": 15,
   "metadata": {},
   "outputs": [
    {
     "name": "stdout",
     "output_type": "stream",
     "text": [
      "1\n",
      "2700\n",
      "range(0, 1)\n",
      "9\n",
      "22\n"
     ]
    }
   ],
   "source": [
    "print(n_len)\n",
    "print(9*(10**2)*(2+1)) # 내 계산대로면, 900*3이니까 2700 나와야 함\n",
    "print(range(n_len))\n",
    "\n",
    "# 20 입력하면 n_len은 1 -> i는 0이니까 아래 식 계산하면 9나옴\n",
    "# 100 입력하면 n_len은 2 -> i는 1이니까 아래 식 계산하면 180나옴\n",
    "print(9 * (10 ** i) * (i + 1))\n",
    "\n",
    "# 그 다음 (20 -10 + 1) * 2 = 22\n",
    "print(((int(n) - (10 ** n_len) + 1) * (n_len + 1 )))"
   ]
  },
  {
   "cell_type": "markdown",
   "metadata": {},
   "source": [
    "#### **Q3 문자열 재정렬 (이코테 p322)**\n",
    "- 알파벳 대문자와 숫자로만 구성된 문자열이 입력으로 주어진다.\n",
    "- 모든 알파벳을 오름차순으로 정렬해서 출력한 뒤 그 뒤에는 모든 숫자를 더한 값을 출력한다."
   ]
  },
  {
   "cell_type": "code",
   "execution_count": 2,
   "metadata": {},
   "outputs": [
    {
     "name": "stdout",
     "output_type": "stream",
     "text": [
      "CCDEEEEFGJJJKKKKKLMNVV31\n",
      "['C', 'C', 'D', 'E', 'E', 'E', 'E', 'F', 'G', 'J', 'J', 'J', 'K', 'K', 'K', 'K', 'K', 'L', 'M', 'N', 'V', 'V', '31']\n"
     ]
    }
   ],
   "source": [
    "data = input()\n",
    "result = []\n",
    "value = 0\n",
    "\n",
    "for x in data:\n",
    "    if x.isalpha(): # 만약 알파벳이라면 이를 리스트에 삽입\n",
    "        result.append(x)\n",
    "    else:\n",
    "        value += int(x) # 숫자끼리는 더하기\n",
    "result.sort() # 알파벳 오름차순 정렬\n",
    "if value != 0: # 숫자가 하나도 없는 게 아니라면\n",
    "    result.append(str(value)) # 알파벳 뒤에 붙인다\n",
    "\n",
    "print(''.join(result)) # 최종 결과인 리스트를 문자열로 변환해서 출력\n",
    "print(result) # 그냥 출력하면 리스트 형태로 나오니까 문자열로 꼭 변환해주기"
   ]
  },
  {
   "cell_type": "markdown",
   "metadata": {},
   "source": [
    "#### **Q4 문자열 압축 (이코테 p323) @다시 공부**\n",
    "- 문자의 길이를 줄일 수 있는 단위를 찾아 해당 단위로 압축해 문자를 표현하고 표현된 길이를 출력 !\n",
    "- 예를 들어, abcabcabcabcdededededede는 3개 단위로 자르면 abcabc...는 4abcdededededede로 표현 가능\n",
    "- 만약 4개 단위로 자르면 abcabcabcabc3dede로 표현 가능하다... 이런 식으로 표현할 때 가장 짧게 표현 가능한 단위는?"
   ]
  },
  {
   "cell_type": "code",
   "execution_count": 19,
   "metadata": {},
   "outputs": [],
   "source": [
    "def solutions(s):\n",
    "    answer = len(s)\n",
    "    # 한 단위부터 압축 단위를 늘려가면서 확인\n",
    "    for step in range(1, len(s) // 2 +1):\n",
    "        compressed = \"\"\n",
    "        prev = s[0:step] # 앞에서부터 step만큼의 문자열 추출\n",
    "        count = 1\n",
    "        # 단위 크기만큼 증가시키며 이전 문자열과 비교\n",
    "        for j in range(step, len(s), step):\n",
    "            # 이전 상태와 동일하다면 압축횟수 증가\n",
    "            if prev == s[j:j+step]:\n",
    "                count += 1\n",
    "            # 다른 문자열이 나왔다면 (더 이상 압축하지 못한다면)\n",
    "            else:\n",
    "                compressed += str(count) + prev if count >= 2 else prev\n",
    "                prev = s[j:j+step] # 상태 초기화\n",
    "                count = 1\n",
    "        # 남아 있는 문자열에 대해 처리\n",
    "        compressed += str(count) + prev if count >= 2 else prev\n",
    "        # 만들어지는 압축 문자열이 가장 짧은 것이 정답\n",
    "        answer = min(answer, len(compressed))\n",
    "    return answer"
   ]
  },
  {
   "cell_type": "markdown",
   "metadata": {},
   "source": [
    "#### **Q5 방번호**\n",
    "- https://www.acmicpc.net/problem/1475\n",
    "- 0 ~ 9까지 숫자가 하나씩 들어있는데, 다솜이 방 번호가 주어졌을 때 필요한 세트의 개수의 최솟값을 출력하라. (6과 9는 뒤집어서 사용할 수 있다.)\n",
    "- ex) 9999호이면 2개의 세트가 필요 (6을 9로 사용할 수 있으니까)\n",
    "- ex) 122호면 2개의 세트가 필요 (2가 두개 필요하니까)\n",
    "- ex) 12635호이면 1개의 세트만 필요 (중복되는 숫자가 하나도 없으니까)"
   ]
  },
  {
   "cell_type": "code",
   "execution_count": null,
   "metadata": {},
   "outputs": [],
   "source": [
    "# 중복되는 숫자가 몇 개 있느냐가 세트 개수에 영향을 줌.\n",
    "# 중복되는 숫자가 3개면 3세트 필요하고 5개면 5세트가 필요하다.\n",
    "# 단, 6과 9의 경우에는 2개가 있어도 한 세트만 필요하다. 3개인 경우에는 두 세트 필요하니까 나눈 몫 +1 해주면 됨\n",
    "# 0~9까지의 인덱스를 갖는 리스트를 만들고, 방 번호 숫자의 개수를 넣어준다\n",
    "\n",
    "number = input()\n",
    "answer = [0]*10\n",
    "for i in range(len(number)):\n",
    "    num = int(number[i])\n",
    "    if num == 6 :\n",
    "        num == 9\n",
    "    answer[num] += 1\n"
   ]
  },
  {
   "cell_type": "markdown",
   "metadata": {},
   "source": [
    "#### **Q6 배열돌리기1 (백준)**\n",
    "- https://www.acmicpc.net/problem/16926"
   ]
  }
 ],
 "metadata": {
  "interpreter": {
   "hash": "04e5506d0a4e9b5ba2132a3aa07250344199659efb36c7056053abdf16c05720"
  },
  "kernelspec": {
   "display_name": "Python 3.8.12 ('base')",
   "language": "python",
   "name": "python3"
  },
  "language_info": {
   "codemirror_mode": {
    "name": "ipython",
    "version": 3
   },
   "file_extension": ".py",
   "mimetype": "text/x-python",
   "name": "python",
   "nbconvert_exporter": "python",
   "pygments_lexer": "ipython3",
   "version": "3.8.12"
  },
  "orig_nbformat": 4
 },
 "nbformat": 4,
 "nbformat_minor": 2
}
