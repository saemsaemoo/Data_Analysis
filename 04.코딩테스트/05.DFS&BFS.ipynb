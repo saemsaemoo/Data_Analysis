{
 "cells": [
  {
   "cell_type": "markdown",
   "metadata": {},
   "source": [
    "## **Chapter 5. DFS / BFS**"
   ]
  },
  {
   "cell_type": "markdown",
   "metadata": {},
   "source": [
    "#### **Q 5-3 재귀함수 예제**"
   ]
  },
  {
   "cell_type": "code",
   "execution_count": 27,
   "metadata": {},
   "outputs": [],
   "source": [
    "# def recursive_function():\n",
    "#     print('재귀함수를 호출...')\n",
    "#     recursive_function()\n",
    "\n",
    "# recursive_function()\n",
    "# 너무 길어서 실행하지 않음"
   ]
  },
  {
   "cell_type": "markdown",
   "metadata": {},
   "source": [
    "#### **Q 5-4 재귀함수 종료 예제**"
   ]
  },
  {
   "cell_type": "code",
   "execution_count": 4,
   "metadata": {},
   "outputs": [
    {
     "name": "stdout",
     "output_type": "stream",
     "text": [
      "5 번째 재귀함수에서 6 번째 재귀함수를 호출...\n",
      "6 번째 재귀함수에서 7 번째 재귀함수를 호출...\n",
      "7 번째 재귀함수에서 8 번째 재귀함수를 호출...\n",
      "8 번째 재귀함수에서 9 번째 재귀함수를 호출...\n",
      "9 번째 재귀함수에서 10 번째 재귀함수를 호출...\n"
     ]
    }
   ],
   "source": [
    "i = int(input())\n",
    "def recursive_function(i):\n",
    "    # 10번째까지만 출력하고 종료되도록 조건 명시\n",
    "    if i == 10:\n",
    "        return\n",
    "    print(i,'번째 재귀함수에서', i+1, '번째 재귀함수를 호출...')\n",
    "    recursive_function(i+1)\n",
    "    \n",
    "recursive_function(i)"
   ]
  },
  {
   "cell_type": "markdown",
   "metadata": {},
   "source": [
    "#### **Q 5-5 2가지 방식으로 구현한 팩토리얼 예제**"
   ]
  },
  {
   "cell_type": "code",
   "execution_count": 10,
   "metadata": {},
   "outputs": [
    {
     "name": "stdout",
     "output_type": "stream",
     "text": [
      "반복적으로 구현: 120\n",
      "재귀적으로 구현: 120\n"
     ]
    }
   ],
   "source": [
    "# 반복적으로 구현한 n!\n",
    "def factorial_iterative(n):\n",
    "    result = 1\n",
    "    for i in range(1, n+1): # 1~n까지 차례로 곱하기\n",
    "        result *= i\n",
    "    return result\n",
    "\n",
    "# 재귀적으로 구현한 n! (이게 훨씬 간결함)\n",
    "def factorial_recursive(n):\n",
    "    if n <= 1: # n이 1 이하인 경우 1을 반환\n",
    "        return 1\n",
    "    return n*factorial_recursive(n-1)\n",
    "\n",
    "\n",
    "print('반복적으로 구현:', factorial_iterative(5))\n",
    "print('재귀적으로 구현:', factorial_recursive(5))"
   ]
  },
  {
   "cell_type": "markdown",
   "metadata": {},
   "source": [
    "#### **Q 5-6 ~ 5-7 인접행렬과 인접리스트 예제**"
   ]
  },
  {
   "cell_type": "markdown",
   "metadata": {},
   "source": [
    "* 인접행렬의 경우:: 모든 관계를 저장하므로 노드 개수가 많을수록 불필요한 메모리 낭비가 큼\n",
    "* 인접리스트의 경우:: 연결된 정보만 저장하기 때문에 메모리를 효율적으로 사용할 수 있음"
   ]
  },
  {
   "cell_type": "markdown",
   "metadata": {},
   "source": [
    "#### **Q 5-8 DFS 예제**"
   ]
  },
  {
   "cell_type": "code",
   "execution_count": 18,
   "metadata": {},
   "outputs": [
    {
     "name": "stdout",
     "output_type": "stream",
     "text": [
      "1 2 7 6 8 3 4 5 "
     ]
    }
   ],
   "source": [
    "def dfs(graph, v, visited):\n",
    "    # 현재 노드를 방문 처리\n",
    "    visited[v] = True\n",
    "    print(v, end=' ')\n",
    "    # 현재 노드와 연결된 다른 노드를 재귀적으로 방문\n",
    "    for i in graph[v]:\n",
    "        if not visited[i]:\n",
    "            dfs(graph, i, visited)\n",
    "\n",
    "# 각 노드가 연결될 정보를 리스트 자료형으로 표현(2차원 리스트) -> 인접리스트 방식\n",
    "graph = [\n",
    "    [],\n",
    "    [2, 3, 8], # 1번 노드와 연결된 노드\n",
    "    [1, 7], # 2번 노드와 연결된 노드\n",
    "    [1, 4, 5],\n",
    "    [3, 5],\n",
    "    [3, 4],\n",
    "    [7],\n",
    "    [2, 6, 8],\n",
    "    [1, 7]\n",
    "]\n",
    "\n",
    "# 각 노드가 방문된 정보를 리스트 자료형으로 표현(1차원 리스트)\n",
    "visited = [False] * 9\n",
    "\n",
    "# 정의된 DFS 함수 호출\n",
    "dfs(graph, 1, visited)"
   ]
  },
  {
   "cell_type": "markdown",
   "metadata": {},
   "source": [
    "#### **Q 5-9 BFS 예제**\n",
    "* 보통 DFS 보다는 BFS 구현이 조금 더 빠르게 동작한다."
   ]
  },
  {
   "cell_type": "code",
   "execution_count": 20,
   "metadata": {},
   "outputs": [
    {
     "name": "stdout",
     "output_type": "stream",
     "text": [
      "1 2 3 8 7 4 5 6 "
     ]
    }
   ],
   "source": [
    "from collections import deque\n",
    "\n",
    "# BFS 매서드 정의\n",
    "def bfs(graph, start, visited):\n",
    "    #큐 구현을 위해 deque 라이브러리 사용\n",
    "    queue = deque([start])\n",
    "    #현재 노드를 방문 처리\n",
    "    visited[start] = True\n",
    "    #큐가 빌 때까지 반복\n",
    "    while queue:\n",
    "        #큐에서 하나의 원소를 뽑아 출력\n",
    "        v = queue.popleft() # 가장 먼저 들어온 애를 빼냄\n",
    "        print(v, end=' ') # 해당 노드의 번호를 출력해주고\n",
    "        #해당 원소와 연결된, 아직 방문하지 않은 원소들을 큐에 삽입\n",
    "        for i in graph[v]:\n",
    "            if not visited[i]:\n",
    "                queue.append(i)\n",
    "                visited[i] = True\n",
    "\n",
    "# 각 노드가 연결된 정보를 리스트 자료형으로 표현(2차원 리스트) / 원소가 9개인 리스트 객체\n",
    "graph = [\n",
    "    [], # 0번 노드에 대한 내용은 비워두기\n",
    "    [2, 3, 8],\n",
    "    [1, 7],\n",
    "    [1, 4, 5],\n",
    "    [3, 5],\n",
    "    [3, 4],\n",
    "    [7],\n",
    "    [2, 6, 8],\n",
    "    [1, 7]\n",
    "]\n",
    "\n",
    "# 각 노드가 방문된 정보를 리스트 자료형으로 표현(1차원 리스트)\n",
    "visited= [False] * 9\n",
    "\n",
    "#정의된 BFS 함수 호출\n",
    "bfs(graph, 1, visited)"
   ]
  },
  {
   "cell_type": "markdown",
   "metadata": {},
   "source": [
    "#### **[실전문제] 음료수 얼려 먹기**\n",
    "* N(세로) X M(가로)) 크기의 얼음 틀. 구멍이 뚫린 부분:: 0 칸막이가 존재하는 부분 :: 1\n",
    "    - 입력조건:: 첫번째 줄에 얼음 틀의 세로 길이 N과 가로 길이 M이 주어진다.\n",
    "    - 두번재 줄부터 N+1번째 줄까지 얼음 틀의 형태가 주어진다.\n",
    "    - 출력조건:: 한번에 만들 수 있는 아이스크림의 개수를 출력 !"
   ]
  },
  {
   "cell_type": "markdown",
   "metadata": {},
   "source": [
    "* DFS로 해결 ... how to?\n",
    "    - 특정 지점의 상하좌우를 살펴본 뒤 주변 지점 중에서 값이 0 and 'not yet visited'... then graph[x][y]=1(visited)\n",
    "    - 방문한 지점에서 다시 상하좌우를 살펴보면서 방문을 다시 진행하면 연결된 모든 지점 방문 가능 -> 이를 반복하면서 방문하지 않은 지점의 수를 센다"
   ]
  },
  {
   "cell_type": "code",
   "execution_count": 24,
   "metadata": {},
   "outputs": [
    {
     "name": "stdout",
     "output_type": "stream",
     "text": [
      "3\n"
     ]
    }
   ],
   "source": [
    "n, m = map(int, input().split())\n",
    "\n",
    "# 2차원 리스트의 맵 정보 입력받기\n",
    "graph=[]\n",
    "for i in range(n):\n",
    "    graph.append(list(map(int, input())))\n",
    "\n",
    "# DFS로 특정한 노드를 방문한 뒤에 연결된 모든 노드들도 방문\n",
    "def dfs(x,y):\n",
    "    # 주어진 범위를 벗어나는 경우에는 바로 종료 !\n",
    "    if x <= -1 or x >= n or y <=-1 or y >= m:\n",
    "        return False\n",
    "    \n",
    "    # 아직 노드를 방문하지 않았다면 -> 0\n",
    "    if graph[x][y] == 0:\n",
    "        graph[x][y]=1 # 방문처리\n",
    "        dfs(x-1, y) # 상\n",
    "        dfs(x, y-1) # 좌\n",
    "        dfs(x+1, y) # 하\n",
    "        dfs(x, y+1) # 우\n",
    "        return True\n",
    "    return False\n",
    "\n",
    "# 모든 노드(위치)에 대하여 음료수 채우기\n",
    "result = 0\n",
    "for i in range(n):\n",
    "    for j in range(m):\n",
    "        if dfs(i,j) == True:\n",
    "            result += 1\n",
    "\n",
    "print(result)"
   ]
  },
  {
   "cell_type": "code",
   "execution_count": 26,
   "metadata": {},
   "outputs": [
    {
     "name": "stdout",
     "output_type": "stream",
     "text": [
      "3 3\n",
      "[[1, 1, 1], [1, 1, 1], [1, 1, 1]]\n"
     ]
    }
   ],
   "source": [
    "print(n, m)\n",
    "print(graph) # 001 010 101"
   ]
  },
  {
   "cell_type": "markdown",
   "metadata": {},
   "source": [
    "#### **[실전문제] 미로 탈출**\n",
    "* N X M 크기의 미로 (세*가) :: 괴물 있는 곳 - 0 괴물 없는 곳 - 1\n",
    "* 시작 칸과 마지막 칸을 모두 포함해서 계산\n",
    "* 동빈이가 탈출하기 위해 움직여야 하는 최소 이동 칸의 개수를 출력 !\n",
    "\n",
    "* BFS로 해결 ... how to?\n",
    "    - BFS는 시작 지점에서 가까운 노드부터 차례대로 그래프의 모든 노드를 탐색함\n",
    "    - 그러므로 (1,1)지점에서부터 BFS를 수행하여 모든 노드의 값을 거리 정보로 넣으면 됨\n",
    "    - 특정 노드를 방문할 경우 그 이전 노드의 거리에 1을 더한 값을 리스트에 넣는다 !!\n",
    "    - ex) 길이 1 - 1 - 1 이렇게 되어 있으면 1 - 2 - 3 으로 바뀌어서 최소 이동 칸의 개수는 3이 된다"
   ]
  },
  {
   "cell_type": "code",
   "execution_count": 28,
   "metadata": {},
   "outputs": [
    {
     "name": "stdout",
     "output_type": "stream",
     "text": [
      "10\n"
     ]
    }
   ],
   "source": [
    "from collections import deque\n",
    "# N, M을 공백으로 구분하여 입력받기\n",
    "n, m = map(int, input().split())\n",
    "graph=[]\n",
    "for i in range(n):\n",
    "    graph.append(list(map(int, input())))\n",
    "\n",
    "dx = [-1,1,0,0] # 이동방향 정의 상 하 좌 우\n",
    "dy = [0,0,-1,1]\n",
    "\n",
    "def bfs(x,y):\n",
    "    queue = deque()\n",
    "    queue.append((x,y))\n",
    "    while queue: # 큐가 빌 때까지 반복\n",
    "        x,y = queue.popleft()\n",
    "        for i in range(4): # 네 방향으로의 위치 확인\n",
    "            nx = x + dx[i]\n",
    "            ny = y + dy[i]\n",
    "            if nx < 0 or nx >= n or ny < 0 or ny >= m: # 공간 벗어나면 무시\n",
    "                continue\n",
    "            if graph[nx][ny] == 0: # 벽이면 무시\n",
    "                continue\n",
    "            if graph[nx][ny] == 1: # 해당 노드를 처음 방문하는 경우에만 기록(처음 아니면 1보다 큰 상수가 될테니까 그런 경우는 기록 X)\n",
    "                graph[nx][ny] = graph[x][y] + 1\n",
    "                queue.append((nx,ny))\n",
    "    # 가장 오른쪽 아래까지의 최단 거리 반환\n",
    "    return graph[n-1][m-1]\n",
    "\n",
    "#BFS를 수행한 결과 출력\n",
    "print(bfs(0,0))"
   ]
  },
  {
   "cell_type": "code",
   "execution_count": 30,
   "metadata": {},
   "outputs": [
    {
     "name": "stdout",
     "output_type": "stream",
     "text": [
      "5 6\n",
      "[[3, 0, 5, 0, 7, 0], [2, 3, 4, 5, 6, 7], [0, 0, 0, 0, 0, 8], [14, 13, 12, 11, 10, 9], [15, 14, 13, 12, 11, 10]]\n"
     ]
    }
   ],
   "source": [
    "print(n,m)\n",
    "print(graph)\n",
    "# ㅣ\n",
    "# ㅡㅡㅡㅡㅡㅡ\n",
    "#             ㅣ\n",
    "#             ㅣ\n",
    "#             ㅣ\n",
    "#             ㅣ"
   ]
  },
  {
   "cell_type": "code",
   "execution_count": null,
   "metadata": {},
   "outputs": [],
   "source": []
  }
 ],
 "metadata": {
  "interpreter": {
   "hash": "04e5506d0a4e9b5ba2132a3aa07250344199659efb36c7056053abdf16c05720"
  },
  "kernelspec": {
   "display_name": "Python 3.8.12 ('base')",
   "language": "python",
   "name": "python3"
  },
  "language_info": {
   "codemirror_mode": {
    "name": "ipython",
    "version": 3
   },
   "file_extension": ".py",
   "mimetype": "text/x-python",
   "name": "python",
   "nbconvert_exporter": "python",
   "pygments_lexer": "ipython3",
   "version": "3.8.12"
  },
  "orig_nbformat": 4
 },
 "nbformat": 4,
 "nbformat_minor": 2
}
