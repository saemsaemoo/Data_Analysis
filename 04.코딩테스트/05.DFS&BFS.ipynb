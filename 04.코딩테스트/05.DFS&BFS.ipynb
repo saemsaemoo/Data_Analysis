{
 "cells": [
  {
   "cell_type": "markdown",
   "metadata": {},
   "source": [
    "## **Chapter 5. DFS / BFS**"
   ]
  },
  {
   "cell_type": "markdown",
   "metadata": {},
   "source": [
    "#### **Q 5-3 재귀함수 예제**"
   ]
  },
  {
   "cell_type": "code",
   "execution_count": 27,
   "metadata": {},
   "outputs": [],
   "source": [
    "# def recursive_function():\n",
    "#     print('재귀함수를 호출...')\n",
    "#     recursive_function()\n",
    "\n",
    "# recursive_function()\n",
    "# 너무 길어서 실행하지 않음"
   ]
  },
  {
   "cell_type": "markdown",
   "metadata": {},
   "source": [
    "#### **Q 5-4 재귀함수 종료 예제**"
   ]
  },
  {
   "cell_type": "code",
   "execution_count": 8,
   "metadata": {},
   "outputs": [
    {
     "name": "stdout",
     "output_type": "stream",
     "text": [
      "1 번째 재귀함수에서 2 번째 재귀함수를 호출...\n",
      "2 번째 재귀함수에서 3 번째 재귀함수를 호출...\n",
      "3 번째 재귀함수에서 4 번째 재귀함수를 호출...\n",
      "4 번째 재귀함수에서 5 번째 재귀함수를 호출...\n",
      "5 번째 재귀함수에서 6 번째 재귀함수를 호출...\n",
      "6 번째 재귀함수에서 7 번째 재귀함수를 호출...\n",
      "7 번째 재귀함수에서 8 번째 재귀함수를 호출...\n",
      "8 번째 재귀함수에서 9 번째 재귀함수를 호출...\n",
      "9 번째 재귀함수에서 10 번째 재귀함수를 호출...\n"
     ]
    }
   ],
   "source": [
    "def recursive_function(i):\n",
    "    # 10번째까지만 출력하고 종료되도록 조건 명시\n",
    "    if i == 10:\n",
    "        return\n",
    "    print(i,'번째 재귀함수에서', i+1, '번째 재귀함수를 호출...')\n",
    "    recursive_function(i+1)\n",
    "    \n",
    "recursive_function(1)"
   ]
  },
  {
   "cell_type": "markdown",
   "metadata": {},
   "source": [
    "#### **Q 5-5 2가지 방식으로 구현한 팩토리얼 예제**"
   ]
  },
  {
   "cell_type": "code",
   "execution_count": 10,
   "metadata": {},
   "outputs": [
    {
     "name": "stdout",
     "output_type": "stream",
     "text": [
      "반복적으로 구현: 120\n",
      "재귀적으로 구현: 120\n"
     ]
    }
   ],
   "source": [
    "# 반복적으로 구현한 n!\n",
    "def factorial_iterative(n):\n",
    "    result = 1\n",
    "    for i in range(1, n+1): # 1~n까지 차례로 곱하기\n",
    "        result *= i\n",
    "    return result\n",
    "\n",
    "# 재귀적으로 구현한 n! (이게 훨씬 간결함)\n",
    "def factorial_recursive(n):\n",
    "    if n <= 1: # n이 1 이하인 경우 1을 반환\n",
    "        return 1\n",
    "    return n*factorial_recursive(n-1)\n",
    "\n",
    "\n",
    "print('반복적으로 구현:', factorial_iterative(5))\n",
    "print('재귀적으로 구현:', factorial_recursive(5))"
   ]
  },
  {
   "cell_type": "markdown",
   "metadata": {},
   "source": [
    "#### **Q 5-6 ~ 5-7 인접행렬과 인접리스트 예제**"
   ]
  },
  {
   "cell_type": "markdown",
   "metadata": {},
   "source": [
    "* 인접행렬의 경우:: 모든 관계를 저장하므로 노드 개수가 많을수록 불필요한 메모리 낭비가 큼\n",
    "* 인접리스트의 경우:: 연결된 정보만 저장하기 때문에 메모리를 효율적으로 사용할 수 있음"
   ]
  },
  {
   "cell_type": "markdown",
   "metadata": {},
   "source": [
    "#### **Q 5-8 DFS 예제**"
   ]
  },
  {
   "cell_type": "code",
   "execution_count": 18,
   "metadata": {},
   "outputs": [
    {
     "name": "stdout",
     "output_type": "stream",
     "text": [
      "1 2 7 6 8 3 4 5 "
     ]
    }
   ],
   "source": [
    "def dfs(graph, v, visited):\n",
    "    # 현재 노드를 방문 처리\n",
    "    visited[v] = True\n",
    "    print(v, end=' ')\n",
    "    # 현재 노드와 연결된 다른 노드를 재귀적으로 방문\n",
    "    for i in graph[v]:\n",
    "        if not visited[i]:\n",
    "            dfs(graph, i, visited)\n",
    "\n",
    "# 각 노드가 연결될 정보를 리스트 자료형으로 표현(2차원 리스트)\n",
    "graph = [\n",
    "    [],\n",
    "    [2, 3, 8],\n",
    "    [1, 7],\n",
    "    [1, 4, 5],\n",
    "    [3, 5],\n",
    "    [3, 4],\n",
    "    [7],\n",
    "    [2, 6, 8],\n",
    "    [1, 7]\n",
    "]\n",
    "\n",
    "# 각 노드가 방문된 정보를 리스트 자료형으로 표현(1차원 리스트)\n",
    "visited = [False] * 9\n",
    "\n",
    "# 정의된 DFS 함수 호출\n",
    "dfs(graph, 1, visited)"
   ]
  },
  {
   "cell_type": "markdown",
   "metadata": {},
   "source": [
    "#### **Q 5-9 BFS 예제**\n",
    "* 보통 DFS 보다는 BFS 구현이 조금 더 빠르게 동작한다."
   ]
  },
  {
   "cell_type": "code",
   "execution_count": 20,
   "metadata": {},
   "outputs": [
    {
     "name": "stdout",
     "output_type": "stream",
     "text": [
      "1 2 3 8 7 4 5 6 "
     ]
    }
   ],
   "source": [
    "from collections import deque\n",
    "\n",
    "# BFS 매서드 정의\n",
    "def bfs(graph, start, visited):\n",
    "    #큐 구현을 위해 deque 라이브러리 사용\n",
    "    queue = deque([start])\n",
    "    #현재 노드를 방문 처리\n",
    "    visited[start] = True\n",
    "    #큐가 빌 때까지 반복\n",
    "    while queue:\n",
    "        #큐에서 하나의 원소를 뽑아 출력\n",
    "        v = queue.popleft()\n",
    "        print(v, end=' ')\n",
    "        #해당 원소와 연결된, 아직 방문하지 않은 원소들을 큐에 삽입\n",
    "        for i in graph[v]:\n",
    "            if not visited[i]:\n",
    "                queue.append(i)\n",
    "                visited[i] = True\n",
    "\n",
    "# 각 노드가 연결된 정보를 리스트 자료형으로 표현(2차원 리스트)\n",
    "graph = [\n",
    "    [],\n",
    "    [2, 3, 8],\n",
    "    [1, 7],\n",
    "    [1, 4, 5],\n",
    "    [3, 5],\n",
    "    [3, 4],\n",
    "    [7],\n",
    "    [2, 6, 8],\n",
    "    [1, 7]\n",
    "]\n",
    "\n",
    "# 각 노드가 방문된 정보를 리스트 자료형으로 표현(1차원 리스트)\n",
    "visited= [False] * 9\n",
    "\n",
    "#정의된 BFS 함수 호출\n",
    "bfs(graph, 1, visited)"
   ]
  },
  {
   "cell_type": "markdown",
   "metadata": {},
   "source": [
    "### **[실전문제] 음료수 얼려 먹기**\n",
    "* N(세로) X M(가로)) 크기의 얼음 틀. 구멍이 뚫린 부분:: 0 칸막이가 존재하는 부분 :: 1\n",
    "    - 입력조건:: 첫번째 줄에 얼음 틀의 세로 길이 N과 가로 길이 M이 주어진다.\n",
    "    - 두번재 줄부터 N+1번째 줄까지 얼음 틀의 형태가 주어진다.\n",
    "    - 출력조건:: 한번에 만들 수 있는 아이스크림의 개수를 출력 !"
   ]
  },
  {
   "cell_type": "markdown",
   "metadata": {},
   "source": [
    "#### DFS로 해결 ... how to?\n",
    "- 특정 지점의 상하좌우를 살펴본 뒤 주변 지점 중에서 값이 0 and 'not yet visited'... then graph[x][y]=1(visited)\n",
    "- 방문한 지점에서 다시 상하좌우를 살펴보면서 방문을 다시 진행하면 연결된 모든 지점 방문 가능 -> 이를 반복 !"
   ]
  },
  {
   "cell_type": "code",
   "execution_count": 24,
   "metadata": {},
   "outputs": [
    {
     "name": "stdout",
     "output_type": "stream",
     "text": [
      "3\n"
     ]
    }
   ],
   "source": [
    "n, m = map(int, input().split())\n",
    "\n",
    "# 2차원 리스트의 맵 정보 입력받기\n",
    "graph=[]\n",
    "for i in range(n):\n",
    "    graph.append(list(map(int, input())))\n",
    "\n",
    "# DFS로 특정한 노드를 방문한 뒤에 연결된 모든 노드들도 방문\n",
    "def dfs(x,y):\n",
    "    # 주어진 범위를 벗어나는 경우에는 바로 종료 !\n",
    "    if x <= -1 or x >= n or y <=-1 or y >= m:\n",
    "        return False\n",
    "    \n",
    "    # 아직 노드를 방문하지 않았다면 (0)\n",
    "    if graph[x][y] == 0:\n",
    "        graph[x][y]=1 # 방문처리\n",
    "        dfs(x-1, y) # 상\n",
    "        dfs(x, y-1) # 좌\n",
    "        dfs(x+1, y) # 하\n",
    "        dfs(x, y+1) # 우\n",
    "        return True\n",
    "    return False\n",
    "\n",
    "# 모든 노드(위치)에 대하여 음료수 채우기\n",
    "result = 0\n",
    "for i in range(n):\n",
    "    for j in range(m):\n",
    "        if dfs(i,j) == True:\n",
    "            result += 1\n",
    "\n",
    "print(result)"
   ]
  },
  {
   "cell_type": "code",
   "execution_count": 26,
   "metadata": {},
   "outputs": [
    {
     "name": "stdout",
     "output_type": "stream",
     "text": [
      "3 3\n",
      "[[1, 1, 1], [1, 1, 1], [1, 1, 1]]\n"
     ]
    }
   ],
   "source": [
    "print(n, m)\n",
    "print(graph) # 001 010 101"
   ]
  },
  {
   "cell_type": "markdown",
   "metadata": {},
   "source": [
    "### **[실전문제] 미로 탈출**\n",
    "* "
   ]
  },
  {
   "cell_type": "code",
   "execution_count": null,
   "metadata": {},
   "outputs": [],
   "source": []
  }
 ],
 "metadata": {
  "interpreter": {
   "hash": "04e5506d0a4e9b5ba2132a3aa07250344199659efb36c7056053abdf16c05720"
  },
  "kernelspec": {
   "display_name": "Python 3.8.12 ('base')",
   "language": "python",
   "name": "python3"
  },
  "language_info": {
   "codemirror_mode": {
    "name": "ipython",
    "version": 3
   },
   "file_extension": ".py",
   "mimetype": "text/x-python",
   "name": "python",
   "nbconvert_exporter": "python",
   "pygments_lexer": "ipython3",
   "version": "3.8.12"
  },
  "orig_nbformat": 4
 },
 "nbformat": 4,
 "nbformat_minor": 2
}
