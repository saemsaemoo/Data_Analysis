{
 "cells": [
  {
   "cell_type": "markdown",
   "metadata": {},
   "source": [
    "## **Chapter 4. 구현**"
   ]
  },
  {
   "cell_type": "markdown",
   "metadata": {},
   "source": [
    "### **예제 4-1) 상하좌우**"
   ]
  },
  {
   "cell_type": "code",
   "execution_count": 14,
   "metadata": {},
   "outputs": [
    {
     "name": "stdout",
     "output_type": "stream",
     "text": [
      "2 5\n"
     ]
    }
   ],
   "source": [
    "n = int(input()) # 공간의 크기 :: 책대로 5*5\n",
    "x, y = 1, 1 # 출발 지점 (1,1)\n",
    "plans=input().split() # LLLRUD 이런 조합\n",
    "\n",
    "# L,R,U,D의 이동방향 :: L의 경우 (0,-1)\n",
    "dx = [0, 0, -1, 1]\n",
    "dy = [-1, 1, 0, 0]\n",
    "move_types=['L','R','U','D']\n",
    "\n",
    "# 이동계획 확인\n",
    "for plan in plans:\n",
    "    # 이동 후 좌표\n",
    "    for i in range(len(move_types)):\n",
    "        if plan == move_types[i]: \n",
    "            nx = x + dx[i]\n",
    "            ny = y + dy[i]\n",
    "    # 해당 코드 의미: if move_types[1]이면 'R'인데, 그럼 dx = 0, dy = 1 만큼 이동한다.\n",
    "    # 공간 벗어나면 무시\n",
    "    if nx < 1 or ny < 1 or nx > n or ny > n :\n",
    "        continue\n",
    "    # 이동 수행\n",
    "    x, y = nx, ny\n",
    "\n",
    "print(x,y)"
   ]
  },
  {
   "cell_type": "code",
   "execution_count": 15,
   "metadata": {},
   "outputs": [
    {
     "name": "stdout",
     "output_type": "stream",
     "text": [
      "R\n",
      "4\n",
      "['R', 'R', 'R', 'R', 'R', 'R', 'U', 'D']\n",
      "5\n",
      "2\n"
     ]
    }
   ],
   "source": [
    "print(move_types[1])\n",
    "print(len(move_types))\n",
    "print(plans)\n",
    "print(n)\n",
    "print(nx)"
   ]
  },
  {
   "cell_type": "markdown",
   "metadata": {},
   "source": [
    "### **예제 4-2) 시각(완전탐색)**\n",
    "* 3이 하나라도 포함되는 모든 경우의 수를 구하는 프로그램 (ex. 00시00분03초..)"
   ]
  },
  {
   "cell_type": "code",
   "execution_count": 16,
   "metadata": {},
   "outputs": [
    {
     "name": "stdout",
     "output_type": "stream",
     "text": [
      "11475\n"
     ]
    }
   ],
   "source": [
    "h = int(input())\n",
    "\n",
    "count = 0\n",
    "for i in range(h+1):\n",
    "    for j in range(60):\n",
    "        for k in range(60):\n",
    "            # 3이 하나라도 포함되어 있으면 카운트 증가\n",
    "            if '3' in str(i) + str(j) + str(k):\n",
    "                # 만약 04시 30분 27초라면 이를 043027로 만듦.\n",
    "                count += 1\n",
    "\n",
    "print(count)"
   ]
  },
  {
   "cell_type": "code",
   "execution_count": 19,
   "metadata": {},
   "outputs": [
    {
     "name": "stdout",
     "output_type": "stream",
     "text": [
      "55959\n"
     ]
    }
   ],
   "source": [
    "print(str(i) + str(j) + str(k))\n",
    "# 내가 5 입력했으니까 5시 59분 59초까지에서 3이 포함되는 경우의 수를 도출함"
   ]
  },
  {
   "cell_type": "markdown",
   "metadata": {},
   "source": [
    "### **[실전문제] 왕실의 나이트**\n",
    "* 8 x 8 평면/ 수평으로 두 칸 이동 후 수직으로 한칸 이동 or 수직으로 두 칸 이동 후 수평으로 한 칸 이동\n",
    "* 행을 나타낼 때는 1 ~ 8로 표현/ 열을 나타낼 때는 a ~ h로 표현\n",
    "* 입력한 셀에서 나이트가 이동할 수 있는 경우의 수를 출력 !"
   ]
  },
  {
   "cell_type": "code",
   "execution_count": 27,
   "metadata": {},
   "outputs": [
    {
     "name": "stdout",
     "output_type": "stream",
     "text": [
      "6\n"
     ]
    }
   ],
   "source": [
    "input_data = input() # 내가 b4를 입력하면\n",
    "row = int(input_data[1]) # b4의 4가 행이니까 row :: 4\n",
    "column = int(ord(input_data[0])) - int(ord('a')) + 1 # b4의 b가 열이니까 column:: 2\n",
    "\n",
    "# 나이트가 이동할 수 있는 방향\n",
    "steps = [(-2,1), (-2,-1), (2,1), (2,-1), (1,2), (1,-2), (-1,2), (-1,-2)]\n",
    "\n",
    "# 각 위치로 이동 가능한지 확인\n",
    "result = 0\n",
    "for step in steps:\n",
    "    next_row = row + step[0]\n",
    "    next_column = column + step[1]\n",
    "    # 이동이 가능하다면 카운트 증가\n",
    "    if next_row >= 1 and next_row <= 8 and next_column >=1 and next_column <=8:\n",
    "        result += 1\n",
    "print(result)\n"
   ]
  },
  {
   "cell_type": "code",
   "execution_count": 33,
   "metadata": {},
   "outputs": [
    {
     "name": "stdout",
     "output_type": "stream",
     "text": [
      "b4\n",
      "4\n",
      "2\n",
      "0\n",
      "98\n",
      "97\n"
     ]
    }
   ],
   "source": [
    "print(input_data)\n",
    "print(row)\n",
    "print(column)\n",
    "print(next_column)\n",
    "print(int(ord(input_data[0]))) # ord:: 단일 문자를 아스키 코드로 변경해주는 함수\n",
    "# 소문자는 97부터 시작하니까 b는 98 - 97 + 1 하면 내가 도출해야 하는 열인 2가 나옴!\n",
    "print(int(ord('a')))"
   ]
  },
  {
   "cell_type": "markdown",
   "metadata": {},
   "source": [
    "### **[실전문제] 게임 개발/ 😰 다시 풀어보기**\n",
    "* 맵의 각 칸은 (A,B)로 나타낼 수 있고, A는 북쪽으로부터 떨어진 칸의 개수, B는 서쪽으로부터 떨어진 칸의 개수\n",
    "* 방향:: 0-북쪽, 1-동쪽, 2-남쪽, 3-서쪽\n",
    "* N개의 줄에 맵의 상태가 북쪽부터 남쪽 순서대로, 각 줄의 데이터는 서쪽부터 동쪽 순서대로 주어짐\n",
    "* 맵 상태:: 0- 육지, 1-바다\n",
    "* 첫째 줄에 이동을 마친 후 캐릭터가 방문한 칸의 수를 출력 !\n",
    "* 입력 데이터:\n",
    "    - 4 4 (4*4 맵)\n",
    "    - 1 1 0 (1,1)에 북쪽(0)을 바라보는 캐릭터\n",
    "    - 1 1 1 1 바바바바\n",
    "    - 1 0 0 1 바육육바 \n",
    "    - 1 1 0 1 바바육바\n",
    "    - 1 1 1 1 바바바바"
   ]
  },
  {
   "cell_type": "code",
   "execution_count": 43,
   "metadata": {},
   "outputs": [
    {
     "name": "stdout",
     "output_type": "stream",
     "text": [
      "3\n"
     ]
    }
   ],
   "source": [
    "# N, M을 공백으로 구분하여 입력받기\n",
    "n,m = map(int,input().split()) # 맵의 크기\n",
    "# 방문한 위치를 저장하기 위한 맵을 생성하여 0으로 초기화\n",
    "d = [[0] * m for _ in range(n)] # 캐릭터를 저장한 맵 선언\n",
    "x, y, direction = map(int,input().split()) # 캐릭터의 위치와 방향\n",
    "d[x][y] = 1 # 캐릭터가 처음 위치한곳을 1로 초기화 (현재 좌표 방문 처리)\n",
    "array = [] # 입력받을 맵의 데이터\n",
    "count = 1  # 육지를 방문한 칸의 갯수\n",
    "trun_time = 0 # 캐릭터가 회전한 횟수\n",
    "\n",
    "for i in range(n):  # 맵의 크기만큼 반복하여 array에 초기화\n",
    "    array.append(list(map(int,input().split())))\n",
    "# 북, 동, 남, 서 방향 정의\n",
    "dx = [-1, 0, 1, 0]\n",
    "dy = [0, 1, 0, -1]\n",
    "\n",
    "def trun_left(): #캐릭터가 왼쪽으로 도는 함수\n",
    "    global direction #전역변수로 선언\n",
    "    direction -= 1 # -1 로 초기화\n",
    "    if direction == -1: #만약 다 돌게 되었다면 다시 서쪽을 보게함\n",
    "        direction = 3\n",
    "\n",
    "while True: # 시뮬레이션 시작\n",
    "    trun_left() # 왼쪽으로 회전\n",
    "    nx = x + dx[direction] # nx에 x 이동좌표 저장\n",
    "    ny = y + dy[direction] # ny에 y 이동좌표 저장\n",
    "\n",
    "    if d[nx][ny] == 0 and array[nx][ny] == 0: # 캐릭터의 맵과 입력받은 데이터의 맵이 모두 0인경우\n",
    "        d[nx][ny] = 1 # 방문했다고 표시\n",
    "        x = nx \n",
    "        y = ny\n",
    "        count += 1 # 방문했으니 1증가\n",
    "        trun_time = 0 # 회전값 초기화\n",
    "        continue \n",
    "    else: \n",
    "        trun_time += 1 # 회전값 1증가\n",
    "\n",
    "        if trun_time == 4: # 만약 회전값이 4라면 뒤로 돌아감\n",
    "            nx = x - dx[direction] # 이전 x좌표 가져오기\n",
    "            ny = y - dy[direction] # 이전 y좌표 가져오기\n",
    "            if array[nx][ny] == 0: # 만약 바다가 아니라면 좌표 저장\n",
    "                x = nx\n",
    "                y = ny\n",
    "            else: #갈곳이 없으므로 종료\n",
    "                break\n",
    "            trun_time = 0 #회전값 초기화\n",
    "print(count) #횟수 출력"
   ]
  },
  {
   "cell_type": "code",
   "execution_count": 45,
   "metadata": {},
   "outputs": [
    {
     "name": "stdout",
     "output_type": "stream",
     "text": [
      "4 4\n",
      "0\n",
      "0\n",
      "1\n"
     ]
    }
   ],
   "source": [
    "print(n,m)\n",
    "print(nx)\n",
    "print(d[nx][ny])\n",
    "print(array[nx][ny])"
   ]
  },
  {
   "cell_type": "code",
   "execution_count": null,
   "metadata": {},
   "outputs": [],
   "source": []
  }
 ],
 "metadata": {
  "interpreter": {
   "hash": "04e5506d0a4e9b5ba2132a3aa07250344199659efb36c7056053abdf16c05720"
  },
  "kernelspec": {
   "display_name": "Python 3.8.12 ('base')",
   "language": "python",
   "name": "python3"
  },
  "language_info": {
   "codemirror_mode": {
    "name": "ipython",
    "version": 3
   },
   "file_extension": ".py",
   "mimetype": "text/x-python",
   "name": "python",
   "nbconvert_exporter": "python",
   "pygments_lexer": "ipython3",
   "version": "3.8.12"
  },
  "orig_nbformat": 4
 },
 "nbformat": 4,
 "nbformat_minor": 2
}
