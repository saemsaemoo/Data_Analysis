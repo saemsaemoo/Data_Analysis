{
 "cells": [
  {
   "cell_type": "markdown",
   "metadata": {},
   "source": [
    "#### **백준 구현 연습문제**\n",
    "- https://www.acmicpc.net/problemset?sort=ac_desc&algo=102"
   ]
  },
  {
   "cell_type": "code",
   "execution_count": 6,
   "metadata": {},
   "outputs": [
    {
     "name": "stdout",
     "output_type": "stream",
     "text": [
      "1\n"
     ]
    }
   ],
   "source": [
    "A,B = map(int, input().split())\n",
    "print(A%B)"
   ]
  },
  {
   "cell_type": "markdown",
   "metadata": {},
   "source": [
    "#### **Q1 X보다 작은수**"
   ]
  },
  {
   "cell_type": "code",
   "execution_count": 20,
   "metadata": {},
   "outputs": [
    {
     "name": "stdout",
     "output_type": "stream",
     "text": [
      "1 2 3 4 4 "
     ]
    }
   ],
   "source": [
    "N,X = map(int, input().split())\n",
    "A = list(map(int, input().split()))\n",
    "for i in range(N):\n",
    "    if A[i] < X:\n",
    "        print(A[i], end=\" \")"
   ]
  },
  {
   "cell_type": "markdown",
   "metadata": {},
   "source": [
    "#### **Q2 아스키코드**"
   ]
  },
  {
   "cell_type": "code",
   "execution_count": 21,
   "metadata": {},
   "outputs": [
    {
     "name": "stdout",
     "output_type": "stream",
     "text": [
      "65\n"
     ]
    }
   ],
   "source": [
    "n = input()\n",
    "print(ord(n))"
   ]
  },
  {
   "cell_type": "markdown",
   "metadata": {},
   "source": [
    "#### **Q3 셀프 넘버**"
   ]
  },
  {
   "cell_type": "code",
   "execution_count": 24,
   "metadata": {},
   "outputs": [
    {
     "name": "stdout",
     "output_type": "stream",
     "text": [
      "250\n",
      "250\n"
     ]
    }
   ],
   "source": [
    "print(str(250))\n",
    "print(int(str(250)))"
   ]
  },
  {
   "cell_type": "code",
   "execution_count": 40,
   "metadata": {},
   "outputs": [
    {
     "name": "stdout",
     "output_type": "stream",
     "text": [
      "{1, 2, 3, 4, 5, 6, 7, 8, 9, 10}\n",
      "123\n",
      "123\n",
      "123\n"
     ]
    }
   ],
   "source": [
    "print(set(range(1,11)))\n",
    "i = '123'\n",
    "j = str(i)\n",
    "k = int(j)\n",
    "print(i)\n",
    "print(j)\n",
    "print(k)"
   ]
  },
  {
   "cell_type": "code",
   "execution_count": null,
   "metadata": {},
   "outputs": [],
   "source": [
    "# 앞 숫자가 뒷 숫자에 영향을 주지.\n",
    "# 앞 숫자 a,b = map(int, input.split())\n",
    "# 다음 숫자 c = int(a)+int(b) + a + b\n",
    "\n",
    "natural_num = set(range(1,10001)) # 1~10000까지 만들고\n",
    "generated_num = set() # 생성될 숫자 변수 지정\n",
    "\n",
    "# 10000까지의 숫자를 반복문으로 돌리는데\n",
    "for i in range(1,10001): # i = 123이 입력되면\n",
    "    for j in str(i): # j = 1,2,3이고\n",
    "        i += int(j) # 123 + 1 + 2 + 3이 되고\n",
    "    generated_num.add(i) # generated에 add된다.\n",
    "\n",
    "self_num = sorted(natural_num - generated_num)\n",
    "for i in self_num:\n",
    "    print(i)"
   ]
  },
  {
   "cell_type": "markdown",
   "metadata": {},
   "source": [
    "#### **Q4 정수 N개의 합**"
   ]
  },
  {
   "cell_type": "code",
   "execution_count": 45,
   "metadata": {},
   "outputs": [],
   "source": [
    "def solve(a):\n",
    "    return sum(a)"
   ]
  },
  {
   "cell_type": "code",
   "execution_count": 46,
   "metadata": {},
   "outputs": [],
   "source": [
    "def solve(a):\n",
    "    answer = 0\n",
    "    for i in a:\n",
    "        answer += i\n",
    "    return answer"
   ]
  },
  {
   "cell_type": "markdown",
   "metadata": {},
   "source": [
    "#### **Q 프로그래머스 테스트 문제**"
   ]
  },
  {
   "cell_type": "markdown",
   "metadata": {},
   "source": [
    "직사각형을 만드는 데 필요한 4개의 점 중 3개의 좌표가 주어질 때, 나머지 한 점의 좌표를 구하려고 합니다. 점 3개의 좌표가 들어있는 배열 v가 매개변수로 주어질 때, 직사각형을 만드는 데 필요한 나머지 한 점의 좌표를 return 하도록 solution 함수를 완성해주세요. 단, 직사각형의 각 변은 x축, y축에 평행하며, 반드시 직사각형을 만들 수 있는 경우만 입력으로 주어집니다."
   ]
  },
  {
   "cell_type": "markdown",
   "metadata": {},
   "source": [
    "v는 세 점의 좌표가 들어있는 2차원 배열입니다.\n",
    "v의 각 원소는 점의 좌표를 나타내며, 좌표는 [x축 좌표, y축 좌표] 순으로 주어집니다.\n",
    "좌표값은 1 이상 10억 이하의 자연수입니다.\n",
    "직사각형을 만드는 데 필요한 나머지 한 점의 좌표를 [x축 좌표, y축 좌표] 순으로 담아 return 해주세요."
   ]
  },
  {
   "cell_type": "code",
   "execution_count": 52,
   "metadata": {},
   "outputs": [],
   "source": [
    "def solution(v):\n",
    "    x = []\n",
    "    y = []\n",
    "    answer = []\n",
    "    for i in v:\n",
    "        if i[0] not in x:\n",
    "            x.append(i[0])\n",
    "        else:\n",
    "            x.remove(i[0])\n",
    "        if i[1] not in y:\n",
    "            y.appen(i[1])\n",
    "        else:\n",
    "            y.remove(i[1])\n",
    "    answer = x + y\n",
    "    return answer"
   ]
  },
  {
   "cell_type": "markdown",
   "metadata": {},
   "source": [
    "#### **Q8 이전순열**"
   ]
  },
  {
   "cell_type": "code",
   "execution_count": 50,
   "metadata": {},
   "outputs": [
    {
     "name": "stdout",
     "output_type": "stream",
     "text": [
      "range(0, 2)\n"
     ]
    }
   ],
   "source": [
    "n = int(input())\n",
    "x = list(map(int, input.split()))\n",
    "\n",
    "# n이 1이거나 리스트가 오름차순 정렬되어있으면 -1을 출력해야 한다\n",
    "if n ==1 or x == list(range(1, n+1)):\n",
    "    print(-1)\n",
    "else:\n",
    "    if x[-1]>1:\n",
    "        for index in range(n-1,0,-1):\n",
    "            if x[index-1] < x[index]:\n",
    "                x.pop()\n",
    "            else:\n",
    "                break\n",
    "        x.pop()\n",
    "\n",
    "        next_num = \n"
   ]
  },
  {
   "cell_type": "markdown",
   "metadata": {},
   "source": [
    "#### **Q9 한 줄로 서기**\n",
    "- https://www.acmicpc.net/problem/1138"
   ]
  },
  {
   "cell_type": "code",
   "execution_count": null,
   "metadata": {},
   "outputs": [],
   "source": []
  }
 ],
 "metadata": {
  "interpreter": {
   "hash": "04e5506d0a4e9b5ba2132a3aa07250344199659efb36c7056053abdf16c05720"
  },
  "kernelspec": {
   "display_name": "Python 3.8.12 ('base')",
   "language": "python",
   "name": "python3"
  },
  "language_info": {
   "codemirror_mode": {
    "name": "ipython",
    "version": 3
   },
   "file_extension": ".py",
   "mimetype": "text/x-python",
   "name": "python",
   "nbconvert_exporter": "python",
   "pygments_lexer": "ipython3",
   "version": "3.8.12"
  },
  "orig_nbformat": 4
 },
 "nbformat": 4,
 "nbformat_minor": 2
}
