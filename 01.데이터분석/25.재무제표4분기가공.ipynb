{
 "cells": [
  {
   "cell_type": "code",
   "execution_count": null,
   "metadata": {},
   "outputs": [],
   "source": []
  },
  {
   "cell_type": "code",
   "execution_count": null,
   "metadata": {},
   "outputs": [],
   "source": [
    "import numpy as np\n",
    "import pandas as pd\n",
    "import matplotlib.pyplot as plt\n",
    "import seaborn as sns\n",
    "import warnings\n",
    "warnings.filterwarnings('ignore')"
   ]
  },
  {
   "cell_type": "code",
   "execution_count": null,
   "metadata": {},
   "outputs": [],
   "source": [
    "df2017_2 = pd.read_excel('/Users/kimhansaem/workspace/11.DataAnalysis/01.데이터분석/재무제표파일/2017_1분기.xlsx')\n",
    "df2017_1.head(3)"
   ]
  },
  {
   "cell_type": "code",
   "execution_count": null,
   "metadata": {},
   "outputs": [],
   "source": [
    "df2017_1 = pd.read_excel('/Users/kimhansaem/workspace/11.DataAnalysis/01.데이터분석/재무제표파일/2017_1분기.xlsx')\n",
    "df2017_1.head(3)"
   ]
  },
  {
   "cell_type": "code",
   "execution_count": null,
   "metadata": {},
   "outputs": [],
   "source": [
    "df2017_1 = pd.read_excel('/Users/kimhansaem/workspace/11.DataAnalysis/01.데이터분석/재무제표파일/2017_1분기.xlsx')\n",
    "df2017_1.head(3)"
   ]
  }
 ],
 "metadata": {
  "language_info": {
   "name": "python"
  },
  "orig_nbformat": 4
 },
 "nbformat": 4,
 "nbformat_minor": 2
}
