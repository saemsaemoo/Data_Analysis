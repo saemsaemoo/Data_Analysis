{
 "cells": [
  {
   "cell_type": "code",
   "execution_count": 1,
   "metadata": {},
   "outputs": [],
   "source": [
    "import requests\n",
    "import pandas as pd"
   ]
  },
  {
   "cell_type": "code",
   "execution_count": 2,
   "metadata": {},
   "outputs": [],
   "source": [
    "from bs4 import BeautifulSoup"
   ]
  },
  {
   "cell_type": "code",
   "execution_count": 3,
   "metadata": {},
   "outputs": [
    {
     "data": {
      "text/plain": [
       "<Response [200]>"
      ]
     },
     "execution_count": 3,
     "metadata": {},
     "output_type": "execute_result"
    }
   ],
   "source": [
    "URL = \"https://opendart.fss.or.kr/api/fnlttMultiAcnt.xml?crtfc_key=569e4ca329b73228c7d8aa872f8c629ad7157120&corp_code=00356370,00126380&bsns_year=2018&reprt_code=11011\"\n",
    "response = requests.get(URL)\n",
    "response\n",
    "\n",
    "# 이 url주소에서 report code랑 등등을 for문 돌려서 계속 반환하게끔 가능?"
   ]
  },
  {
   "cell_type": "code",
   "execution_count": 4,
   "metadata": {},
   "outputs": [],
   "source": [
    "result=BeautifulSoup(response.text,'lxml')"
   ]
  },
  {
   "cell_type": "code",
   "execution_count": 5,
   "metadata": {},
   "outputs": [
    {
     "name": "stdout",
     "output_type": "stream",
     "text": [
      "00126380 재무상태표 146982464000000 174697424000000\n"
     ]
    }
   ],
   "source": [
    "# for문 사용해서 company code랑 등등 뽑아내기\n",
    "Company_code = result.find('corp_code').get_text()\n",
    "sj_nm = result.find('sj_nm').get_text() # 재무상태표\n",
    "frmtrm_amount= result.find('frmtrm_amount').get_text().replace(\",\",\"\")\n",
    "thstrm_amount = result.find('thstrm_amount').get_text().replace(\",\",\"\")\n",
    "print(Company_code, sj_nm, frmtrm_amount, thstrm_amount)"
   ]
  },
  {
   "cell_type": "code",
   "execution_count": 20,
   "metadata": {},
   "outputs": [
    {
     "data": {
      "text/plain": [
       "<Response [200]>"
      ]
     },
     "execution_count": 20,
     "metadata": {},
     "output_type": "execute_result"
    }
   ],
   "source": [
    "URL = \"https://opendart.fss.or.kr/api/fnlttMultiAcnt.json?crtfc_key=569e4ca329b73228c7d8aa872f8c629ad7157120&corp_code=00356370,00126380&bsns_year=2018&reprt_code=11011\"\n",
    "response = requests.get(URL)\n",
    "response"
   ]
  },
  {
   "cell_type": "code",
   "execution_count": null,
   "metadata": {},
   "outputs": [],
   "source": [
    "datas = response.json()['datas']\n",
    "\n",
    "data_list = []\n",
    "\n",
    "for data in datas:\n",
    "    sj_nm = data['sj_nm'] # 재무상태표\n",
    "    frmtrm_amount=float(data['frmtrm_amount'].replace(\",\",\"\"))\n",
    "    \n",
    "    fin_data = {\n",
    "        \"재무상태표\" : sj_nm,\n",
    "        \"자산\" : frmtrm_amount\n",
    "    }\n",
    "    \n",
    "    data_list.append(fin_data)"
   ]
  }
 ],
 "metadata": {
  "interpreter": {
   "hash": "04e5506d0a4e9b5ba2132a3aa07250344199659efb36c7056053abdf16c05720"
  },
  "kernelspec": {
   "display_name": "Python 3.8.11 ('base')",
   "language": "python",
   "name": "python3"
  },
  "language_info": {
   "codemirror_mode": {
    "name": "ipython",
    "version": 3
   },
   "file_extension": ".py",
   "mimetype": "text/x-python",
   "name": "python",
   "nbconvert_exporter": "python",
   "pygments_lexer": "ipython3",
   "version": "3.8.12"
  },
  "orig_nbformat": 4
 },
 "nbformat": 4,
 "nbformat_minor": 2
}
