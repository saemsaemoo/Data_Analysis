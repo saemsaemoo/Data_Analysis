{
 "cells": [
  {
   "cell_type": "code",
   "execution_count": 1,
   "metadata": {},
   "outputs": [],
   "source": [
    "import numpy as np\n",
    "import pandas as pd\n",
    "import matplotlib.pyplot as plt\n",
    "import seaborn as sns\n",
    "import warnings\n",
    "warnings.filterwarnings('ignore')"
   ]
  },
  {
   "cell_type": "code",
   "execution_count": null,
   "metadata": {},
   "outputs": [],
   "source": [
    "import requests, zipfile, io #웹데이터 가져오기\n",
    "from bs4 import BeautifulSoup #데이터 추출하기\n",
    "\n",
    "key = \"569e4ca329b73228c7d8aa872f8c629ad715712\"\n",
    "url = f'http://opendart.fss.or.kr/api/corpCode.xml?crtfc_key={key}'\n",
    "r = requests.get(url)\n",
    "\n",
    "#바이너리 압축파일을 불러온 이후, 압축을 해제한 xml 파일 저장하기\n",
    "z = zipfile.ZipFile(io.BytesIO(r.content))\n",
    "z.extractall('./data')\n",
    "\n",
    "#필요한 정보 추출 & 함수로 만들어서 유용하게 활용하기\n",
    "def get_companynumber(inputcode):\n",
    "    xml = './data/CORPCODE.xml'\n",
    "    read_xml = open(xml, \"r\", encoding='utf-8').read()\n",
    "    soup = BeautifulSoup(read_xml, 'lxml')\n",
    "    \n",
    "    items = soup.find_all('list')\n",
    "    for item in items :\n",
    "        stockcode = item.find('stock_code').text\n",
    "        if stockcode == str(inputcode):\n",
    "            company_name = item.find('corp_name').text\n",
    "            company_number = item.find('corp_code').text\n",
    "            print(f'company number: {company_number} \\ncompany name: {company_name}')\n",
    "    return None"
   ]
  },
  {
   "cell_type": "code",
   "execution_count": 3,
   "metadata": {},
   "outputs": [],
   "source": [
    "import requests \n",
    "import pandas as pd \n",
    "import io \n",
    "import zipfile \n",
    "import xml.etree.ElementTree as et \n",
    "import json"
   ]
  },
  {
   "cell_type": "code",
   "execution_count": 5,
   "metadata": {},
   "outputs": [],
   "source": [
    "def get_corpcode(crtfc_key): \n",
    "    params = {'crtfc_key':crtfc_key} \n",
    "    url = \"https://opendart.fss.or.kr/api/corpCode.xml\" \n",
    "    items_en = [\"corp_code\", \"corp_name\", \"stock_code\", \"modify_date\"] \n",
    "    \n",
    "    ## Column명을 한글로 하려면 아래부분 쌍따옴표안을 수정하면 됨 \n",
    "    items_kr = [\"corp_code\", \"corp_name\", \"stock_code\", \"modify_date\"] \n",
    "    results = requests.get(url,params=params) \n",
    "    uzfile = zipfile.ZipFile(io.BytesIO(results.content)) \n",
    "    final = uzfile.open(uzfile.namelist()[0]) \n",
    "    root = et.fromstring(final.read().decode('utf-8')) \n",
    "    data = [] \n",
    "    for child in root: \n",
    "        if len(child.find('stock_code').text.strip()) > 1: \n",
    "            data.append([]) \n",
    "            for item in items_en: \n",
    "                data[-1].append(child.find(item).text) \n",
    "    df = pd.DataFrame(data, columns = items_kr) \n",
    "    ##print(df) \n",
    "    return df"
   ]
  },
  {
   "cell_type": "code",
   "execution_count": 12,
   "metadata": {},
   "outputs": [
    {
     "data": {
      "text/html": [
       "<div>\n",
       "<style scoped>\n",
       "    .dataframe tbody tr th:only-of-type {\n",
       "        vertical-align: middle;\n",
       "    }\n",
       "\n",
       "    .dataframe tbody tr th {\n",
       "        vertical-align: top;\n",
       "    }\n",
       "\n",
       "    .dataframe thead th {\n",
       "        text-align: right;\n",
       "    }\n",
       "</style>\n",
       "<table border=\"1\" class=\"dataframe\">\n",
       "  <thead>\n",
       "    <tr style=\"text-align: right;\">\n",
       "      <th></th>\n",
       "      <th>corp_code</th>\n",
       "      <th>corp_name</th>\n",
       "      <th>stock_code</th>\n",
       "      <th>modify_date</th>\n",
       "    </tr>\n",
       "  </thead>\n",
       "  <tbody>\n",
       "    <tr>\n",
       "      <th>0</th>\n",
       "      <td>00260985</td>\n",
       "      <td>한빛네트</td>\n",
       "      <td>036720</td>\n",
       "      <td>20170630</td>\n",
       "    </tr>\n",
       "    <tr>\n",
       "      <th>1</th>\n",
       "      <td>00264529</td>\n",
       "      <td>엔플렉스</td>\n",
       "      <td>040130</td>\n",
       "      <td>20170630</td>\n",
       "    </tr>\n",
       "    <tr>\n",
       "      <th>2</th>\n",
       "      <td>00358545</td>\n",
       "      <td>동서정보기술</td>\n",
       "      <td>055000</td>\n",
       "      <td>20170630</td>\n",
       "    </tr>\n",
       "    <tr>\n",
       "      <th>3</th>\n",
       "      <td>00231567</td>\n",
       "      <td>애드모바일</td>\n",
       "      <td>032600</td>\n",
       "      <td>20170630</td>\n",
       "    </tr>\n",
       "    <tr>\n",
       "      <th>4</th>\n",
       "      <td>00247939</td>\n",
       "      <td>씨모스</td>\n",
       "      <td>037600</td>\n",
       "      <td>20170630</td>\n",
       "    </tr>\n",
       "  </tbody>\n",
       "</table>\n",
       "</div>"
      ],
      "text/plain": [
       "  corp_code corp_name stock_code modify_date\n",
       "0  00260985      한빛네트     036720    20170630\n",
       "1  00264529      엔플렉스     040130    20170630\n",
       "2  00358545    동서정보기술     055000    20170630\n",
       "3  00231567     애드모바일     032600    20170630\n",
       "4  00247939       씨모스     037600    20170630"
      ]
     },
     "execution_count": 12,
     "metadata": {},
     "output_type": "execute_result"
    }
   ],
   "source": [
    "crtfc_key = \"-\" \n",
    "code_df = get_corpcode(crtfc_key)\n",
    "code_df.head()"
   ]
  },
  {
   "cell_type": "code",
   "execution_count": 20,
   "metadata": {},
   "outputs": [],
   "source": [
    "company_name_df = pd.read_csv('/Users/kimhansaem/workspace/11.DataAnalysis/01.데이터분석/data/반도체 기업 목록.txt', sep='\\s+', header=None,\n",
    "                                names=['column_index', 'column_name'])"
   ]
  },
  {
   "cell_type": "code",
   "execution_count": 21,
   "metadata": {},
   "outputs": [
    {
     "name": "stdout",
     "output_type": "stream",
     "text": [
      "['큐에스아이', '예스티', '미코', '신성이엔지', '코세스', '디엔에프', '로체시스템즈', '휘닉스소재', '주성엔지니어링', '라온테크', '알에프세미', '지오엘리먼트', '넥스틴', '타이거일렉', '나인테크', '뉴파워프라즈마', '젬백스', '다믈멀티미디어', '메카로', '램테크놀러지']\n"
     ]
    }
   ],
   "source": [
    "company_names = company_name_df['column_index'].values.tolist()\n",
    "print(company_names[:20])"
   ]
  },
  {
   "cell_type": "code",
   "execution_count": 22,
   "metadata": {},
   "outputs": [
    {
     "data": {
      "text/html": [
       "<div>\n",
       "<style scoped>\n",
       "    .dataframe tbody tr th:only-of-type {\n",
       "        vertical-align: middle;\n",
       "    }\n",
       "\n",
       "    .dataframe tbody tr th {\n",
       "        vertical-align: top;\n",
       "    }\n",
       "\n",
       "    .dataframe thead th {\n",
       "        text-align: right;\n",
       "    }\n",
       "</style>\n",
       "<table border=\"1\" class=\"dataframe\">\n",
       "  <thead>\n",
       "    <tr style=\"text-align: right;\">\n",
       "      <th></th>\n",
       "      <th>corp_code</th>\n",
       "      <th>corp_name</th>\n",
       "      <th>stock_code</th>\n",
       "      <th>modify_date</th>\n",
       "    </tr>\n",
       "  </thead>\n",
       "  <tbody>\n",
       "    <tr>\n",
       "      <th>611</th>\n",
       "      <td>00686068</td>\n",
       "      <td>신성이엔지</td>\n",
       "      <td>104110</td>\n",
       "      <td>20171208</td>\n",
       "    </tr>\n",
       "    <tr>\n",
       "      <th>784</th>\n",
       "      <td>00411905</td>\n",
       "      <td>테라셈</td>\n",
       "      <td>182690</td>\n",
       "      <td>20220114</td>\n",
       "    </tr>\n",
       "    <tr>\n",
       "      <th>787</th>\n",
       "      <td>00625942</td>\n",
       "      <td>아이원스</td>\n",
       "      <td>114810</td>\n",
       "      <td>20220117</td>\n",
       "    </tr>\n",
       "  </tbody>\n",
       "</table>\n",
       "</div>"
      ],
      "text/plain": [
       "    corp_code corp_name stock_code modify_date\n",
       "611  00686068     신성이엔지     104110    20171208\n",
       "784  00411905       테라셈     182690    20220114\n",
       "787  00625942      아이원스     114810    20220117"
      ]
     },
     "execution_count": 22,
     "metadata": {},
     "output_type": "execute_result"
    }
   ],
   "source": [
    "df_sample = code_df[code_df['corp_name'].isin(company_names)]\n",
    "df_sample.head(3)"
   ]
  },
  {
   "cell_type": "code",
   "execution_count": 23,
   "metadata": {},
   "outputs": [
    {
     "data": {
      "text/plain": [
       "corp_code      127\n",
       "corp_name      126\n",
       "stock_code     127\n",
       "modify_date     44\n",
       "dtype: int64"
      ]
     },
     "execution_count": 23,
     "metadata": {},
     "output_type": "execute_result"
    }
   ],
   "source": [
    "df_sample.nunique()"
   ]
  },
  {
   "cell_type": "code",
   "execution_count": 19,
   "metadata": {},
   "outputs": [],
   "source": [
    "df_sample.to_excel('고유번호.xlsx')"
   ]
  },
  {
   "cell_type": "code",
   "execution_count": null,
   "metadata": {},
   "outputs": [],
   "source": []
  },
  {
   "cell_type": "code",
   "execution_count": null,
   "metadata": {},
   "outputs": [],
   "source": []
  },
  {
   "cell_type": "code",
   "execution_count": null,
   "metadata": {},
   "outputs": [],
   "source": []
  },
  {
   "cell_type": "code",
   "execution_count": 14,
   "metadata": {},
   "outputs": [
    {
     "data": {
      "text/html": [
       "<div>\n",
       "<style scoped>\n",
       "    .dataframe tbody tr th:only-of-type {\n",
       "        vertical-align: middle;\n",
       "    }\n",
       "\n",
       "    .dataframe tbody tr th {\n",
       "        vertical-align: top;\n",
       "    }\n",
       "\n",
       "    .dataframe thead th {\n",
       "        text-align: right;\n",
       "    }\n",
       "</style>\n",
       "<table border=\"1\" class=\"dataframe\">\n",
       "  <thead>\n",
       "    <tr style=\"text-align: right;\">\n",
       "      <th></th>\n",
       "      <th>종목코드</th>\n",
       "      <th>회사명</th>\n",
       "      <th>업종</th>\n",
       "      <th>업종명</th>\n",
       "      <th>항목명</th>\n",
       "      <th>당기 반기말</th>\n",
       "    </tr>\n",
       "  </thead>\n",
       "  <tbody>\n",
       "    <tr>\n",
       "      <th>0</th>\n",
       "      <td>[060310]</td>\n",
       "      <td>3S</td>\n",
       "      <td>292</td>\n",
       "      <td>특수 목적용 기계 제조업</td>\n",
       "      <td>자산 [abstract]</td>\n",
       "      <td>NaN</td>\n",
       "    </tr>\n",
       "    <tr>\n",
       "      <th>1</th>\n",
       "      <td>[060310]</td>\n",
       "      <td>3S</td>\n",
       "      <td>292</td>\n",
       "      <td>특수 목적용 기계 제조업</td>\n",
       "      <td>유동자산</td>\n",
       "      <td>12,963,850,356</td>\n",
       "    </tr>\n",
       "    <tr>\n",
       "      <th>2</th>\n",
       "      <td>[060310]</td>\n",
       "      <td>3S</td>\n",
       "      <td>292</td>\n",
       "      <td>특수 목적용 기계 제조업</td>\n",
       "      <td>현금및현금성자산</td>\n",
       "      <td>2,686,944,114</td>\n",
       "    </tr>\n",
       "    <tr>\n",
       "      <th>3</th>\n",
       "      <td>[060310]</td>\n",
       "      <td>3S</td>\n",
       "      <td>292</td>\n",
       "      <td>특수 목적용 기계 제조업</td>\n",
       "      <td>단기금융상품</td>\n",
       "      <td>984,355,188</td>\n",
       "    </tr>\n",
       "    <tr>\n",
       "      <th>4</th>\n",
       "      <td>[060310]</td>\n",
       "      <td>3S</td>\n",
       "      <td>292</td>\n",
       "      <td>특수 목적용 기계 제조업</td>\n",
       "      <td>매출채권및기타채권</td>\n",
       "      <td>5,908,239,202</td>\n",
       "    </tr>\n",
       "  </tbody>\n",
       "</table>\n",
       "</div>"
      ],
      "text/plain": [
       "       종목코드 회사명   업종            업종명              항목명          당기 반기말\n",
       "0  [060310]  3S  292  특수 목적용 기계 제조업    자산 [abstract]             NaN\n",
       "1  [060310]  3S  292  특수 목적용 기계 제조업             유동자산  12,963,850,356\n",
       "2  [060310]  3S  292  특수 목적용 기계 제조업         현금및현금성자산   2,686,944,114\n",
       "3  [060310]  3S  292  특수 목적용 기계 제조업           단기금융상품     984,355,188\n",
       "4  [060310]  3S  292  특수 목적용 기계 제조업        매출채권및기타채권   5,908,239,202"
      ]
     },
     "execution_count": 14,
     "metadata": {},
     "output_type": "execute_result"
    }
   ],
   "source": [
    "df = pd.read_csv('/Users/kimhansaem/workspace/11.DataAnalysis/01.데이터분석/data/2017_반기보고서_01_재무상태표_연결_20220212.txt', sep = '\\t', encoding='euc-kr')\n",
    "column_names = ['종목코드', '회사명', '업종', '업종명', '항목명', '당기 반기말']\n",
    "df = df[column_names]\n",
    "df.head()"
   ]
  },
  {
   "cell_type": "code",
   "execution_count": 15,
   "metadata": {},
   "outputs": [
    {
     "name": "stdout",
     "output_type": "stream",
     "text": [
      "<class 'pandas.core.frame.DataFrame'>\n",
      "RangeIndex: 67338 entries, 0 to 67337\n",
      "Data columns (total 6 columns):\n",
      " #   Column  Non-Null Count  Dtype \n",
      "---  ------  --------------  ----- \n",
      " 0   종목코드    67338 non-null  object\n",
      " 1   회사명     67338 non-null  object\n",
      " 2   업종      67338 non-null  int64 \n",
      " 3   업종명     67338 non-null  object\n",
      " 4   항목명     67338 non-null  object\n",
      " 5   당기 반기말  61818 non-null  object\n",
      "dtypes: int64(1), object(5)\n",
      "memory usage: 3.1+ MB\n"
     ]
    }
   ],
   "source": [
    "df.info()"
   ]
  },
  {
   "cell_type": "code",
   "execution_count": 16,
   "metadata": {},
   "outputs": [
    {
     "name": "stdout",
     "output_type": "stream",
     "text": [
      "<class 'pandas.core.frame.DataFrame'>\n",
      "Int64Index: 61818 entries, 1 to 67337\n",
      "Data columns (total 6 columns):\n",
      " #   Column  Non-Null Count  Dtype \n",
      "---  ------  --------------  ----- \n",
      " 0   종목코드    61818 non-null  object\n",
      " 1   회사명     61818 non-null  object\n",
      " 2   업종      61818 non-null  int64 \n",
      " 3   업종명     61818 non-null  object\n",
      " 4   항목명     61818 non-null  object\n",
      " 5   당기 반기말  61818 non-null  object\n",
      "dtypes: int64(1), object(5)\n",
      "memory usage: 3.3+ MB\n"
     ]
    }
   ],
   "source": [
    "df.dropna(inplace=True)\n",
    "df.info()"
   ]
  },
  {
   "cell_type": "code",
   "execution_count": 17,
   "metadata": {},
   "outputs": [
    {
     "name": "stdout",
     "output_type": "stream",
     "text": [
      "<class 'pandas.core.frame.DataFrame'>\n",
      "Int64Index: 61818 entries, 1 to 67337\n",
      "Data columns (total 6 columns):\n",
      " #   Column  Non-Null Count  Dtype \n",
      "---  ------  --------------  ----- \n",
      " 0   종목코드    61818 non-null  object\n",
      " 1   회사명     61818 non-null  object\n",
      " 2   업종      61818 non-null  int64 \n",
      " 3   업종명     61818 non-null  object\n",
      " 4   항목명     61818 non-null  object\n",
      " 5   당기 반기말  61818 non-null  int64 \n",
      "dtypes: int64(2), object(4)\n",
      "memory usage: 3.3+ MB\n"
     ]
    }
   ],
   "source": [
    "df['종목코드'] = df['종목코드'].apply(lambda x : x.replace('[', ''))\n",
    "df['종목코드'] = df['종목코드'].apply(lambda x : str(x.replace(']', '')))\n",
    "df['항목명'] = df['항목명'].apply(lambda x : x.strip())\n",
    "df['항목명'] = df['항목명'].str.replace('[^가-힣 ]', '')\n",
    "df['항목명'] = df['항목명'].str.replace('이익잉여금결손금', '이익잉여금')\n",
    "df['항목명'] = df['항목명'].str.replace('당기말', '자본총계')\n",
    "df['당기 반기말'] = df['당기 반기말'].apply(lambda x : int(x.replace(',', '')))\n",
    "df['항목명'] = df['항목명'].str.replace('결손금', '이익잉여금')\n",
    "\n",
    "df.info()"
   ]
  },
  {
   "cell_type": "code",
   "execution_count": 18,
   "metadata": {},
   "outputs": [
    {
     "data": {
      "text/html": [
       "<div>\n",
       "<style scoped>\n",
       "    .dataframe tbody tr th:only-of-type {\n",
       "        vertical-align: middle;\n",
       "    }\n",
       "\n",
       "    .dataframe tbody tr th {\n",
       "        vertical-align: top;\n",
       "    }\n",
       "\n",
       "    .dataframe thead th {\n",
       "        text-align: right;\n",
       "    }\n",
       "</style>\n",
       "<table border=\"1\" class=\"dataframe\">\n",
       "  <thead>\n",
       "    <tr style=\"text-align: right;\">\n",
       "      <th></th>\n",
       "      <th>종목코드</th>\n",
       "      <th>회사명</th>\n",
       "      <th>업종</th>\n",
       "      <th>업종명</th>\n",
       "      <th>항목명</th>\n",
       "      <th>당기 반기말</th>\n",
       "    </tr>\n",
       "  </thead>\n",
       "  <tbody>\n",
       "    <tr>\n",
       "      <th>1</th>\n",
       "      <td>060310</td>\n",
       "      <td>3S</td>\n",
       "      <td>292</td>\n",
       "      <td>특수 목적용 기계 제조업</td>\n",
       "      <td>유동자산</td>\n",
       "      <td>12963850356</td>\n",
       "    </tr>\n",
       "    <tr>\n",
       "      <th>2</th>\n",
       "      <td>060310</td>\n",
       "      <td>3S</td>\n",
       "      <td>292</td>\n",
       "      <td>특수 목적용 기계 제조업</td>\n",
       "      <td>현금및현금성자산</td>\n",
       "      <td>2686944114</td>\n",
       "    </tr>\n",
       "    <tr>\n",
       "      <th>3</th>\n",
       "      <td>060310</td>\n",
       "      <td>3S</td>\n",
       "      <td>292</td>\n",
       "      <td>특수 목적용 기계 제조업</td>\n",
       "      <td>단기금융상품</td>\n",
       "      <td>984355188</td>\n",
       "    </tr>\n",
       "    <tr>\n",
       "      <th>4</th>\n",
       "      <td>060310</td>\n",
       "      <td>3S</td>\n",
       "      <td>292</td>\n",
       "      <td>특수 목적용 기계 제조업</td>\n",
       "      <td>매출채권및기타채권</td>\n",
       "      <td>5908239202</td>\n",
       "    </tr>\n",
       "    <tr>\n",
       "      <th>5</th>\n",
       "      <td>060310</td>\n",
       "      <td>3S</td>\n",
       "      <td>292</td>\n",
       "      <td>특수 목적용 기계 제조업</td>\n",
       "      <td>미청구공사</td>\n",
       "      <td>1771995945</td>\n",
       "    </tr>\n",
       "    <tr>\n",
       "      <th>6</th>\n",
       "      <td>060310</td>\n",
       "      <td>3S</td>\n",
       "      <td>292</td>\n",
       "      <td>특수 목적용 기계 제조업</td>\n",
       "      <td>재고자산</td>\n",
       "      <td>1053989746</td>\n",
       "    </tr>\n",
       "    <tr>\n",
       "      <th>7</th>\n",
       "      <td>060310</td>\n",
       "      <td>3S</td>\n",
       "      <td>292</td>\n",
       "      <td>특수 목적용 기계 제조업</td>\n",
       "      <td>당기법인세자산</td>\n",
       "      <td>210648240</td>\n",
       "    </tr>\n",
       "    <tr>\n",
       "      <th>8</th>\n",
       "      <td>060310</td>\n",
       "      <td>3S</td>\n",
       "      <td>292</td>\n",
       "      <td>특수 목적용 기계 제조업</td>\n",
       "      <td>기타유동자산</td>\n",
       "      <td>242798161</td>\n",
       "    </tr>\n",
       "    <tr>\n",
       "      <th>9</th>\n",
       "      <td>060310</td>\n",
       "      <td>3S</td>\n",
       "      <td>292</td>\n",
       "      <td>특수 목적용 기계 제조업</td>\n",
       "      <td>파생금융상품</td>\n",
       "      <td>104879760</td>\n",
       "    </tr>\n",
       "    <tr>\n",
       "      <th>10</th>\n",
       "      <td>060310</td>\n",
       "      <td>3S</td>\n",
       "      <td>292</td>\n",
       "      <td>특수 목적용 기계 제조업</td>\n",
       "      <td>비유동자산</td>\n",
       "      <td>37061149131</td>\n",
       "    </tr>\n",
       "  </tbody>\n",
       "</table>\n",
       "</div>"
      ],
      "text/plain": [
       "      종목코드 회사명   업종            업종명        항목명       당기 반기말\n",
       "1   060310  3S  292  특수 목적용 기계 제조업       유동자산  12963850356\n",
       "2   060310  3S  292  특수 목적용 기계 제조업   현금및현금성자산   2686944114\n",
       "3   060310  3S  292  특수 목적용 기계 제조업     단기금융상품    984355188\n",
       "4   060310  3S  292  특수 목적용 기계 제조업  매출채권및기타채권   5908239202\n",
       "5   060310  3S  292  특수 목적용 기계 제조업      미청구공사   1771995945\n",
       "6   060310  3S  292  특수 목적용 기계 제조업       재고자산   1053989746\n",
       "7   060310  3S  292  특수 목적용 기계 제조업    당기법인세자산    210648240\n",
       "8   060310  3S  292  특수 목적용 기계 제조업     기타유동자산    242798161\n",
       "9   060310  3S  292  특수 목적용 기계 제조업     파생금융상품    104879760\n",
       "10  060310  3S  292  특수 목적용 기계 제조업      비유동자산  37061149131"
      ]
     },
     "execution_count": 18,
     "metadata": {},
     "output_type": "execute_result"
    }
   ],
   "source": [
    "df.head(10)"
   ]
  },
  {
   "cell_type": "code",
   "execution_count": 19,
   "metadata": {},
   "outputs": [
    {
     "data": {
      "text/plain": [
       "1487"
      ]
     },
     "execution_count": 19,
     "metadata": {},
     "output_type": "execute_result"
    }
   ],
   "source": [
    "df['종목코드'].nunique()"
   ]
  },
  {
   "cell_type": "code",
   "execution_count": 21,
   "metadata": {},
   "outputs": [],
   "source": [
    "company_name_df2 = pd.read_csv('/Users/kimhansaem/workspace/11.DataAnalysis/01.데이터분석/data/시총100.txt', sep='\\s+', header=None,\n",
    "                                names=['column_index', 'column_name'])"
   ]
  },
  {
   "cell_type": "code",
   "execution_count": 22,
   "metadata": {},
   "outputs": [
    {
     "name": "stdout",
     "output_type": "stream",
     "text": [
      "['삼성전자', 'LG에너지솔루션', 'SK하이닉스', '삼성전자우', 'NAVER', '삼성바이오로직스', '카카오', 'LG화학', '삼성SDI', '현대차', '기아', 'POSCO', 'KB금융', '카카오뱅크', '셀트리온', '현대모비스', '삼성물산', 'LG전자', '카카오페이', '신한지주']\n"
     ]
    }
   ],
   "source": [
    "company_names2 = company_name_df2['column_index'].values.tolist()\n",
    "print(company_names2[:20])"
   ]
  },
  {
   "cell_type": "code",
   "execution_count": null,
   "metadata": {},
   "outputs": [],
   "source": []
  }
 ],
 "metadata": {
  "interpreter": {
   "hash": "04e5506d0a4e9b5ba2132a3aa07250344199659efb36c7056053abdf16c05720"
  },
  "kernelspec": {
   "display_name": "Python 3.8.12 ('base')",
   "language": "python",
   "name": "python3"
  },
  "language_info": {
   "codemirror_mode": {
    "name": "ipython",
    "version": 3
   },
   "file_extension": ".py",
   "mimetype": "text/x-python",
   "name": "python",
   "nbconvert_exporter": "python",
   "pygments_lexer": "ipython3",
   "version": "3.8.12"
  },
  "orig_nbformat": 4
 },
 "nbformat": 4,
 "nbformat_minor": 2
}
