{
 "cells": [
  {
   "cell_type": "markdown",
   "metadata": {},
   "source": [
    "- 필요한 패키지 임포트"
   ]
  },
  {
   "cell_type": "code",
   "execution_count": 2,
   "metadata": {},
   "outputs": [],
   "source": [
    "import numpy as np\n",
    "import pandas as pd\n",
    "import matplotlib.pyplot as plt\n",
    "import seaborn as sns\n",
    "import warnings\n",
    "warnings.filterwarnings('ignore')\n",
    "import FinanceDataReader as fdr\n",
    "import io \n",
    "import zipfile\n",
    "import xml.etree.ElementTree as et \n",
    "import json\n",
    "import requests "
   ]
  },
  {
   "cell_type": "markdown",
   "metadata": {},
   "source": [
    "- api 넘버 가져오기"
   ]
  },
  {
   "cell_type": "code",
   "execution_count": 3,
   "metadata": {},
   "outputs": [],
   "source": [
    "api_num = pd.read_csv('/Users/kimhansaem/workspace/11.DataAnalysis/01.데이터분석/data/apinumber.txt', sep='\\s+', header=None,\n",
    "                                names=['column_name'])\n",
    "api_number = api_num['column_name']"
   ]
  },
  {
   "cell_type": "markdown",
   "metadata": {},
   "source": [
    "- 상장 기업 전체 기업 이름, 기업코드 api 이용하여 불러오기 "
   ]
  },
  {
   "cell_type": "code",
   "execution_count": 4,
   "metadata": {},
   "outputs": [],
   "source": [
    "def get_corpcode(crtfc_key): \n",
    "    params = {'crtfc_key':crtfc_key}\n",
    "    url = \"https://opendart.fss.or.kr/api/corpCode.xml\" \n",
    "    items_en = [\"corp_code\", \"corp_name\", \"stock_code\", \"modify_date\"] \n",
    "    \n",
    "    ## Column명을 한글로 하려면 아래부분 쌍따옴표안을 수정하면 됨 \n",
    "    items_kr = [\"corp_code\", \"corp_name\", \"stock_code\", \"modify_date\"] \n",
    "    results = requests.get(url,params=params) \n",
    "    uzfile = zipfile.ZipFile(io.BytesIO(results.content))\n",
    "    final = uzfile.open(uzfile.namelist()[0]) \n",
    "    root = et.fromstring(final.read().decode('utf-8')) \n",
    "    data = [] \n",
    "    for child in root: \n",
    "        if len(child.find('stock_code').text.strip()) > 1: \n",
    "            data.append([]) \n",
    "            for item in items_en: \n",
    "                data[-1].append(child.find(item).text) \n",
    "    df = pd.DataFrame(data, columns = items_kr) \n",
    "    ##print(df) \n",
    "    return df"
   ]
  },
  {
   "cell_type": "markdown",
   "metadata": {},
   "source": [
    "- 다트에 있는 기업 리스트 추출"
   ]
  },
  {
   "cell_type": "code",
   "execution_count": 5,
   "metadata": {},
   "outputs": [
    {
     "data": {
      "text/html": [
       "<div>\n",
       "<style scoped>\n",
       "    .dataframe tbody tr th:only-of-type {\n",
       "        vertical-align: middle;\n",
       "    }\n",
       "\n",
       "    .dataframe tbody tr th {\n",
       "        vertical-align: top;\n",
       "    }\n",
       "\n",
       "    .dataframe thead th {\n",
       "        text-align: right;\n",
       "    }\n",
       "</style>\n",
       "<table border=\"1\" class=\"dataframe\">\n",
       "  <thead>\n",
       "    <tr style=\"text-align: right;\">\n",
       "      <th></th>\n",
       "      <th>corp_code</th>\n",
       "      <th>corp_name</th>\n",
       "      <th>stock_code</th>\n",
       "      <th>modify_date</th>\n",
       "    </tr>\n",
       "  </thead>\n",
       "  <tbody>\n",
       "    <tr>\n",
       "      <th>0</th>\n",
       "      <td>00260985</td>\n",
       "      <td>한빛네트</td>\n",
       "      <td>036720</td>\n",
       "      <td>20170630</td>\n",
       "    </tr>\n",
       "    <tr>\n",
       "      <th>1</th>\n",
       "      <td>00264529</td>\n",
       "      <td>엔플렉스</td>\n",
       "      <td>040130</td>\n",
       "      <td>20170630</td>\n",
       "    </tr>\n",
       "    <tr>\n",
       "      <th>2</th>\n",
       "      <td>00358545</td>\n",
       "      <td>동서정보기술</td>\n",
       "      <td>055000</td>\n",
       "      <td>20170630</td>\n",
       "    </tr>\n",
       "    <tr>\n",
       "      <th>3</th>\n",
       "      <td>00231567</td>\n",
       "      <td>애드모바일</td>\n",
       "      <td>032600</td>\n",
       "      <td>20170630</td>\n",
       "    </tr>\n",
       "    <tr>\n",
       "      <th>4</th>\n",
       "      <td>00247939</td>\n",
       "      <td>씨모스</td>\n",
       "      <td>037600</td>\n",
       "      <td>20170630</td>\n",
       "    </tr>\n",
       "  </tbody>\n",
       "</table>\n",
       "</div>"
      ],
      "text/plain": [
       "  corp_code corp_name stock_code modify_date\n",
       "0  00260985      한빛네트     036720    20170630\n",
       "1  00264529      엔플렉스     040130    20170630\n",
       "2  00358545    동서정보기술     055000    20170630\n",
       "3  00231567     애드모바일     032600    20170630\n",
       "4  00247939       씨모스     037600    20170630"
      ]
     },
     "execution_count": 5,
     "metadata": {},
     "output_type": "execute_result"
    }
   ],
   "source": [
    "crtfc_key = api_number[0]\n",
    "code_df = get_corpcode(crtfc_key)\n",
    "code_df.head()"
   ]
  },
  {
   "cell_type": "markdown",
   "metadata": {},
   "source": [
    "- 다트에 재무제표 올라와 있는 기업 개수: 3418"
   ]
  },
  {
   "cell_type": "code",
   "execution_count": 6,
   "metadata": {},
   "outputs": [
    {
     "name": "stdout",
     "output_type": "stream",
     "text": [
      "<class 'pandas.core.frame.DataFrame'>\n",
      "RangeIndex: 3425 entries, 0 to 3424\n",
      "Data columns (total 4 columns):\n",
      " #   Column       Non-Null Count  Dtype \n",
      "---  ------       --------------  ----- \n",
      " 0   corp_code    3425 non-null   object\n",
      " 1   corp_name    3425 non-null   object\n",
      " 2   stock_code   3425 non-null   object\n",
      " 3   modify_date  3425 non-null   object\n",
      "dtypes: object(4)\n",
      "memory usage: 107.2+ KB\n"
     ]
    }
   ],
   "source": [
    "code_df.info()"
   ]
  },
  {
   "cell_type": "markdown",
   "metadata": {},
   "source": [
    "- 반도체기업 이름, stock code 추출"
   ]
  },
  {
   "cell_type": "code",
   "execution_count": 7,
   "metadata": {},
   "outputs": [],
   "source": [
    "# 반도체 기업 이름 추출\n",
    "company_name_df = pd.read_csv('/Users/kimhansaem/workspace/11.DataAnalysis/01.데이터분석/data/반도체 기업 목록.txt', sep='\\s+', header=None,\n",
    "                                names=['column_index', 'column_name'])"
   ]
  },
  {
   "cell_type": "code",
   "execution_count": 8,
   "metadata": {},
   "outputs": [
    {
     "name": "stdout",
     "output_type": "stream",
     "text": [
      "['큐에스아이', '예스티', '미코', '신성이엔지', '코세스']\n"
     ]
    }
   ],
   "source": [
    "# 반도체 기업 추출 확인\n",
    "company_names = company_name_df['column_index'].values.tolist()\n",
    "print(company_names[:5])"
   ]
  },
  {
   "cell_type": "markdown",
   "metadata": {},
   "source": [
    "- 반도체기업 주식코드 추출"
   ]
  },
  {
   "cell_type": "code",
   "execution_count": 9,
   "metadata": {},
   "outputs": [
    {
     "data": {
      "text/html": [
       "<div>\n",
       "<style scoped>\n",
       "    .dataframe tbody tr th:only-of-type {\n",
       "        vertical-align: middle;\n",
       "    }\n",
       "\n",
       "    .dataframe tbody tr th {\n",
       "        vertical-align: top;\n",
       "    }\n",
       "\n",
       "    .dataframe thead th {\n",
       "        text-align: right;\n",
       "    }\n",
       "</style>\n",
       "<table border=\"1\" class=\"dataframe\">\n",
       "  <thead>\n",
       "    <tr style=\"text-align: right;\">\n",
       "      <th></th>\n",
       "      <th>corp_code</th>\n",
       "      <th>corp_name</th>\n",
       "      <th>stock_code</th>\n",
       "      <th>modify_date</th>\n",
       "    </tr>\n",
       "  </thead>\n",
       "  <tbody>\n",
       "    <tr>\n",
       "      <th>611</th>\n",
       "      <td>00686068</td>\n",
       "      <td>신성이엔지</td>\n",
       "      <td>104110</td>\n",
       "      <td>20171208</td>\n",
       "    </tr>\n",
       "    <tr>\n",
       "      <th>775</th>\n",
       "      <td>00625942</td>\n",
       "      <td>아이원스</td>\n",
       "      <td>114810</td>\n",
       "      <td>20220117</td>\n",
       "    </tr>\n",
       "    <tr>\n",
       "      <th>808</th>\n",
       "      <td>00484682</td>\n",
       "      <td>엘오티베큠</td>\n",
       "      <td>083310</td>\n",
       "      <td>20211123</td>\n",
       "    </tr>\n",
       "  </tbody>\n",
       "</table>\n",
       "</div>"
      ],
      "text/plain": [
       "    corp_code corp_name stock_code modify_date\n",
       "611  00686068     신성이엔지     104110    20171208\n",
       "775  00625942      아이원스     114810    20220117\n",
       "808  00484682     엘오티베큠     083310    20211123"
      ]
     },
     "execution_count": 9,
     "metadata": {},
     "output_type": "execute_result"
    }
   ],
   "source": [
    "df_corp = code_df[code_df['corp_name'].isin(company_names)]\n",
    "df_corp.head(3)"
   ]
  },
  {
   "cell_type": "markdown",
   "metadata": {},
   "source": [
    "- 신성이엔지 주식코드 수정"
   ]
  },
  {
   "cell_type": "code",
   "execution_count": 10,
   "metadata": {},
   "outputs": [
    {
     "data": {
      "text/html": [
       "<div>\n",
       "<style scoped>\n",
       "    .dataframe tbody tr th:only-of-type {\n",
       "        vertical-align: middle;\n",
       "    }\n",
       "\n",
       "    .dataframe tbody tr th {\n",
       "        vertical-align: top;\n",
       "    }\n",
       "\n",
       "    .dataframe thead th {\n",
       "        text-align: right;\n",
       "    }\n",
       "</style>\n",
       "<table border=\"1\" class=\"dataframe\">\n",
       "  <thead>\n",
       "    <tr style=\"text-align: right;\">\n",
       "      <th></th>\n",
       "      <th>corp_code</th>\n",
       "      <th>corp_name</th>\n",
       "      <th>stock_code</th>\n",
       "      <th>modify_date</th>\n",
       "    </tr>\n",
       "  </thead>\n",
       "  <tbody>\n",
       "    <tr>\n",
       "      <th>611</th>\n",
       "      <td>00686068</td>\n",
       "      <td>신성이엔지</td>\n",
       "      <td>011930</td>\n",
       "      <td>20171208</td>\n",
       "    </tr>\n",
       "    <tr>\n",
       "      <th>775</th>\n",
       "      <td>00625942</td>\n",
       "      <td>아이원스</td>\n",
       "      <td>114810</td>\n",
       "      <td>20220117</td>\n",
       "    </tr>\n",
       "    <tr>\n",
       "      <th>808</th>\n",
       "      <td>00484682</td>\n",
       "      <td>엘오티베큠</td>\n",
       "      <td>083310</td>\n",
       "      <td>20211123</td>\n",
       "    </tr>\n",
       "    <tr>\n",
       "      <th>809</th>\n",
       "      <td>00492894</td>\n",
       "      <td>젬백스</td>\n",
       "      <td>082270</td>\n",
       "      <td>20211124</td>\n",
       "    </tr>\n",
       "    <tr>\n",
       "      <th>830</th>\n",
       "      <td>00479787</td>\n",
       "      <td>인텍플러스</td>\n",
       "      <td>064290</td>\n",
       "      <td>20211129</td>\n",
       "    </tr>\n",
       "  </tbody>\n",
       "</table>\n",
       "</div>"
      ],
      "text/plain": [
       "    corp_code corp_name stock_code modify_date\n",
       "611  00686068     신성이엔지     011930    20171208\n",
       "775  00625942      아이원스     114810    20220117\n",
       "808  00484682     엘오티베큠     083310    20211123\n",
       "809  00492894       젬백스     082270    20211124\n",
       "830  00479787     인텍플러스     064290    20211129"
      ]
     },
     "execution_count": 10,
     "metadata": {},
     "output_type": "execute_result"
    }
   ],
   "source": [
    "ss_mask = df_corp[\"corp_name\"] ==\"신성이엔지\"\n",
    "df_corp.loc[ss_mask, \"stock_code\"] = \"011930\"\n",
    "df_corp.head()"
   ]
  },
  {
   "cell_type": "markdown",
   "metadata": {},
   "source": [
    "- 반도체기업 주식코드 수정 완료"
   ]
  },
  {
   "cell_type": "code",
   "execution_count": 11,
   "metadata": {},
   "outputs": [
    {
     "data": {
      "text/html": [
       "<div>\n",
       "<style scoped>\n",
       "    .dataframe tbody tr th:only-of-type {\n",
       "        vertical-align: middle;\n",
       "    }\n",
       "\n",
       "    .dataframe tbody tr th {\n",
       "        vertical-align: top;\n",
       "    }\n",
       "\n",
       "    .dataframe thead th {\n",
       "        text-align: right;\n",
       "    }\n",
       "</style>\n",
       "<table border=\"1\" class=\"dataframe\">\n",
       "  <thead>\n",
       "    <tr style=\"text-align: right;\">\n",
       "      <th></th>\n",
       "      <th>corp_code</th>\n",
       "      <th>corp_name</th>\n",
       "      <th>stock_code</th>\n",
       "    </tr>\n",
       "  </thead>\n",
       "  <tbody>\n",
       "    <tr>\n",
       "      <th>611</th>\n",
       "      <td>00686068</td>\n",
       "      <td>신성이엔지</td>\n",
       "      <td>011930</td>\n",
       "    </tr>\n",
       "    <tr>\n",
       "      <th>775</th>\n",
       "      <td>00625942</td>\n",
       "      <td>아이원스</td>\n",
       "      <td>114810</td>\n",
       "    </tr>\n",
       "    <tr>\n",
       "      <th>808</th>\n",
       "      <td>00484682</td>\n",
       "      <td>엘오티베큠</td>\n",
       "      <td>083310</td>\n",
       "    </tr>\n",
       "    <tr>\n",
       "      <th>809</th>\n",
       "      <td>00492894</td>\n",
       "      <td>젬백스</td>\n",
       "      <td>082270</td>\n",
       "    </tr>\n",
       "    <tr>\n",
       "      <th>830</th>\n",
       "      <td>00479787</td>\n",
       "      <td>인텍플러스</td>\n",
       "      <td>064290</td>\n",
       "    </tr>\n",
       "    <tr>\n",
       "      <th>...</th>\n",
       "      <td>...</td>\n",
       "      <td>...</td>\n",
       "      <td>...</td>\n",
       "    </tr>\n",
       "    <tr>\n",
       "      <th>3331</th>\n",
       "      <td>00246417</td>\n",
       "      <td>이오테크닉스</td>\n",
       "      <td>039030</td>\n",
       "    </tr>\n",
       "    <tr>\n",
       "      <th>3343</th>\n",
       "      <td>00535676</td>\n",
       "      <td>테크윙</td>\n",
       "      <td>089030</td>\n",
       "    </tr>\n",
       "    <tr>\n",
       "      <th>3344</th>\n",
       "      <td>00659161</td>\n",
       "      <td>싸이맥스</td>\n",
       "      <td>160980</td>\n",
       "    </tr>\n",
       "    <tr>\n",
       "      <th>3413</th>\n",
       "      <td>00121686</td>\n",
       "      <td>엠케이전자</td>\n",
       "      <td>033160</td>\n",
       "    </tr>\n",
       "    <tr>\n",
       "      <th>3417</th>\n",
       "      <td>00411905</td>\n",
       "      <td>테라셈</td>\n",
       "      <td>182690</td>\n",
       "    </tr>\n",
       "  </tbody>\n",
       "</table>\n",
       "<p>127 rows × 3 columns</p>\n",
       "</div>"
      ],
      "text/plain": [
       "     corp_code corp_name stock_code\n",
       "611   00686068     신성이엔지     011930\n",
       "775   00625942      아이원스     114810\n",
       "808   00484682     엘오티베큠     083310\n",
       "809   00492894       젬백스     082270\n",
       "830   00479787     인텍플러스     064290\n",
       "...        ...       ...        ...\n",
       "3331  00246417    이오테크닉스     039030\n",
       "3343  00535676       테크윙     089030\n",
       "3344  00659161      싸이맥스     160980\n",
       "3413  00121686     엠케이전자     033160\n",
       "3417  00411905       테라셈     182690\n",
       "\n",
       "[127 rows x 3 columns]"
      ]
     },
     "execution_count": 11,
     "metadata": {},
     "output_type": "execute_result"
    }
   ],
   "source": [
    "df_corp2 = df_corp.drop(['modify_date'], axis=1)\n",
    "df_corp2"
   ]
  },
  {
   "cell_type": "code",
   "execution_count": 12,
   "metadata": {},
   "outputs": [],
   "source": [
    "df = pd.read_csv('./data/재무제표파일/aaa.csv')"
   ]
  },
  {
   "cell_type": "code",
   "execution_count": 15,
   "metadata": {},
   "outputs": [
    {
     "name": "stdout",
     "output_type": "stream",
     "text": [
      "<class 'pandas.core.frame.DataFrame'>\n",
      "RangeIndex: 127 entries, 0 to 126\n",
      "Data columns (total 3 columns):\n",
      " #   Column      Non-Null Count  Dtype \n",
      "---  ------      --------------  ----- \n",
      " 0   corp_code   127 non-null    int64 \n",
      " 1   corp_name   127 non-null    object\n",
      " 2   stock_code  127 non-null    int64 \n",
      "dtypes: int64(2), object(1)\n",
      "memory usage: 3.1+ KB\n"
     ]
    }
   ],
   "source": [
    "df.info()"
   ]
  },
  {
   "cell_type": "markdown",
   "metadata": {},
   "source": [
    "- 반도체기업 stock_code 리스트로 가져오기"
   ]
  },
  {
   "cell_type": "code",
   "execution_count": 13,
   "metadata": {},
   "outputs": [
    {
     "data": {
      "text/plain": [
       "['011930',\n",
       " '114810',\n",
       " '083310',\n",
       " '082270',\n",
       " '064290',\n",
       " '033170',\n",
       " '131290',\n",
       " '053610',\n",
       " '402340',\n",
       " '049080',\n",
       " '224060',\n",
       " '131970',\n",
       " '122640',\n",
       " '036540',\n",
       " '061970',\n",
       " '087600',\n",
       " '092070',\n",
       " '077500',\n",
       " '031980',\n",
       " '217190',\n",
       " '050090',\n",
       " '098120',\n",
       " '064520',\n",
       " '093640',\n",
       " '080520',\n",
       " '067310',\n",
       " '059120',\n",
       " '217500',\n",
       " '036930',\n",
       " '222160',\n",
       " '200710',\n",
       " '330860',\n",
       " '089790',\n",
       " '240810',\n",
       " '303030',\n",
       " '029460',\n",
       " '036200',\n",
       " '073570',\n",
       " '200470',\n",
       " '059090',\n",
       " '030530',\n",
       " '119830',\n",
       " '045300',\n",
       " '306620',\n",
       " '032580',\n",
       " '005290',\n",
       " '025560',\n",
       " '003160',\n",
       " '077360',\n",
       " '101160',\n",
       " '064760',\n",
       " '102120',\n",
       " '171010',\n",
       " '033640',\n",
       " '042700',\n",
       " '089530',\n",
       " '011930',\n",
       " '117670',\n",
       " '101400',\n",
       " '183300',\n",
       " '084370',\n",
       " '123010',\n",
       " '357780',\n",
       " '000990',\n",
       " '092600',\n",
       " '195870',\n",
       " '058470',\n",
       " '208860',\n",
       " '095340',\n",
       " '080220',\n",
       " '253590',\n",
       " '096610',\n",
       " '147760',\n",
       " '101490',\n",
       " '080580',\n",
       " '097800',\n",
       " '311320',\n",
       " '052860',\n",
       " '074600',\n",
       " '142210',\n",
       " '319660',\n",
       " '089890',\n",
       " '052900',\n",
       " '348210',\n",
       " '269620',\n",
       " '006200',\n",
       " '267320',\n",
       " '095610',\n",
       " '356860',\n",
       " '066310',\n",
       " '241790',\n",
       " '382800',\n",
       " '054940',\n",
       " '322310',\n",
       " '144960',\n",
       " '219130',\n",
       " '227950',\n",
       " '232140',\n",
       " '036830',\n",
       " '281820',\n",
       " '078350',\n",
       " '039440',\n",
       " '140070',\n",
       " '071280',\n",
       " '086390',\n",
       " '092870',\n",
       " '054450',\n",
       " '094360',\n",
       " '166090',\n",
       " '089970',\n",
       " '376190',\n",
       " '241770',\n",
       " '092220',\n",
       " '024850',\n",
       " '232680',\n",
       " '083450',\n",
       " '252990',\n",
       " '264660',\n",
       " '000660',\n",
       " '079370',\n",
       " '036810',\n",
       " '005930',\n",
       " '039030',\n",
       " '089030',\n",
       " '160980',\n",
       " '033160',\n",
       " '182690']"
      ]
     },
     "execution_count": 13,
     "metadata": {},
     "output_type": "execute_result"
    }
   ],
   "source": [
    "company_codes = df_corp2['stock_code'].values.tolist()\n",
    "company_codes"
   ]
  },
  {
   "cell_type": "code",
   "execution_count": 15,
   "metadata": {},
   "outputs": [
    {
     "data": {
      "text/plain": [
       "'083310'"
      ]
     },
     "execution_count": 15,
     "metadata": {},
     "output_type": "execute_result"
    }
   ],
   "source": [
    "company_codes[2]"
   ]
  },
  {
   "cell_type": "markdown",
   "metadata": {},
   "source": [
    "- KRX 상장사 전체 불러오기"
   ]
  },
  {
   "cell_type": "code",
   "execution_count": 17,
   "metadata": {},
   "outputs": [
    {
     "data": {
      "text/html": [
       "<div>\n",
       "<style scoped>\n",
       "    .dataframe tbody tr th:only-of-type {\n",
       "        vertical-align: middle;\n",
       "    }\n",
       "\n",
       "    .dataframe tbody tr th {\n",
       "        vertical-align: top;\n",
       "    }\n",
       "\n",
       "    .dataframe thead th {\n",
       "        text-align: right;\n",
       "    }\n",
       "</style>\n",
       "<table border=\"1\" class=\"dataframe\">\n",
       "  <thead>\n",
       "    <tr style=\"text-align: right;\">\n",
       "      <th></th>\n",
       "      <th>Symbol</th>\n",
       "      <th>Market</th>\n",
       "      <th>Name</th>\n",
       "      <th>Sector</th>\n",
       "      <th>Industry</th>\n",
       "      <th>ListingDate</th>\n",
       "      <th>SettleMonth</th>\n",
       "      <th>Representative</th>\n",
       "      <th>HomePage</th>\n",
       "      <th>Region</th>\n",
       "    </tr>\n",
       "  </thead>\n",
       "  <tbody>\n",
       "    <tr>\n",
       "      <th>0</th>\n",
       "      <td>060310</td>\n",
       "      <td>KOSDAQ</td>\n",
       "      <td>3S</td>\n",
       "      <td>전자부품 제조업</td>\n",
       "      <td>반도체 웨이퍼 캐리어</td>\n",
       "      <td>2002-04-23</td>\n",
       "      <td>03월</td>\n",
       "      <td>김세완</td>\n",
       "      <td>http://www.3sref.com</td>\n",
       "      <td>서울특별시</td>\n",
       "    </tr>\n",
       "    <tr>\n",
       "      <th>1</th>\n",
       "      <td>095570</td>\n",
       "      <td>KOSPI</td>\n",
       "      <td>AJ네트웍스</td>\n",
       "      <td>산업용 기계 및 장비 임대업</td>\n",
       "      <td>렌탈(파렛트, OA장비, 건설장비)</td>\n",
       "      <td>2015-08-21</td>\n",
       "      <td>12월</td>\n",
       "      <td>박대현</td>\n",
       "      <td>http://www.ajnet.co.kr</td>\n",
       "      <td>서울특별시</td>\n",
       "    </tr>\n",
       "    <tr>\n",
       "      <th>2</th>\n",
       "      <td>006840</td>\n",
       "      <td>KOSPI</td>\n",
       "      <td>AK홀딩스</td>\n",
       "      <td>기타 금융업</td>\n",
       "      <td>지주사업</td>\n",
       "      <td>1999-08-11</td>\n",
       "      <td>12월</td>\n",
       "      <td>채형석, 이석주(각자 대표이사)</td>\n",
       "      <td>http://www.aekyunggroup.co.kr</td>\n",
       "      <td>서울특별시</td>\n",
       "    </tr>\n",
       "    <tr>\n",
       "      <th>3</th>\n",
       "      <td>054620</td>\n",
       "      <td>KOSDAQ</td>\n",
       "      <td>APS홀딩스</td>\n",
       "      <td>기타 금융업</td>\n",
       "      <td>인터넷 트래픽 솔루션</td>\n",
       "      <td>2001-12-04</td>\n",
       "      <td>12월</td>\n",
       "      <td>정기로</td>\n",
       "      <td>http://www.apsholdings.co.kr</td>\n",
       "      <td>경기도</td>\n",
       "    </tr>\n",
       "    <tr>\n",
       "      <th>4</th>\n",
       "      <td>265520</td>\n",
       "      <td>KOSDAQ</td>\n",
       "      <td>AP시스템</td>\n",
       "      <td>특수 목적용 기계 제조업</td>\n",
       "      <td>디스플레이 제조 장비</td>\n",
       "      <td>2017-04-07</td>\n",
       "      <td>12월</td>\n",
       "      <td>김영주</td>\n",
       "      <td>http://www.apsystems.co.kr</td>\n",
       "      <td>경기도</td>\n",
       "    </tr>\n",
       "  </tbody>\n",
       "</table>\n",
       "</div>"
      ],
      "text/plain": [
       "   Symbol  Market    Name           Sector             Industry ListingDate  \\\n",
       "0  060310  KOSDAQ      3S         전자부품 제조업          반도체 웨이퍼 캐리어  2002-04-23   \n",
       "1  095570   KOSPI  AJ네트웍스  산업용 기계 및 장비 임대업  렌탈(파렛트, OA장비, 건설장비)  2015-08-21   \n",
       "2  006840   KOSPI   AK홀딩스           기타 금융업                 지주사업  1999-08-11   \n",
       "3  054620  KOSDAQ  APS홀딩스           기타 금융업          인터넷 트래픽 솔루션  2001-12-04   \n",
       "4  265520  KOSDAQ   AP시스템    특수 목적용 기계 제조업          디스플레이 제조 장비  2017-04-07   \n",
       "\n",
       "  SettleMonth     Representative                       HomePage Region  \n",
       "0         03월                김세완           http://www.3sref.com  서울특별시  \n",
       "1         12월                박대현         http://www.ajnet.co.kr  서울특별시  \n",
       "2         12월  채형석, 이석주(각자 대표이사)  http://www.aekyunggroup.co.kr  서울특별시  \n",
       "3         12월                정기로   http://www.apsholdings.co.kr    경기도  \n",
       "4         12월                김영주     http://www.apsystems.co.kr    경기도  "
      ]
     },
     "execution_count": 17,
     "metadata": {},
     "output_type": "execute_result"
    }
   ],
   "source": [
    "df = fdr.StockListing('KRX')\n",
    "df.head()"
   ]
  },
  {
   "cell_type": "markdown",
   "metadata": {},
   "source": [
    "- 주가정보 수집"
   ]
  },
  {
   "cell_type": "code",
   "execution_count": 18,
   "metadata": {},
   "outputs": [
    {
     "data": {
      "text/plain": [
       "['Open', 'High', 'Low', 'Close', 'Volume', 'Change']"
      ]
     },
     "execution_count": 18,
     "metadata": {},
     "output_type": "execute_result"
    }
   ],
   "source": [
    "name = 'Open\tHigh\tLow\tClose\tVolume\tChange'\n",
    "tag = name.split()\n",
    "tag"
   ]
  },
  {
   "cell_type": "markdown",
   "metadata": {},
   "source": [
    "### 여기부터 자동으로 들어가게끔 for문 만들어야함"
   ]
  },
  {
   "cell_type": "code",
   "execution_count": 19,
   "metadata": {},
   "outputs": [
    {
     "data": {
      "text/plain": [
       "['011930']"
      ]
     },
     "execution_count": 19,
     "metadata": {},
     "output_type": "execute_result"
    }
   ],
   "source": [
    "# 한 기업 넣는 거//  for문애서는 i+1로 변경\n",
    "company_codes2 = df_corp2['stock_code'][:1].values.tolist()\n",
    "company_codes2"
   ]
  },
  {
   "cell_type": "markdown",
   "metadata": {},
   "source": [
    "- 5년치 주가 조회"
   ]
  },
  {
   "cell_type": "code",
   "execution_count": 24,
   "metadata": {},
   "outputs": [],
   "source": [
    "# 2017이 시작연도 2022가 끝연도라서 총 5~6년치 조회\n",
    "item_list = []\n",
    "for code in company_codes2:\n",
    "    stockpriceinfo = fdr.DataReader(code, \"2018\", \"2022\")[tag]\n",
    "    item_list.append(stockpriceinfo)"
   ]
  },
  {
   "cell_type": "code",
   "execution_count": 25,
   "metadata": {},
   "outputs": [
    {
     "data": {
      "text/html": [
       "<div>\n",
       "<style scoped>\n",
       "    .dataframe tbody tr th:only-of-type {\n",
       "        vertical-align: middle;\n",
       "    }\n",
       "\n",
       "    .dataframe tbody tr th {\n",
       "        vertical-align: top;\n",
       "    }\n",
       "\n",
       "    .dataframe thead th {\n",
       "        text-align: right;\n",
       "    }\n",
       "</style>\n",
       "<table border=\"1\" class=\"dataframe\">\n",
       "  <thead>\n",
       "    <tr style=\"text-align: right;\">\n",
       "      <th></th>\n",
       "      <th>Open</th>\n",
       "      <th>High</th>\n",
       "      <th>Low</th>\n",
       "      <th>Close</th>\n",
       "      <th>Volume</th>\n",
       "      <th>Change</th>\n",
       "    </tr>\n",
       "    <tr>\n",
       "      <th>Date</th>\n",
       "      <th></th>\n",
       "      <th></th>\n",
       "      <th></th>\n",
       "      <th></th>\n",
       "      <th></th>\n",
       "      <th></th>\n",
       "    </tr>\n",
       "  </thead>\n",
       "  <tbody>\n",
       "    <tr>\n",
       "      <th>2021-12-24</th>\n",
       "      <td>2170</td>\n",
       "      <td>2170</td>\n",
       "      <td>2095</td>\n",
       "      <td>2105</td>\n",
       "      <td>1728317</td>\n",
       "      <td>-0.020930</td>\n",
       "    </tr>\n",
       "    <tr>\n",
       "      <th>2021-12-27</th>\n",
       "      <td>2105</td>\n",
       "      <td>2125</td>\n",
       "      <td>2075</td>\n",
       "      <td>2075</td>\n",
       "      <td>1253775</td>\n",
       "      <td>-0.014252</td>\n",
       "    </tr>\n",
       "    <tr>\n",
       "      <th>2021-12-28</th>\n",
       "      <td>2080</td>\n",
       "      <td>2155</td>\n",
       "      <td>2060</td>\n",
       "      <td>2090</td>\n",
       "      <td>2134322</td>\n",
       "      <td>0.007229</td>\n",
       "    </tr>\n",
       "    <tr>\n",
       "      <th>2021-12-29</th>\n",
       "      <td>2115</td>\n",
       "      <td>2130</td>\n",
       "      <td>2075</td>\n",
       "      <td>2095</td>\n",
       "      <td>1233435</td>\n",
       "      <td>0.002392</td>\n",
       "    </tr>\n",
       "    <tr>\n",
       "      <th>2021-12-30</th>\n",
       "      <td>2105</td>\n",
       "      <td>2160</td>\n",
       "      <td>2095</td>\n",
       "      <td>2145</td>\n",
       "      <td>1638535</td>\n",
       "      <td>0.023866</td>\n",
       "    </tr>\n",
       "  </tbody>\n",
       "</table>\n",
       "</div>"
      ],
      "text/plain": [
       "            Open  High   Low  Close   Volume    Change\n",
       "Date                                                  \n",
       "2021-12-24  2170  2170  2095   2105  1728317 -0.020930\n",
       "2021-12-27  2105  2125  2075   2075  1253775 -0.014252\n",
       "2021-12-28  2080  2155  2060   2090  2134322  0.007229\n",
       "2021-12-29  2115  2130  2075   2095  1233435  0.002392\n",
       "2021-12-30  2105  2160  2095   2145  1638535  0.023866"
      ]
     },
     "execution_count": 25,
     "metadata": {},
     "output_type": "execute_result"
    }
   ],
   "source": [
    "df_onecorp = pd.concat(item_list, axis=0)\n",
    "df_onecorp.columns = tag\n",
    "df_onecorp.tail()"
   ]
  },
  {
   "cell_type": "code",
   "execution_count": 26,
   "metadata": {},
   "outputs": [
    {
     "name": "stdout",
     "output_type": "stream",
     "text": [
      "<class 'pandas.core.frame.DataFrame'>\n",
      "DatetimeIndex: 986 entries, 2018-01-02 to 2021-12-30\n",
      "Data columns (total 6 columns):\n",
      " #   Column  Non-Null Count  Dtype  \n",
      "---  ------  --------------  -----  \n",
      " 0   Open    986 non-null    int64  \n",
      " 1   High    986 non-null    int64  \n",
      " 2   Low     986 non-null    int64  \n",
      " 3   Close   986 non-null    int64  \n",
      " 4   Volume  986 non-null    int64  \n",
      " 5   Change  986 non-null    float64\n",
      "dtypes: float64(1), int64(5)\n",
      "memory usage: 53.9 KB\n"
     ]
    }
   ],
   "source": [
    "# 5년치 다 나오는지 확인\n",
    "df_onecorp.info()"
   ]
  },
  {
   "cell_type": "code",
   "execution_count": null,
   "metadata": {},
   "outputs": [],
   "source": [
    "# 기업코드가 이름으로 저장되게끔 company_codes[i]+1\n",
    "def get_total_price(item_code):\n",
    "    for item_code in company_codes:\n",
    "        every_price = fdr.DataReader(item_code, \"2017\", \"2022\")[tag]\n",
    " "
   ]
  },
  {
   "cell_type": "code",
   "execution_count": 55,
   "metadata": {},
   "outputs": [
    {
     "name": "stdout",
     "output_type": "stream",
     "text": [
      "Collecting sqlalchemy\n",
      "  Downloading SQLAlchemy-1.4.32.tar.gz (8.1 MB)\n",
      "\u001b[2K     \u001b[90m━━━━━━━━━━━━━━━━━━━━━━━━━━━━━━━━━━━━━━━━\u001b[0m \u001b[32m8.1/8.1 MB\u001b[0m \u001b[31m20.7 MB/s\u001b[0m eta \u001b[36m0:00:00\u001b[0m00:01\u001b[0m00:01\u001b[0m\n",
      "\u001b[?25h  Preparing metadata (setup.py) ... \u001b[?25ldone\n",
      "\u001b[?25hBuilding wheels for collected packages: sqlalchemy\n",
      "  Building wheel for sqlalchemy (setup.py) ... \u001b[?25ldone\n",
      "\u001b[?25h  Created wheel for sqlalchemy: filename=SQLAlchemy-1.4.32-cp38-cp38-macosx_11_0_arm64.whl size=1536908 sha256=05412114bc399b2f8f831d9a1216eb03f0a40ff499740bd0a56341c7155bc7b3\n",
      "  Stored in directory: /Users/kimhansaem/Library/Caches/pip/wheels/f1/89/a6/de94839bd1eae1e97da3e026f85938bc8afca6739bda1df206\n",
      "Successfully built sqlalchemy\n",
      "Installing collected packages: sqlalchemy\n",
      "Successfully installed sqlalchemy-1.4.32\n",
      "\u001b[33mWARNING: You are using pip version 22.0.3; however, version 22.0.4 is available.\n",
      "You should consider upgrading via the '/Users/kimhansaem/miniconda3/bin/python -m pip install --upgrade pip' command.\u001b[0m\u001b[33m\n",
      "\u001b[0m"
     ]
    }
   ],
   "source": [
    "!pip install sqlalchemy"
   ]
  },
  {
   "cell_type": "code",
   "execution_count": 56,
   "metadata": {},
   "outputs": [],
   "source": [
    "import MySQLdb\n",
    "from sqlalchemy import create_engine"
   ]
  },
  {
   "cell_type": "code",
   "execution_count": 58,
   "metadata": {},
   "outputs": [],
   "source": [
    "engine = create_engine(\"mysql+mysqldb://호스트이름(mhso같은거):\"+\"비번\"+\"@아이피주소/저장할db이름\", encoding='utf-8')\n",
    "conn = engine.connect()"
   ]
  },
  {
   "cell_type": "code",
   "execution_count": null,
   "metadata": {},
   "outputs": [],
   "source": [
    "이 사이에 \"\"\"create table \"\"\" 컬럼 설정하는 코드 넣으면됨 "
   ]
  },
  {
   "cell_type": "code",
   "execution_count": 62,
   "metadata": {},
   "outputs": [],
   "source": [
    "# MySQL에 저장하기\n",
    "# pandas의 to_sql() 함수 사용 저장\n",
    "# DB하이텍 연습\n",
    "df.to_sql(name='price_list', con=engine, if_exists='append')"
   ]
  },
  {
   "cell_type": "code",
   "execution_count": null,
   "metadata": {},
   "outputs": [],
   "source": [
    "# Base : 기본적으로 테이블을 다루기 위한 여러 내용들이 들어있음.\n",
    "# - 대표적으로 CRUD에 대한 메소드가 들어있다.\n",
    "Base = declarative_base() # Base 클래스를 얻어내는 함수\n",
    "\n",
    "# Base 클래스 상속\n",
    "# 데이터만 담겨있는 클래스(객체) : Value Object VO\n",
    "class User(Base):\n",
    "    \n",
    "    __tablename__ = \"price_list\" # 테이블 이름\n",
    "    \n",
    "    # 컬럼 정의\n",
    "    #  - 컬럼명, 컬럼 데이터 타입\n",
    "    Date = Column((DateTime) # primary_key=True\n",
    "    Open = Column(Integer) \n",
    "    High = Column(Integer)\n",
    "    Low = Column(Integer)\n",
    "    Close = Column(Integer)\n",
    "    Change = Column(Integer)\n",
    "    \n",
    "    # 생성자에서는 각 컬럼에 데이터를 매핑\n",
    "    def __init__(self, name, email, age, rdate):\n",
    "        # self.변수는 컬럼명과 반드시 일치\n",
    "        self.name = name\n",
    "        self.email = email\n",
    "        self.age = age\n",
    "        self.rdate = rdate\n",
    "    \n",
    "    # repr 함수\n",
    "    def __repr__(self):\n",
    "        return \"<User {}, {}, {}, {}>\".format(self.name, self.email, self.age, self.rdate)"
   ]
  }
 ],
 "metadata": {
  "interpreter": {
   "hash": "04e5506d0a4e9b5ba2132a3aa07250344199659efb36c7056053abdf16c05720"
  },
  "kernelspec": {
   "display_name": "Python 3.8.12 ('base')",
   "language": "python",
   "name": "python3"
  },
  "language_info": {
   "codemirror_mode": {
    "name": "ipython",
    "version": 3
   },
   "file_extension": ".py",
   "mimetype": "text/x-python",
   "name": "python",
   "nbconvert_exporter": "python",
   "pygments_lexer": "ipython3",
   "version": "3.8.12"
  },
  "orig_nbformat": 4
 },
 "nbformat": 4,
 "nbformat_minor": 2
}
