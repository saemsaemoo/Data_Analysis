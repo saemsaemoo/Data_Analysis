{
 "cells": [
  {
   "cell_type": "code",
   "execution_count": 11,
   "metadata": {},
   "outputs": [],
   "source": [
    "import numpy as np\n",
    "import pandas as pd\n",
    "import matplotlib.pyplot as plt\n",
    "import seaborn as sns\n",
    "import warnings\n",
    "warnings.filterwarnings('ignore')\n",
    "import requests\n",
    "import io \n",
    "import zipfile\n",
    "import xml.etree.ElementTree as et \n",
    "import json"
   ]
  },
  {
   "cell_type": "code",
   "execution_count": 12,
   "metadata": {},
   "outputs": [
    {
     "data": {
      "text/plain": [
       "'3f19505ff7834fc28b5471e5a0b01839b29e5d16'"
      ]
     },
     "execution_count": 12,
     "metadata": {},
     "output_type": "execute_result"
    }
   ],
   "source": [
    "api_num = pd.read_csv('./data/dart_api_key.txt', sep='\\s', header=None)"
   ]
  },
  {
   "cell_type": "code",
   "execution_count": 13,
   "metadata": {},
   "outputs": [],
   "source": [
    "def get_corpcode(crtfc_key):\n",
    "    params = {'crtfc_key':crtfc_key}\n",
    "    url = \"https://opendart.fss.or.kr/api/corpCode.xml\"\n",
    "    items_en = [\"corp_code\", \"corp_name\", \"stock_code\", \"modify_date\"]\n",
    "    \n",
    "    ## Column명을 한글로 하려면 아래부분 쌍따옴표안을 수정하면 됨 \n",
    "    items_kr = [\"corp_code\", \"corp_name\", \"stock_code\", \"modify_date\"] \n",
    "    results = requests.get(url,params=params) \n",
    "    uzfile = zipfile.ZipFile(io.BytesIO(results.content))\n",
    "    final = uzfile.open(uzfile.namelist()[0])\n",
    "    root = et.fromstring(final.read().decode('utf-8'))\n",
    "    data = [] \n",
    "    for child in root: \n",
    "        if len(child.find('stock_code').text.strip()) > 1: \n",
    "            data.append([]) \n",
    "            for item in items_en: \n",
    "                data[-1].append(child.find(item).text) \n",
    "    df = pd.DataFrame(data, columns = items_kr) \n",
    "    ##print(df) \n",
    "    return df"
   ]
  },
  {
   "cell_type": "code",
   "execution_count": 14,
   "metadata": {},
   "outputs": [
    {
     "data": {
      "text/html": [
       "<div>\n",
       "<style scoped>\n",
       "    .dataframe tbody tr th:only-of-type {\n",
       "        vertical-align: middle;\n",
       "    }\n",
       "\n",
       "    .dataframe tbody tr th {\n",
       "        vertical-align: top;\n",
       "    }\n",
       "\n",
       "    .dataframe thead th {\n",
       "        text-align: right;\n",
       "    }\n",
       "</style>\n",
       "<table border=\"1\" class=\"dataframe\">\n",
       "  <thead>\n",
       "    <tr style=\"text-align: right;\">\n",
       "      <th></th>\n",
       "      <th>corp_code</th>\n",
       "      <th>corp_name</th>\n",
       "      <th>stock_code</th>\n",
       "      <th>modify_date</th>\n",
       "    </tr>\n",
       "  </thead>\n",
       "  <tbody>\n",
       "    <tr>\n",
       "      <th>0</th>\n",
       "      <td>00260985</td>\n",
       "      <td>한빛네트</td>\n",
       "      <td>036720</td>\n",
       "      <td>20170630</td>\n",
       "    </tr>\n",
       "    <tr>\n",
       "      <th>1</th>\n",
       "      <td>00264529</td>\n",
       "      <td>엔플렉스</td>\n",
       "      <td>040130</td>\n",
       "      <td>20170630</td>\n",
       "    </tr>\n",
       "    <tr>\n",
       "      <th>2</th>\n",
       "      <td>00358545</td>\n",
       "      <td>동서정보기술</td>\n",
       "      <td>055000</td>\n",
       "      <td>20170630</td>\n",
       "    </tr>\n",
       "    <tr>\n",
       "      <th>3</th>\n",
       "      <td>00231567</td>\n",
       "      <td>애드모바일</td>\n",
       "      <td>032600</td>\n",
       "      <td>20170630</td>\n",
       "    </tr>\n",
       "    <tr>\n",
       "      <th>4</th>\n",
       "      <td>00247939</td>\n",
       "      <td>씨모스</td>\n",
       "      <td>037600</td>\n",
       "      <td>20170630</td>\n",
       "    </tr>\n",
       "  </tbody>\n",
       "</table>\n",
       "</div>"
      ],
      "text/plain": [
       "  corp_code corp_name stock_code modify_date\n",
       "0  00260985      한빛네트     036720    20170630\n",
       "1  00264529      엔플렉스     040130    20170630\n",
       "2  00358545    동서정보기술     055000    20170630\n",
       "3  00231567     애드모바일     032600    20170630\n",
       "4  00247939       씨모스     037600    20170630"
      ]
     },
     "execution_count": 14,
     "metadata": {},
     "output_type": "execute_result"
    }
   ],
   "source": [
    "crtfc_key = api_num[0][0]\n",
    "code_df = get_corpcode(crtfc_key)\n",
    "code_df.head()"
   ]
  },
  {
   "cell_type": "code",
   "execution_count": 15,
   "metadata": {},
   "outputs": [
    {
     "name": "stdout",
     "output_type": "stream",
     "text": [
      "<class 'pandas.core.frame.DataFrame'>\n",
      "RangeIndex: 3418 entries, 0 to 3417\n",
      "Data columns (total 4 columns):\n",
      " #   Column       Non-Null Count  Dtype \n",
      "---  ------       --------------  ----- \n",
      " 0   corp_code    3418 non-null   object\n",
      " 1   corp_name    3418 non-null   object\n",
      " 2   stock_code   3418 non-null   object\n",
      " 3   modify_date  3418 non-null   object\n",
      "dtypes: object(4)\n",
      "memory usage: 106.9+ KB\n"
     ]
    }
   ],
   "source": [
    "code_df.info()"
   ]
  },
  {
   "cell_type": "code",
   "execution_count": 19,
   "metadata": {},
   "outputs": [
    {
     "data": {
      "text/html": [
       "<div>\n",
       "<style scoped>\n",
       "    .dataframe tbody tr th:only-of-type {\n",
       "        vertical-align: middle;\n",
       "    }\n",
       "\n",
       "    .dataframe tbody tr th {\n",
       "        vertical-align: top;\n",
       "    }\n",
       "\n",
       "    .dataframe thead th {\n",
       "        text-align: right;\n",
       "    }\n",
       "</style>\n",
       "<table border=\"1\" class=\"dataframe\">\n",
       "  <thead>\n",
       "    <tr style=\"text-align: right;\">\n",
       "      <th></th>\n",
       "      <th>column_name</th>\n",
       "    </tr>\n",
       "  </thead>\n",
       "  <tbody>\n",
       "    <tr>\n",
       "      <th>0</th>\n",
       "      <td>강원랜드</td>\n",
       "    </tr>\n",
       "    <tr>\n",
       "      <th>1</th>\n",
       "      <td>고려아연</td>\n",
       "    </tr>\n",
       "    <tr>\n",
       "      <th>2</th>\n",
       "      <td>금호석유</td>\n",
       "    </tr>\n",
       "    <tr>\n",
       "      <th>3</th>\n",
       "      <td>기아</td>\n",
       "    </tr>\n",
       "    <tr>\n",
       "      <th>4</th>\n",
       "      <td>기업은행</td>\n",
       "    </tr>\n",
       "    <tr>\n",
       "      <th>...</th>\n",
       "      <td>...</td>\n",
       "    </tr>\n",
       "    <tr>\n",
       "      <th>495</th>\n",
       "      <td>모토닉</td>\n",
       "    </tr>\n",
       "    <tr>\n",
       "      <th>496</th>\n",
       "      <td>에이프로젠</td>\n",
       "    </tr>\n",
       "    <tr>\n",
       "      <th>497</th>\n",
       "      <td>신세계</td>\n",
       "    </tr>\n",
       "    <tr>\n",
       "      <th>498</th>\n",
       "      <td>태림포장</td>\n",
       "    </tr>\n",
       "    <tr>\n",
       "      <th>499</th>\n",
       "      <td>조일알미늄</td>\n",
       "    </tr>\n",
       "  </tbody>\n",
       "</table>\n",
       "<p>500 rows × 1 columns</p>\n",
       "</div>"
      ],
      "text/plain": [
       "    column_name\n",
       "0          강원랜드\n",
       "1          고려아연\n",
       "2          금호석유\n",
       "3            기아\n",
       "4          기업은행\n",
       "..          ...\n",
       "495         모토닉\n",
       "496       에이프로젠\n",
       "497         신세계\n",
       "498        태림포장\n",
       "499       조일알미늄\n",
       "\n",
       "[500 rows x 1 columns]"
      ]
     },
     "execution_count": 19,
     "metadata": {},
     "output_type": "execute_result"
    }
   ],
   "source": [
    "company_name_df = pd.read_csv('./data/시총500(코스피).txt', sep='\\s+', header=None,\n",
    "                                names=['column_name'])\n",
    "\n",
    "company_name_df"
   ]
  },
  {
   "cell_type": "code",
   "execution_count": 20,
   "metadata": {},
   "outputs": [
    {
     "name": "stdout",
     "output_type": "stream",
     "text": [
      "['강원랜드', '고려아연', '금호석유', '기아', '기업은행', '넷마블', '대한항공', '두산밥캣', '두산중공업', '롯데케미칼', '맥쿼리인프라', '메리츠금융지주', '메리츠증권', '메리츠화재', '미래에셋증권', '삼성물산', '삼성바이오로직스', '삼성생명', '삼성에스디에스', '삼성엔지니어링']\n"
     ]
    }
   ],
   "source": [
    "company_names = company_name_df['column_name'].values.tolist()\n",
    "print(company_names[:20])"
   ]
  },
  {
   "cell_type": "code",
   "execution_count": 30,
   "metadata": {},
   "outputs": [
    {
     "data": {
      "text/html": [
       "<div>\n",
       "<style scoped>\n",
       "    .dataframe tbody tr th:only-of-type {\n",
       "        vertical-align: middle;\n",
       "    }\n",
       "\n",
       "    .dataframe tbody tr th {\n",
       "        vertical-align: top;\n",
       "    }\n",
       "\n",
       "    .dataframe thead th {\n",
       "        text-align: right;\n",
       "    }\n",
       "</style>\n",
       "<table border=\"1\" class=\"dataframe\">\n",
       "  <thead>\n",
       "    <tr style=\"text-align: right;\">\n",
       "      <th></th>\n",
       "      <th>corp_code</th>\n",
       "      <th>corp_name</th>\n",
       "      <th>stock_code</th>\n",
       "      <th>modify_date</th>\n",
       "    </tr>\n",
       "  </thead>\n",
       "  <tbody>\n",
       "    <tr>\n",
       "      <th>313</th>\n",
       "      <td>00375302</td>\n",
       "      <td>우리금융지주</td>\n",
       "      <td>053000</td>\n",
       "      <td>20170630</td>\n",
       "    </tr>\n",
       "    <tr>\n",
       "      <th>402</th>\n",
       "      <td>00139418</td>\n",
       "      <td>알루코</td>\n",
       "      <td>021570</td>\n",
       "      <td>20170630</td>\n",
       "    </tr>\n",
       "    <tr>\n",
       "      <th>486</th>\n",
       "      <td>00311030</td>\n",
       "      <td>미래에셋증권</td>\n",
       "      <td>037620</td>\n",
       "      <td>20170630</td>\n",
       "    </tr>\n",
       "    <tr>\n",
       "      <th>524</th>\n",
       "      <td>00126229</td>\n",
       "      <td>삼성물산</td>\n",
       "      <td>000830</td>\n",
       "      <td>20170630</td>\n",
       "    </tr>\n",
       "    <tr>\n",
       "      <th>580</th>\n",
       "      <td>00144155</td>\n",
       "      <td>SK</td>\n",
       "      <td>003600</td>\n",
       "      <td>20170630</td>\n",
       "    </tr>\n",
       "    <tr>\n",
       "      <th>611</th>\n",
       "      <td>00686068</td>\n",
       "      <td>신성이엔지</td>\n",
       "      <td>104110</td>\n",
       "      <td>20171208</td>\n",
       "    </tr>\n",
       "    <tr>\n",
       "      <th>667</th>\n",
       "      <td>00600013</td>\n",
       "      <td>맵스리얼티1</td>\n",
       "      <td>094800</td>\n",
       "      <td>20190405</td>\n",
       "    </tr>\n",
       "    <tr>\n",
       "      <th>733</th>\n",
       "      <td>00539274</td>\n",
       "      <td>대상홀딩스</td>\n",
       "      <td>084690</td>\n",
       "      <td>20210216</td>\n",
       "    </tr>\n",
       "    <tr>\n",
       "      <th>736</th>\n",
       "      <td>00435297</td>\n",
       "      <td>맥쿼리인프라</td>\n",
       "      <td>088980</td>\n",
       "      <td>20200715</td>\n",
       "    </tr>\n",
       "    <tr>\n",
       "      <th>741</th>\n",
       "      <td>01325979</td>\n",
       "      <td>세아제강</td>\n",
       "      <td>306200</td>\n",
       "      <td>20210218</td>\n",
       "    </tr>\n",
       "  </tbody>\n",
       "</table>\n",
       "</div>"
      ],
      "text/plain": [
       "    corp_code corp_name stock_code modify_date\n",
       "313  00375302    우리금융지주     053000    20170630\n",
       "402  00139418       알루코     021570    20170630\n",
       "486  00311030    미래에셋증권     037620    20170630\n",
       "524  00126229      삼성물산     000830    20170630\n",
       "580  00144155        SK     003600    20170630\n",
       "611  00686068     신성이엔지     104110    20171208\n",
       "667  00600013    맵스리얼티1     094800    20190405\n",
       "733  00539274     대상홀딩스     084690    20210216\n",
       "736  00435297    맥쿼리인프라     088980    20200715\n",
       "741  01325979      세아제강     306200    20210218"
      ]
     },
     "execution_count": 30,
     "metadata": {},
     "output_type": "execute_result"
    }
   ],
   "source": [
    "df_cos = code_df[code_df['corp_name'].isin(company_names)]\n",
    "df_cos.head(10)"
   ]
  },
  {
   "cell_type": "code",
   "execution_count": 31,
   "metadata": {},
   "outputs": [
    {
     "data": {
      "text/plain": [
       "399"
      ]
     },
     "execution_count": 31,
     "metadata": {},
     "output_type": "execute_result"
    }
   ],
   "source": [
    "df_cos = df_cos.sort_values('corp_name', ascending=True)\n",
    "len(df_cos)"
   ]
  },
  {
   "cell_type": "code",
   "execution_count": 32,
   "metadata": {},
   "outputs": [
    {
     "data": {
      "text/html": [
       "<div>\n",
       "<style scoped>\n",
       "    .dataframe tbody tr th:only-of-type {\n",
       "        vertical-align: middle;\n",
       "    }\n",
       "\n",
       "    .dataframe tbody tr th {\n",
       "        vertical-align: top;\n",
       "    }\n",
       "\n",
       "    .dataframe thead th {\n",
       "        text-align: right;\n",
       "    }\n",
       "</style>\n",
       "<table border=\"1\" class=\"dataframe\">\n",
       "  <thead>\n",
       "    <tr style=\"text-align: right;\">\n",
       "      <th></th>\n",
       "      <th>corp_code</th>\n",
       "      <th>corp_name</th>\n",
       "      <th>stock_code</th>\n",
       "      <th>modify_date</th>\n",
       "    </tr>\n",
       "  </thead>\n",
       "  <tbody>\n",
       "    <tr>\n",
       "      <th>1843</th>\n",
       "      <td>00219097</td>\n",
       "      <td>BGF</td>\n",
       "      <td>027410</td>\n",
       "      <td>20211207</td>\n",
       "    </tr>\n",
       "    <tr>\n",
       "      <th>2068</th>\n",
       "      <td>01263022</td>\n",
       "      <td>BGF리테일</td>\n",
       "      <td>282330</td>\n",
       "      <td>20220106</td>\n",
       "    </tr>\n",
       "    <tr>\n",
       "      <th>1451</th>\n",
       "      <td>00858364</td>\n",
       "      <td>BNK금융지주</td>\n",
       "      <td>138930</td>\n",
       "      <td>20220110</td>\n",
       "    </tr>\n",
       "    <tr>\n",
       "      <th>1986</th>\n",
       "      <td>00148540</td>\n",
       "      <td>CJ</td>\n",
       "      <td>001040</td>\n",
       "      <td>20220215</td>\n",
       "    </tr>\n",
       "    <tr>\n",
       "      <th>2308</th>\n",
       "      <td>00113410</td>\n",
       "      <td>CJ대한통운</td>\n",
       "      <td>000120</td>\n",
       "      <td>20211203</td>\n",
       "    </tr>\n",
       "  </tbody>\n",
       "</table>\n",
       "</div>"
      ],
      "text/plain": [
       "     corp_code corp_name stock_code modify_date\n",
       "1843  00219097       BGF     027410    20211207\n",
       "2068  01263022    BGF리테일     282330    20220106\n",
       "1451  00858364   BNK금융지주     138930    20220110\n",
       "1986  00148540        CJ     001040    20220215\n",
       "2308  00113410    CJ대한통운     000120    20211203"
      ]
     },
     "execution_count": 32,
     "metadata": {},
     "output_type": "execute_result"
    }
   ],
   "source": [
    "df_cos.head()"
   ]
  },
  {
   "cell_type": "code",
   "execution_count": 47,
   "metadata": {},
   "outputs": [],
   "source": [
    "code_df.to_excel('고유번호3.xlsx')"
   ]
  },
  {
   "cell_type": "code",
   "execution_count": 69,
   "metadata": {},
   "outputs": [
    {
     "data": {
      "text/plain": [
       "<Response [200]>"
      ]
     },
     "execution_count": 69,
     "metadata": {},
     "output_type": "execute_result"
    }
   ],
   "source": [
    "api_key = '-'\n",
    "corp_code = '00219097'\n",
    "search_year = '2017'\n",
    "first_quarter = '11013'\n",
    "half = '11012'\n",
    "third_quarter = '11014'\n",
    "one_year = '11011'\n",
    "\n",
    "url = f'https://opendart.fss.or.kr/api/fnlttMultiAcnt.json?crtfc_key={api_key}&corp_code={corp_code}&bsns_year={search_year}&reprt_code={first_quarter}'\n",
    "response = requests.get(url)\n",
    "\n",
    "response"
   ]
  },
  {
   "cell_type": "code",
   "execution_count": 67,
   "metadata": {},
   "outputs": [
    {
     "data": {
      "application/vnd.jupyter.widget-view+json": {
       "model_id": "5aa32350d0b7452e9135854f70dd78ea",
       "version_major": 2,
       "version_minor": 0
      },
      "text/plain": [
       "  0%|          | 0/399 [00:00<?, ?it/s]"
      ]
     },
     "metadata": {},
     "output_type": "display_data"
    },
    {
     "data": {
      "text/html": [
       "<div>\n",
       "<style scoped>\n",
       "    .dataframe tbody tr th:only-of-type {\n",
       "        vertical-align: middle;\n",
       "    }\n",
       "\n",
       "    .dataframe tbody tr th {\n",
       "        vertical-align: top;\n",
       "    }\n",
       "\n",
       "    .dataframe thead th {\n",
       "        text-align: right;\n",
       "    }\n",
       "</style>\n",
       "<table border=\"1\" class=\"dataframe\">\n",
       "  <thead>\n",
       "    <tr style=\"text-align: right;\">\n",
       "      <th></th>\n",
       "      <th>유동자산</th>\n",
       "      <th>총자산</th>\n",
       "      <th>유동부채</th>\n",
       "      <th>총부채</th>\n",
       "      <th>이익잉여금</th>\n",
       "      <th>총자본</th>\n",
       "      <th>매출액</th>\n",
       "      <th>영업이익</th>\n",
       "      <th>당기순이익</th>\n",
       "    </tr>\n",
       "  </thead>\n",
       "  <tbody>\n",
       "    <tr>\n",
       "      <th>0</th>\n",
       "      <td>986,585,650,559</td>\n",
       "      <td>1,955,808,596,927</td>\n",
       "      <td>771,067,992,964</td>\n",
       "      <td>1,022,440,656,635</td>\n",
       "      <td>NaN</td>\n",
       "      <td>NaN</td>\n",
       "      <td>NaN</td>\n",
       "      <td>NaN</td>\n",
       "      <td>NaN</td>\n",
       "    </tr>\n",
       "    <tr>\n",
       "      <th>1</th>\n",
       "      <td>NaN</td>\n",
       "      <td>NaN</td>\n",
       "      <td>NaN</td>\n",
       "      <td>NaN</td>\n",
       "      <td>794,887,828,227</td>\n",
       "      <td>933,367,940,292</td>\n",
       "      <td>1,215,645,931,124</td>\n",
       "      <td>39,634,034,678</td>\n",
       "      <td>32,090,130,727</td>\n",
       "    </tr>\n",
       "    <tr>\n",
       "      <th>2</th>\n",
       "      <td>986,585,650,559</td>\n",
       "      <td>1,955,808,596,927</td>\n",
       "      <td>771,067,992,964</td>\n",
       "      <td>1,022,440,656,635</td>\n",
       "      <td>NaN</td>\n",
       "      <td>NaN</td>\n",
       "      <td>NaN</td>\n",
       "      <td>NaN</td>\n",
       "      <td>NaN</td>\n",
       "    </tr>\n",
       "    <tr>\n",
       "      <th>3</th>\n",
       "      <td>NaN</td>\n",
       "      <td>NaN</td>\n",
       "      <td>NaN</td>\n",
       "      <td>NaN</td>\n",
       "      <td>794,887,828,227</td>\n",
       "      <td>933,367,940,292</td>\n",
       "      <td>1,215,645,931,124</td>\n",
       "      <td>39,634,034,678</td>\n",
       "      <td>32,090,130,727</td>\n",
       "    </tr>\n",
       "    <tr>\n",
       "      <th>4</th>\n",
       "      <td>986,585,650,559</td>\n",
       "      <td>1,955,808,596,927</td>\n",
       "      <td>771,067,992,964</td>\n",
       "      <td>1,022,440,656,635</td>\n",
       "      <td>NaN</td>\n",
       "      <td>NaN</td>\n",
       "      <td>NaN</td>\n",
       "      <td>NaN</td>\n",
       "      <td>NaN</td>\n",
       "    </tr>\n",
       "  </tbody>\n",
       "</table>\n",
       "</div>"
      ],
      "text/plain": [
       "              유동자산                총자산             유동부채                총부채  \\\n",
       "0  986,585,650,559  1,955,808,596,927  771,067,992,964  1,022,440,656,635   \n",
       "1              NaN                NaN              NaN                NaN   \n",
       "2  986,585,650,559  1,955,808,596,927  771,067,992,964  1,022,440,656,635   \n",
       "3              NaN                NaN              NaN                NaN   \n",
       "4  986,585,650,559  1,955,808,596,927  771,067,992,964  1,022,440,656,635   \n",
       "\n",
       "             이익잉여금              총자본                매출액            영업이익  \\\n",
       "0              NaN              NaN                NaN             NaN   \n",
       "1  794,887,828,227  933,367,940,292  1,215,645,931,124  39,634,034,678   \n",
       "2              NaN              NaN                NaN             NaN   \n",
       "3  794,887,828,227  933,367,940,292  1,215,645,931,124  39,634,034,678   \n",
       "4              NaN              NaN                NaN             NaN   \n",
       "\n",
       "            당기순이익  \n",
       "0             NaN  \n",
       "1  32,090,130,727  \n",
       "2             NaN  \n",
       "3  32,090,130,727  \n",
       "4             NaN  "
      ]
     },
     "execution_count": 67,
     "metadata": {},
     "output_type": "execute_result"
    }
   ],
   "source": [
    "from tqdm import tqdm_notebook\n",
    "\n",
    "api_key = '-'\n",
    "search_year = ['2016', '2017', '2017', '2019', '2020']\n",
    "quarter_list = ['11013', '11012', '11014', '11011']\n",
    "\n",
    "data = []\n",
    "for corp_code in tqdm_notebook(df_cos['corp_code']):\n",
    "    for year in search_year:\n",
    "        for quarter in quarter_list:\n",
    "            url = f'https://opendart.fss.or.kr/api/fnlttMultiAcnt.json?crtfc_key={api_key}&corp_code={corp_code}&bsns_year={search_year}&reprt_code={first_quarter}'\n",
    "            response = requests.get(url)\n",
    "            company_code = response['list'][0]['corp_code']\n",
    "            liquid_asset = response['list'][0]['thstrm_amount']\n",
    "            total_asset = response['list'][2]['thstrm_amount']\n",
    "            liquid_debt = response['list'][3]['thstrm_amount']\n",
    "            total_debt = response['list'][5]['thstrm_amount']\n",
    "            \n",
    "            \n",
    "            finance_data1 = {\n",
    "                '유동자산' : liquid_asset,\n",
    "                '총자산' : total_asset,\n",
    "                '유동부채' : liquid_debt,\n",
    "                '총부채' : total_debt\n",
    "            }\n",
    "\n",
    "            data.append(finance_data1)\n",
    "            \n",
    "            if response['list'][6]['account_nm'] == '자본금':\n",
    "                ordinary_share = response['list'][6]['thstrm_amount']\n",
    "                retained_earning = response['list'][7]['thstrm_amount']\n",
    "                total_equity = response['list'][8]['thstrm_amount']\n",
    "                revenue = response['list'][9]['thstrm_amount']\n",
    "                operating_profit = response['list'][10]['thstrm_amount']\n",
    "                net_income = response['list'][12]['thstrm_amount']\n",
    "\n",
    "                finance_data2 = {\n",
    "                    '자본금' : ordinary_share,\n",
    "                    '이익잉여금' : retained_earning,\n",
    "                    '총자본' : total_equity,\n",
    "                    '매출액' : revenue,\n",
    "                    '영업이익' : operating_profit,\n",
    "                    '당기순이익' : net_income\n",
    "                }\n",
    "\n",
    "                data.append(finance_data2)\n",
    "\n",
    "            else:\n",
    "                retained_earning = response['list'][6]['thstrm_amount']\n",
    "                total_equity = response['list'][7]['thstrm_amount']\n",
    "                revenue = response['list'][8]['thstrm_amount']\n",
    "                operating_profit = response['list'][9]['thstrm_amount']\n",
    "                net_income =  response['list'][11]['thstrm_amount']\n",
    "\n",
    "                finance_data3 = {\n",
    "                    '이익잉여금' : retained_earning,\n",
    "                    '총자본' : total_equity,\n",
    "                    '매출액' : revenue,\n",
    "                    '영업이익' : operating_profit,\n",
    "                    '당기순이익' : net_income\n",
    "                }\n",
    "                data.append(finance_data3)\n",
    "\n",
    "df_finance = pd.DataFrame(data)\n",
    "df_finance.head()"
   ]
  },
  {
   "cell_type": "code",
   "execution_count": 68,
   "metadata": {},
   "outputs": [],
   "source": [
    "df_finance.to_excel('코스피기업 재무제표.xlsx')"
   ]
  },
  {
   "cell_type": "code",
   "execution_count": 52,
   "metadata": {},
   "outputs": [],
   "source": [
    "response_first = response.json()"
   ]
  },
  {
   "cell_type": "code",
   "execution_count": 62,
   "metadata": {},
   "outputs": [
    {
     "name": "stdout",
     "output_type": "stream",
     "text": [
      "유동자산 986,585,650,559\n",
      "자산총계 1,955,808,596,927\n",
      "유동부채 771,067,992,964\n",
      "부채총계 1,022,440,656,635\n",
      "이익잉여금 794,887,828,227\n",
      "자본총계 933,367,940,292\n",
      "매출액 1,215,645,931,124\n",
      "영업이익 39,634,034,678\n",
      "당기순이익 32,090,130,727\n"
     ]
    }
   ],
   "source": [
    "# 1분기, 반기, 3분기의 경우\n",
    "\n",
    "print(response_first['list'][0]['account_nm'], response_first['list'][0]['thstrm_amount'])\n",
    "print(response_first['list'][2]['account_nm'], response_first['list'][2]['thstrm_amount'])\n",
    "print(response_first['list'][3]['account_nm'], response_first['list'][3]['thstrm_amount'])\n",
    "print(response_first['list'][5]['account_nm'], response_first['list'][5]['thstrm_amount'])\n",
    "print(response_first['list'][6]['account_nm'], response_first['list'][6]['thstrm_amount'])\n",
    "print(response_first['list'][7]['account_nm'], response_first['list'][7]['thstrm_amount'])\n",
    "print(response_first['list'][8]['account_nm'], response_first['list'][8]['thstrm_amount'])\n",
    "print(response_first['list'][9]['account_nm'], response_first['list'][9]['thstrm_amount'])\n",
    "print(response_first['list'][11]['account_nm'], response_first['list'][11]['thstrm_amount'])\n"
   ]
  },
  {
   "cell_type": "code",
   "execution_count": 57,
   "metadata": {},
   "outputs": [],
   "source": [
    "url = f'https://opendart.fss.or.kr/api/fnlttMultiAcnt.json?crtfc_key={api_key}&corp_code={corp_code}&bsns_year={search_year}&reprt_code={half}'\n",
    "response = requests.get(url)\n",
    "\n",
    "response_half = response.json()"
   ]
  },
  {
   "cell_type": "code",
   "execution_count": 63,
   "metadata": {},
   "outputs": [
    {
     "name": "stdout",
     "output_type": "stream",
     "text": [
      "유동자산 1,106,561,978,766\n",
      "자산총계 2,088,182,729,939\n",
      "유동부채 850,125,912,032\n",
      "부채총계 1,094,076,126,281\n",
      "이익잉여금 855,742,914,552\n",
      "자본총계 994,106,603,658\n",
      "매출액 1,412,995,579,893\n",
      "영업이익 74,110,709,511\n",
      "당기순이익 61,212,937,931\n"
     ]
    }
   ],
   "source": [
    "# 1분기, 반기, 3분기의 경우\n",
    "\n",
    "print(response_half['list'][0]['account_nm'], response_half['list'][0]['thstrm_amount'])\n",
    "print(response_half['list'][2]['account_nm'], response_half['list'][2]['thstrm_amount'])\n",
    "print(response_half['list'][3]['account_nm'], response_half['list'][3]['thstrm_amount'])\n",
    "print(response_half['list'][5]['account_nm'], response_half['list'][5]['thstrm_amount'])\n",
    "print(response_half['list'][6]['account_nm'], response_half['list'][6]['thstrm_amount'])\n",
    "print(response_half['list'][7]['account_nm'], response_half['list'][7]['thstrm_amount'])\n",
    "print(response_half['list'][8]['account_nm'], response_half['list'][8]['thstrm_amount'])\n",
    "print(response_half['list'][9]['account_nm'], response_half['list'][9]['thstrm_amount'])\n",
    "print(response_half['list'][11]['account_nm'], response_half['list'][11]['thstrm_amount'])\n"
   ]
  },
  {
   "cell_type": "code",
   "execution_count": 60,
   "metadata": {},
   "outputs": [],
   "source": [
    "url = f'https://opendart.fss.or.kr/api/fnlttMultiAcnt.json?crtfc_key={api_key}&corp_code={corp_code}&bsns_year={search_year}&reprt_code={third_quarter}'\n",
    "response = requests.get(url)\n",
    "\n",
    "response_third = response.json()"
   ]
  },
  {
   "cell_type": "code",
   "execution_count": 64,
   "metadata": {},
   "outputs": [
    {
     "name": "stdout",
     "output_type": "stream",
     "text": [
      "유동자산 504,788,268,009\n",
      "자산총계 2,218,451,758,906\n",
      "유동부채 3,768,197,632,993\n",
      "부채총계 4,806,090,578,739\n",
      "자본금 49,547,625,000\n",
      "이익잉여금 949,009,669,463\n",
      "자본총계 -2,587,638,819,833\n",
      "매출액 27,573,693,451\n",
      "영업이익 2,913,443,474\n",
      "당기순이익 93,599,478,210\n"
     ]
    }
   ],
   "source": [
    "# 1분기, 반기, 3분기의 경우\n",
    "\n",
    "print(response_third['list'][0]['account_nm'], response_third['list'][0]['thstrm_amount'])\n",
    "print(response_third['list'][2]['account_nm'], response_third['list'][2]['thstrm_amount'])\n",
    "print(response_third['list'][3]['account_nm'], response_third['list'][3]['thstrm_amount'])\n",
    "print(response_third['list'][5]['account_nm'], response_third['list'][5]['thstrm_amount'])\n",
    "print(response_third['list'][6]['account_nm'], response_third['list'][6]['thstrm_amount'])\n",
    "print(response_third['list'][7]['account_nm'], response_third['list'][7]['thstrm_amount'])\n",
    "print(response_third['list'][8]['account_nm'], response_third['list'][8]['thstrm_amount'])\n",
    "print(response_third['list'][9]['account_nm'], response_third['list'][9]['thstrm_amount'])\n",
    "print(response_third['list'][10]['account_nm'], response_third['list'][10]['thstrm_amount'])\n",
    "print(response_third['list'][12]['account_nm'], response_third['list'][12]['thstrm_amount'])\n"
   ]
  },
  {
   "cell_type": "code",
   "execution_count": null,
   "metadata": {},
   "outputs": [],
   "source": [
    "url = f'https://opendart.fss.or.kr/api/fnlttMultiAcnt.json?crtfc_key={api_key}&corp_code={corp_code}&bsns_year={search_year}&reprt_code={one_year}'\n",
    "response = requests.get(url)\n",
    "\n",
    "response_year = response.json()"
   ]
  },
  {
   "cell_type": "code",
   "execution_count": 56,
   "metadata": {},
   "outputs": [
    {
     "name": "stdout",
     "output_type": "stream",
     "text": [
      "유동자산 438,201,259,390\n",
      "자산총계 858,118,604,869\n",
      "유동부채 89,036,876,199\n",
      "부채총계 132,887,657,573\n",
      "자본금 32,263,719,000\n",
      "이익잉여금 4,262,198,753,750\n",
      "자본총계 725,230,947,296\n",
      "매출액 123,842,619,339\n",
      "영업이익 10,447,735,458\n",
      "당기순이익 3,497,875,341,046\n"
     ]
    }
   ],
   "source": [
    "# 사업보고서의 경우\n",
    "\n",
    "print(response_year['list'][0]['account_nm'], response_year['list'][0]['thstrm_amount'])\n",
    "print(response_year['list'][2]['account_nm'], response_year['list'][2]['thstrm_amount'])\n",
    "print(response_year['list'][3]['account_nm'], response_year['list'][3]['thstrm_amount'])\n",
    "print(response_year['list'][5]['account_nm'], response_year['list'][5]['thstrm_amount'])\n",
    "print(response_year['list'][6]['account_nm'], response_year['list'][6]['thstrm_amount'])\n",
    "print(response_year['list'][7]['account_nm'], response_year['list'][7]['thstrm_amount'])\n",
    "print(response_year['list'][8]['account_nm'], response_year['list'][8]['thstrm_amount'])\n",
    "print(response_year['list'][9]['account_nm'], response_year['list'][9]['thstrm_amount'])\n",
    "print(response_year['list'][10]['account_nm'], response_year['list'][10]['thstrm_amount'])\n",
    "print(response_year['list'][12]['account_nm'], response_year['list'][12]['thstrm_amount'])"
   ]
  },
  {
   "cell_type": "code",
   "execution_count": null,
   "metadata": {},
   "outputs": [],
   "source": []
  }
 ],
 "metadata": {
  "interpreter": {
   "hash": "04e5506d0a4e9b5ba2132a3aa07250344199659efb36c7056053abdf16c05720"
  },
  "kernelspec": {
   "display_name": "Python 3.8.12 ('base')",
   "language": "python",
   "name": "python3"
  },
  "language_info": {
   "codemirror_mode": {
    "name": "ipython",
    "version": 3
   },
   "file_extension": ".py",
   "mimetype": "text/x-python",
   "name": "python",
   "nbconvert_exporter": "python",
   "pygments_lexer": "ipython3",
   "version": "3.8.8"
  },
  "orig_nbformat": 4
 },
 "nbformat": 4,
 "nbformat_minor": 2
}
