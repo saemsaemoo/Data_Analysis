{
 "cells": [
  {
   "cell_type": "code",
   "execution_count": 32,
   "metadata": {},
   "outputs": [],
   "source": [
    "import numpy as np\n",
    "import pandas as pd\n",
    "import matplotlib.pyplot as plt\n",
    "import seaborn as sns\n",
    "import warnings\n",
    "warnings.filterwarnings('ignore')\n",
    "import requests\n",
    "from bs4 import BeautifulSoup\n",
    "from urllib.parse import urlparse, parse_qs"
   ]
  },
  {
   "cell_type": "code",
   "execution_count": 39,
   "metadata": {},
   "outputs": [],
   "source": [
    "URL = \"https://finance.naver.com/sise/sise_market_sum.naver?&page=1\"\n"
   ]
  },
  {
   "cell_type": "code",
   "execution_count": 40,
   "metadata": {},
   "outputs": [],
   "source": [
    "response = requests.get(URL)"
   ]
  },
  {
   "cell_type": "markdown",
   "metadata": {},
   "source": [
    "▶️ BeautifulSoup으로 파싱"
   ]
  },
  {
   "cell_type": "code",
   "execution_count": 8,
   "metadata": {},
   "outputs": [
    {
     "data": {
      "text/html": [
       "<div>\n",
       "<style scoped>\n",
       "    .dataframe tbody tr th:only-of-type {\n",
       "        vertical-align: middle;\n",
       "    }\n",
       "\n",
       "    .dataframe tbody tr th {\n",
       "        vertical-align: top;\n",
       "    }\n",
       "\n",
       "    .dataframe thead th {\n",
       "        text-align: right;\n",
       "    }\n",
       "</style>\n",
       "<table border=\"1\" class=\"dataframe\">\n",
       "  <thead>\n",
       "    <tr style=\"text-align: right;\">\n",
       "      <th></th>\n",
       "      <th>종목코드</th>\n",
       "      <th>회사명</th>\n",
       "      <th>업종</th>\n",
       "      <th>업종명</th>\n",
       "      <th>항목명</th>\n",
       "      <th>당기 1분기말</th>\n",
       "    </tr>\n",
       "  </thead>\n",
       "  <tbody>\n",
       "    <tr>\n",
       "      <th>0</th>\n",
       "      <td>[060310]</td>\n",
       "      <td>3S</td>\n",
       "      <td>292</td>\n",
       "      <td>특수 목적용 기계 제조업</td>\n",
       "      <td>자산 [abstract]</td>\n",
       "      <td>NaN</td>\n",
       "    </tr>\n",
       "    <tr>\n",
       "      <th>1</th>\n",
       "      <td>[060310]</td>\n",
       "      <td>3S</td>\n",
       "      <td>292</td>\n",
       "      <td>특수 목적용 기계 제조업</td>\n",
       "      <td>유동자산</td>\n",
       "      <td>15,466,570,449</td>\n",
       "    </tr>\n",
       "    <tr>\n",
       "      <th>2</th>\n",
       "      <td>[060310]</td>\n",
       "      <td>3S</td>\n",
       "      <td>292</td>\n",
       "      <td>특수 목적용 기계 제조업</td>\n",
       "      <td>현금및현금성자산</td>\n",
       "      <td>4,973,422,676</td>\n",
       "    </tr>\n",
       "    <tr>\n",
       "      <th>3</th>\n",
       "      <td>[060310]</td>\n",
       "      <td>3S</td>\n",
       "      <td>292</td>\n",
       "      <td>특수 목적용 기계 제조업</td>\n",
       "      <td>단기금융상품</td>\n",
       "      <td>61,396,650</td>\n",
       "    </tr>\n",
       "    <tr>\n",
       "      <th>4</th>\n",
       "      <td>[060310]</td>\n",
       "      <td>3S</td>\n",
       "      <td>292</td>\n",
       "      <td>특수 목적용 기계 제조업</td>\n",
       "      <td>매출채권 및 기타채권</td>\n",
       "      <td>3,311,932,854</td>\n",
       "    </tr>\n",
       "  </tbody>\n",
       "</table>\n",
       "</div>"
      ],
      "text/plain": [
       "       종목코드 회사명   업종            업종명                항목명         당기 1분기말\n",
       "0  [060310]  3S  292  특수 목적용 기계 제조업      자산 [abstract]             NaN\n",
       "1  [060310]  3S  292  특수 목적용 기계 제조업               유동자산  15,466,570,449\n",
       "2  [060310]  3S  292  특수 목적용 기계 제조업           현금및현금성자산   4,973,422,676\n",
       "3  [060310]  3S  292  특수 목적용 기계 제조업             단기금융상품      61,396,650\n",
       "4  [060310]  3S  292  특수 목적용 기계 제조업        매출채권 및 기타채권   3,311,932,854"
      ]
     },
     "execution_count": 8,
     "metadata": {},
     "output_type": "execute_result"
    }
   ],
   "source": [
    "df = pd.read_csv('2020_1분기보고서_01_재무상태표_연결_20211104.txt', sep = '\\t', encoding='euc-kr')\n",
    "column_names = ['종목코드', '회사명', '업종', '업종명', '항목명', '당기 1분기말']\n",
    "df = df[column_names]\n",
    "df.head()"
   ]
  },
  {
   "cell_type": "code",
   "execution_count": 9,
   "metadata": {},
   "outputs": [
    {
     "name": "stdout",
     "output_type": "stream",
     "text": [
      "<class 'pandas.core.frame.DataFrame'>\n",
      "RangeIndex: 80829 entries, 0 to 80828\n",
      "Data columns (total 6 columns):\n",
      " #   Column   Non-Null Count  Dtype \n",
      "---  ------   --------------  ----- \n",
      " 0   종목코드     80829 non-null  object\n",
      " 1   회사명      80829 non-null  object\n",
      " 2   업종       80829 non-null  int64 \n",
      " 3   업종명      80829 non-null  object\n",
      " 4   항목명      80829 non-null  object\n",
      " 5   당기 1분기말  74495 non-null  object\n",
      "dtypes: int64(1), object(5)\n",
      "memory usage: 3.7+ MB\n"
     ]
    }
   ],
   "source": [
    "df.info()"
   ]
  },
  {
   "cell_type": "code",
   "execution_count": 10,
   "metadata": {},
   "outputs": [
    {
     "name": "stdout",
     "output_type": "stream",
     "text": [
      "<class 'pandas.core.frame.DataFrame'>\n",
      "Int64Index: 74495 entries, 1 to 80828\n",
      "Data columns (total 6 columns):\n",
      " #   Column   Non-Null Count  Dtype \n",
      "---  ------   --------------  ----- \n",
      " 0   종목코드     74495 non-null  object\n",
      " 1   회사명      74495 non-null  object\n",
      " 2   업종       74495 non-null  int64 \n",
      " 3   업종명      74495 non-null  object\n",
      " 4   항목명      74495 non-null  object\n",
      " 5   당기 1분기말  74495 non-null  object\n",
      "dtypes: int64(1), object(5)\n",
      "memory usage: 4.0+ MB\n"
     ]
    }
   ],
   "source": [
    "df.dropna(inplace=True)\n",
    "df.info()"
   ]
  },
  {
   "cell_type": "code",
   "execution_count": 11,
   "metadata": {},
   "outputs": [
    {
     "name": "stdout",
     "output_type": "stream",
     "text": [
      "<class 'pandas.core.frame.DataFrame'>\n",
      "Int64Index: 74495 entries, 1 to 80828\n",
      "Data columns (total 6 columns):\n",
      " #   Column   Non-Null Count  Dtype \n",
      "---  ------   --------------  ----- \n",
      " 0   종목코드     74495 non-null  object\n",
      " 1   회사명      74495 non-null  object\n",
      " 2   업종       74495 non-null  int64 \n",
      " 3   업종명      74495 non-null  object\n",
      " 4   항목명      74495 non-null  object\n",
      " 5   당기 1분기말  74495 non-null  int64 \n",
      "dtypes: int64(2), object(4)\n",
      "memory usage: 4.0+ MB\n"
     ]
    }
   ],
   "source": [
    "df['종목코드'] = df['종목코드'].apply(lambda x : x.replace('[', ''))\n",
    "df['종목코드'] = df['종목코드'].apply(lambda x : str(x.replace(']', '')))\n",
    "df['항목명'] = df['항목명'].apply(lambda x : x.strip())\n",
    "df['항목명'] = df['항목명'].str.replace('[^가-힣 ]', '')\n",
    "df['항목명'] = df['항목명'].str.replace('이익잉여금결손금', '이익잉여금')\n",
    "df['항목명'] = df['항목명'].str.replace('당기말', '자본총계')\n",
    "df['당기 1분기말'] = df['당기 1분기말'].apply(lambda x : int(x.replace(',', '')))\n",
    "\n",
    "df.info()"
   ]
  },
  {
   "cell_type": "code",
   "execution_count": 12,
   "metadata": {},
   "outputs": [],
   "source": [
    "df['항목명'] = df['항목명'].str.replace('결손금', '이익잉여금')"
   ]
  },
  {
   "cell_type": "code",
   "execution_count": 13,
   "metadata": {},
   "outputs": [
    {
     "data": {
      "text/html": [
       "<div>\n",
       "<style scoped>\n",
       "    .dataframe tbody tr th:only-of-type {\n",
       "        vertical-align: middle;\n",
       "    }\n",
       "\n",
       "    .dataframe tbody tr th {\n",
       "        vertical-align: top;\n",
       "    }\n",
       "\n",
       "    .dataframe thead th {\n",
       "        text-align: right;\n",
       "    }\n",
       "</style>\n",
       "<table border=\"1\" class=\"dataframe\">\n",
       "  <thead>\n",
       "    <tr style=\"text-align: right;\">\n",
       "      <th></th>\n",
       "      <th>종목코드</th>\n",
       "      <th>회사명</th>\n",
       "      <th>업종</th>\n",
       "      <th>업종명</th>\n",
       "      <th>항목명</th>\n",
       "      <th>당기 1분기말</th>\n",
       "    </tr>\n",
       "  </thead>\n",
       "  <tbody>\n",
       "    <tr>\n",
       "      <th>1</th>\n",
       "      <td>060310</td>\n",
       "      <td>3S</td>\n",
       "      <td>292</td>\n",
       "      <td>특수 목적용 기계 제조업</td>\n",
       "      <td>유동자산</td>\n",
       "      <td>15466570449</td>\n",
       "    </tr>\n",
       "    <tr>\n",
       "      <th>2</th>\n",
       "      <td>060310</td>\n",
       "      <td>3S</td>\n",
       "      <td>292</td>\n",
       "      <td>특수 목적용 기계 제조업</td>\n",
       "      <td>현금및현금성자산</td>\n",
       "      <td>4973422676</td>\n",
       "    </tr>\n",
       "    <tr>\n",
       "      <th>3</th>\n",
       "      <td>060310</td>\n",
       "      <td>3S</td>\n",
       "      <td>292</td>\n",
       "      <td>특수 목적용 기계 제조업</td>\n",
       "      <td>단기금융상품</td>\n",
       "      <td>61396650</td>\n",
       "    </tr>\n",
       "    <tr>\n",
       "      <th>4</th>\n",
       "      <td>060310</td>\n",
       "      <td>3S</td>\n",
       "      <td>292</td>\n",
       "      <td>특수 목적용 기계 제조업</td>\n",
       "      <td>매출채권 및 기타채권</td>\n",
       "      <td>3311932854</td>\n",
       "    </tr>\n",
       "    <tr>\n",
       "      <th>5</th>\n",
       "      <td>060310</td>\n",
       "      <td>3S</td>\n",
       "      <td>292</td>\n",
       "      <td>특수 목적용 기계 제조업</td>\n",
       "      <td>재고자산</td>\n",
       "      <td>3078852402</td>\n",
       "    </tr>\n",
       "    <tr>\n",
       "      <th>6</th>\n",
       "      <td>060310</td>\n",
       "      <td>3S</td>\n",
       "      <td>292</td>\n",
       "      <td>특수 목적용 기계 제조업</td>\n",
       "      <td>선급공사원가</td>\n",
       "      <td>3634869221</td>\n",
       "    </tr>\n",
       "    <tr>\n",
       "      <th>7</th>\n",
       "      <td>060310</td>\n",
       "      <td>3S</td>\n",
       "      <td>292</td>\n",
       "      <td>특수 목적용 기계 제조업</td>\n",
       "      <td>당기법인세자산</td>\n",
       "      <td>12931226</td>\n",
       "    </tr>\n",
       "    <tr>\n",
       "      <th>8</th>\n",
       "      <td>060310</td>\n",
       "      <td>3S</td>\n",
       "      <td>292</td>\n",
       "      <td>특수 목적용 기계 제조업</td>\n",
       "      <td>기타유동자산</td>\n",
       "      <td>393165420</td>\n",
       "    </tr>\n",
       "    <tr>\n",
       "      <th>9</th>\n",
       "      <td>060310</td>\n",
       "      <td>3S</td>\n",
       "      <td>292</td>\n",
       "      <td>특수 목적용 기계 제조업</td>\n",
       "      <td>매각예정비유동자산</td>\n",
       "      <td>0</td>\n",
       "    </tr>\n",
       "    <tr>\n",
       "      <th>10</th>\n",
       "      <td>060310</td>\n",
       "      <td>3S</td>\n",
       "      <td>292</td>\n",
       "      <td>특수 목적용 기계 제조업</td>\n",
       "      <td>비유동자산</td>\n",
       "      <td>33376189495</td>\n",
       "    </tr>\n",
       "  </tbody>\n",
       "</table>\n",
       "</div>"
      ],
      "text/plain": [
       "      종목코드 회사명   업종            업종명          항목명      당기 1분기말\n",
       "1   060310  3S  292  특수 목적용 기계 제조업         유동자산  15466570449\n",
       "2   060310  3S  292  특수 목적용 기계 제조업     현금및현금성자산   4973422676\n",
       "3   060310  3S  292  특수 목적용 기계 제조업       단기금융상품     61396650\n",
       "4   060310  3S  292  특수 목적용 기계 제조업  매출채권 및 기타채권   3311932854\n",
       "5   060310  3S  292  특수 목적용 기계 제조업         재고자산   3078852402\n",
       "6   060310  3S  292  특수 목적용 기계 제조업       선급공사원가   3634869221\n",
       "7   060310  3S  292  특수 목적용 기계 제조업      당기법인세자산     12931226\n",
       "8   060310  3S  292  특수 목적용 기계 제조업       기타유동자산    393165420\n",
       "9   060310  3S  292  특수 목적용 기계 제조업    매각예정비유동자산            0\n",
       "10  060310  3S  292  특수 목적용 기계 제조업        비유동자산  33376189495"
      ]
     },
     "execution_count": 13,
     "metadata": {},
     "output_type": "execute_result"
    }
   ],
   "source": [
    "df.head(10)"
   ]
  },
  {
   "cell_type": "code",
   "execution_count": 14,
   "metadata": {},
   "outputs": [
    {
     "data": {
      "text/plain": [
       "(74495, 6)"
      ]
     },
     "execution_count": 14,
     "metadata": {},
     "output_type": "execute_result"
    }
   ],
   "source": [
    "df.shape"
   ]
  },
  {
   "cell_type": "code",
   "execution_count": 15,
   "metadata": {},
   "outputs": [
    {
     "data": {
      "text/plain": [
       "1701"
      ]
     },
     "execution_count": 15,
     "metadata": {},
     "output_type": "execute_result"
    }
   ],
   "source": [
    "df['종목코드'].nunique()"
   ]
  },
  {
   "cell_type": "code",
   "execution_count": 16,
   "metadata": {},
   "outputs": [],
   "source": [
    "df = df[df['항목명'].isin(['유동자산', '재고자산', '자산총계', '유동부채', '부채총계', '자본금', '이익잉여금', '자본총계'])]"
   ]
  },
  {
   "cell_type": "code",
   "execution_count": 17,
   "metadata": {},
   "outputs": [
    {
     "data": {
      "text/plain": [
       "1         True\n",
       "5         True\n",
       "20        True\n",
       "22        True\n",
       "35        True\n",
       "         ...  \n",
       "80805    False\n",
       "80818    False\n",
       "80821    False\n",
       "80825    False\n",
       "80827    False\n",
       "Name: 회사명, Length: 13384, dtype: bool"
      ]
     },
     "execution_count": 17,
     "metadata": {},
     "output_type": "execute_result"
    }
   ],
   "source": [
    " df['회사명'].isin(['3S'])"
   ]
  },
  {
   "cell_type": "code",
   "execution_count": 30,
   "metadata": {},
   "outputs": [
    {
     "name": "stdout",
     "output_type": "stream",
     "text": [
      "Collecting openpyxl\n",
      "  Using cached openpyxl-3.0.9-py2.py3-none-any.whl (242 kB)\n",
      "Collecting et-xmlfile\n",
      "  Downloading et_xmlfile-1.1.0-py3-none-any.whl (4.7 kB)\n",
      "Installing collected packages: et-xmlfile, openpyxl\n",
      "Successfully installed et-xmlfile-1.1.0 openpyxl-3.0.9\n"
     ]
    }
   ],
   "source": [
    "!pip install openpyxl"
   ]
  },
  {
   "cell_type": "code",
   "execution_count": null,
   "metadata": {},
   "outputs": [],
   "source": [
    "# comp_list = ['3S', '삼성전자']\n",
    "# for comp in comp_list:\n",
    "#     if df['회사명'].isin([comp]) = True:\n",
    "#     print(i)\n",
    "        \n",
    "# return df2 = df[df['회사명'].isin(['comp'])]"
   ]
  },
  {
   "cell_type": "code",
   "execution_count": 46,
   "metadata": {},
   "outputs": [],
   "source": [
    "company_name_df2 = pd.read_csv('/Users/kimhansaem/workspace/11.DataAnalysis/01.데이터분석/data/시총100.txt', sep='\\s+', header=None,\n",
    "                                names=['column_index', 'column_name'])"
   ]
  },
  {
   "cell_type": "code",
   "execution_count": 48,
   "metadata": {},
   "outputs": [
    {
     "name": "stdout",
     "output_type": "stream",
     "text": [
      "['삼성전자', 'LG에너지솔루션', 'SK하이닉스', '삼성전자우', 'NAVER', '삼성바이오로직스', '카카오', 'LG화학', '삼성SDI', '현대차', '기아', 'POSCO', 'KB금융', '카카오뱅크', '셀트리온', '현대모비스', '삼성물산', 'LG전자', '카카오페이', '신한지주']\n"
     ]
    }
   ],
   "source": [
    "company_names2 = company_name_df2['column_index'].values.tolist()\n",
    "print(company_names2[:20])"
   ]
  },
  {
   "cell_type": "code",
   "execution_count": 49,
   "metadata": {},
   "outputs": [
    {
     "data": {
      "text/html": [
       "<div>\n",
       "<style scoped>\n",
       "    .dataframe tbody tr th:only-of-type {\n",
       "        vertical-align: middle;\n",
       "    }\n",
       "\n",
       "    .dataframe tbody tr th {\n",
       "        vertical-align: top;\n",
       "    }\n",
       "\n",
       "    .dataframe thead th {\n",
       "        text-align: right;\n",
       "    }\n",
       "</style>\n",
       "<table border=\"1\" class=\"dataframe\">\n",
       "  <thead>\n",
       "    <tr style=\"text-align: right;\">\n",
       "      <th></th>\n",
       "      <th>종목코드</th>\n",
       "      <th>회사명</th>\n",
       "      <th>업종</th>\n",
       "      <th>업종명</th>\n",
       "      <th>항목명</th>\n",
       "      <th>당기 1분기말</th>\n",
       "    </tr>\n",
       "  </thead>\n",
       "  <tbody>\n",
       "    <tr>\n",
       "      <th>639</th>\n",
       "      <td>097950</td>\n",
       "      <td>CJ제일제당</td>\n",
       "      <td>107</td>\n",
       "      <td>기타 식품 제조업</td>\n",
       "      <td>유동자산</td>\n",
       "      <td>7980820347000</td>\n",
       "    </tr>\n",
       "    <tr>\n",
       "      <th>646</th>\n",
       "      <td>097950</td>\n",
       "      <td>CJ제일제당</td>\n",
       "      <td>107</td>\n",
       "      <td>기타 식품 제조업</td>\n",
       "      <td>재고자산</td>\n",
       "      <td>2174686813000</td>\n",
       "    </tr>\n",
       "    <tr>\n",
       "      <th>660</th>\n",
       "      <td>097950</td>\n",
       "      <td>CJ제일제당</td>\n",
       "      <td>107</td>\n",
       "      <td>기타 식품 제조업</td>\n",
       "      <td>자산총계</td>\n",
       "      <td>26752549924000</td>\n",
       "    </tr>\n",
       "  </tbody>\n",
       "</table>\n",
       "</div>"
      ],
      "text/plain": [
       "       종목코드     회사명   업종        업종명   항목명         당기 1분기말\n",
       "639  097950  CJ제일제당  107  기타 식품 제조업  유동자산   7980820347000\n",
       "646  097950  CJ제일제당  107  기타 식품 제조업  재고자산   2174686813000\n",
       "660  097950  CJ제일제당  107  기타 식품 제조업  자산총계  26752549924000"
      ]
     },
     "execution_count": 49,
     "metadata": {},
     "output_type": "execute_result"
    }
   ],
   "source": [
    "df_sample_re = df[df['회사명'].isin(company_names2)]\n",
    "df_sample_re.head(3)"
   ]
  },
  {
   "cell_type": "code",
   "execution_count": 50,
   "metadata": {},
   "outputs": [],
   "source": [
    "df_sample_re.to_excel('2020_1_시총100.xlsx')"
   ]
  },
  {
   "cell_type": "code",
   "execution_count": 51,
   "metadata": {},
   "outputs": [
    {
     "data": {
      "text/plain": [
       "종목코드        59\n",
       "회사명         59\n",
       "업종          36\n",
       "업종명         36\n",
       "항목명          8\n",
       "당기 1분기말    457\n",
       "dtype: int64"
      ]
     },
     "execution_count": 51,
     "metadata": {},
     "output_type": "execute_result"
    }
   ],
   "source": [
    "df_sample_re.nunique()"
   ]
  },
  {
   "cell_type": "code",
   "execution_count": null,
   "metadata": {},
   "outputs": [],
   "source": []
  }
 ],
 "metadata": {
  "interpreter": {
   "hash": "04e5506d0a4e9b5ba2132a3aa07250344199659efb36c7056053abdf16c05720"
  },
  "kernelspec": {
   "display_name": "Python 3.8.12 ('base')",
   "language": "python",
   "name": "python3"
  },
  "language_info": {
   "codemirror_mode": {
    "name": "ipython",
    "version": 3
   },
   "file_extension": ".py",
   "mimetype": "text/x-python",
   "name": "python",
   "nbconvert_exporter": "python",
   "pygments_lexer": "ipython3",
   "version": "3.8.12"
  },
  "orig_nbformat": 4
 },
 "nbformat": 4,
 "nbformat_minor": 2
}
